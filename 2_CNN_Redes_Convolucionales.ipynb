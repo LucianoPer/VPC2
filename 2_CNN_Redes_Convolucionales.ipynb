{
  "nbformat": 4,
  "nbformat_minor": 0,
  "metadata": {
    "colab": {
      "name": "2-CNN_Redes_Convolucionales.ipynb",
      "provenance": [],
      "collapsed_sections": [],
      "authorship_tag": "ABX9TyMos9fWQmc95FS8QG3a3NTT",
      "include_colab_link": true
    },
    "kernelspec": {
      "name": "python3",
      "display_name": "Python 3"
    },
    "accelerator": "GPU"
  },
  "cells": [
    {
      "cell_type": "markdown",
      "metadata": {
        "id": "view-in-github",
        "colab_type": "text"
      },
      "source": [
        "<a href=\"https://colab.research.google.com/github/LucianoPer/VPC2/blob/main/2_CNN_Redes_Convolucionales.ipynb\" target=\"_parent\"><img src=\"https://colab.research.google.com/assets/colab-badge.svg\" alt=\"Open In Colab\"/></a>"
      ]
    },
    {
      "cell_type": "markdown",
      "metadata": {
        "id": "JmrPs_i1VrEi"
      },
      "source": [
        "##CNN - Redes convolucionales implementadas en keras con modelos secuenciales"
      ]
    },
    {
      "cell_type": "markdown",
      "metadata": {
        "id": "jC_XvaDPYEk5"
      },
      "source": [
        "Vamos a crear una red neuronal convolucional para entrenar imagenes de numeros con el paquete de MNIST"
      ]
    },
    {
      "cell_type": "code",
      "metadata": {
        "id": "ovOV6gKxPe4T"
      },
      "source": [
        "from tensorflow.keras.models import Sequential\n",
        "from tensorflow.keras.layers import Conv2D, MaxPooling2D, Dense, Flatten\n",
        "from tensorflow.keras.utils import to_categorical\n",
        "from tensorflow import keras\n",
        "\n",
        "from keras.datasets import mnist\n",
        "\n",
        "import numpy as np\n",
        "import pandas as pd\n",
        "from matplotlib import pyplot as plt"
      ],
      "execution_count": null,
      "outputs": []
    },
    {
      "cell_type": "markdown",
      "metadata": {
        "id": "7uh0x18sah3L"
      },
      "source": [
        "**Convolucion**\n",
        "\n",
        "*Conv2D( numero_filtros, tamano_filtro , input_shape=(28, 28, 1))*\n",
        "\n",
        "**Pooling**\n",
        "\n",
        "*MaxPooling2D(pool_size)*\n",
        "\n"
      ]
    },
    {
      "cell_type": "code",
      "metadata": {
        "id": "Wo_epkdUYvgr"
      },
      "source": [
        "# VAMOS A CREAR UNA RED CONVOLUCIONAL SIMPLE CON UN MODELO SECUENCIAL DE KERAS\n",
        "# No utilizamos padding ni stride \n",
        "\n",
        "model = Sequential()\n",
        "model.add( Conv2D(8 ,kernel_size=(3,3), input_shape=(28,28,1)) )\n",
        "# Salida --->> 28 - 3 + 1 = 26 -->> [26x26x8]\n",
        "model.add( MaxPooling2D(pool_size=(2,2)))\n",
        "# Salida --->> 26 / 2 = 13 -->> [13x13x8]\n",
        "model.add( Flatten())\n",
        "# Salida --->> 13x13x8 = 1352\n",
        "model.add( Dense(10, activation = \"softmax\") )"
      ],
      "execution_count": null,
      "outputs": []
    },
    {
      "cell_type": "code",
      "metadata": {
        "colab": {
          "base_uri": "https://localhost:8080/"
        },
        "id": "TIzCPtkmcrA6",
        "outputId": "df2f8fea-bc7f-4844-e8ce-eb3c270c23f7"
      },
      "source": [
        "model.summary()"
      ],
      "execution_count": null,
      "outputs": [
        {
          "output_type": "stream",
          "text": [
            "Model: \"sequential\"\n",
            "_________________________________________________________________\n",
            "Layer (type)                 Output Shape              Param #   \n",
            "=================================================================\n",
            "conv2d (Conv2D)              (None, 26, 26, 8)         80        \n",
            "_________________________________________________________________\n",
            "max_pooling2d (MaxPooling2D) (None, 13, 13, 8)         0         \n",
            "_________________________________________________________________\n",
            "flatten (Flatten)            (None, 1352)              0         \n",
            "_________________________________________________________________\n",
            "dense (Dense)                (None, 10)                13530     \n",
            "=================================================================\n",
            "Total params: 13,610\n",
            "Trainable params: 13,610\n",
            "Non-trainable params: 0\n",
            "_________________________________________________________________\n"
          ],
          "name": "stdout"
        }
      ]
    },
    {
      "cell_type": "markdown",
      "metadata": {
        "id": "BcX_4zxwdkVB"
      },
      "source": [
        "###Cargamos las imagenes de MNIST para entrenar y evaluar nuestro modelo "
      ]
    },
    {
      "cell_type": "code",
      "metadata": {
        "colab": {
          "base_uri": "https://localhost:8080/"
        },
        "id": "sywW7I5advQp",
        "outputId": "c1374ee9-f8f2-4a6f-9712-8297db8d80c2"
      },
      "source": [
        "# CARGA DEL DATASET \n",
        "( X_train, y_train ), ( X_test, y_test ) = mnist.load_data()\n",
        "\n",
        "# 60 mil imagenes de 28x28x1 (grises) / 10 mil imagenes para test\n",
        "print('Train Shape : ',X_train.shape)\n",
        "print('Test Shape : ',X_test.shape)"
      ],
      "execution_count": null,
      "outputs": [
        {
          "output_type": "stream",
          "text": [
            "Downloading data from https://storage.googleapis.com/tensorflow/tf-keras-datasets/mnist.npz\n",
            "11493376/11490434 [==============================] - 0s 0us/step\n",
            "Train Shape :  (60000, 28, 28)\n",
            "Test Shape :  (10000, 28, 28)\n"
          ],
          "name": "stdout"
        }
      ]
    },
    {
      "cell_type": "code",
      "metadata": {
        "id": "82mYzNaUjL3V"
      },
      "source": [
        "# Definimos una funcion que grafique las primeras imagenes\n",
        "def Plotear_Im(X_train):\n",
        "  for i in range(9):\n",
        "    # 331 --> primer imagen en matriz 3x3\n",
        "    plt.subplot(330+1+i)\n",
        "    plt.imshow(X_train[i] , cmap=plt.get_cmap('gray'))\n",
        "  plt.show()"
      ],
      "execution_count": null,
      "outputs": []
    },
    {
      "cell_type": "code",
      "metadata": {
        "colab": {
          "base_uri": "https://localhost:8080/",
          "height": 268
        },
        "id": "LXMXDD6_kbkb",
        "outputId": "7b7d825e-6fb4-4f2b-8a30-e15f293695fd"
      },
      "source": [
        "Plotear_Im(X_train)"
      ],
      "execution_count": null,
      "outputs": [
        {
          "output_type": "display_data",
          "data": {
            "image/png": "[encoded data removed]",
            "text/plain": [
              "<Figure size 432x288 with 9 Axes>"
            ]
          },
          "metadata": {
            "tags": [],
            "needs_background": "light"
          }
        }
      ]
    },
    {
      "cell_type": "markdown",
      "metadata": {
        "id": "1vyZ8Y46W_pc"
      },
      "source": [
        "**Normalizacion** de los valores de la imagen : Los pixeles de las imagenes toman valores de 0 a 255. Al normalizarlos estos tomaran valores de 0 a 1, y si luego restamos 0.5, estamos haciendo que le media valga cero y la varianza 1. Al hacer esto logramos reducir el tiempo de computo  y mejorar la convergencia a mejores minimos logrando que ningun elemento de la activacion sea mas dominante que otro. "
      ]
    },
    {
      "cell_type": "code",
      "metadata": {
        "id": "AwR7NDymoq8z"
      },
      "source": [
        "# Normalizamos las imagenes y las centramos \n",
        "X_train_n = (X_train/255) - 0.5\n",
        "X_test_n = (X_test/255) - 0.5"
      ],
      "execution_count": null,
      "outputs": []
    },
    {
      "cell_type": "code",
      "metadata": {
        "colab": {
          "base_uri": "https://localhost:8080/"
        },
        "id": "SU54lWFTYr1S",
        "outputId": "e20a2632-0984-4fc8-dc50-7f34a225968d"
      },
      "source": [
        "# Hacemos un reshape para que las imagenes tengan una dimension mas indicando el canal [28x28] --->>> [28x28x1]\n",
        "X_train_n = X_train_n.reshape((X_train_n.shape[0],28,28,1))\n",
        "X_test_n = X_test_n.reshape((X_test_n.shape[0],28,28,1))\n",
        "X_train_n.shape"
      ],
      "execution_count": null,
      "outputs": [
        {
          "output_type": "execute_result",
          "data": {
            "text/plain": [
              "(60000, 28, 28, 1)"
            ]
          },
          "metadata": {
            "tags": []
          },
          "execution_count": 8
        }
      ]
    },
    {
      "cell_type": "markdown",
      "metadata": {
        "id": "nWq7Sli6cMnl"
      },
      "source": [
        "Transformamos los valores numericos de la salida (target) a ONE-HOT Encoding, Esto lo hacemos para romper la relacion de orden que tiene el target, ya que son valores enteros (1,2,3,4,5....) y asi evitar que nuestro modelo aprenda esa relacion de orden, y forzarlo a aprender una etiqueta que no posee orden general. De otro modo nuestro modelo podria ser sensible al orden del target lo cual no seria correcto para clasificar imagenes aleatorias. "
      ]
    },
    {
      "cell_type": "code",
      "metadata": {
        "id": "v2do7nhlapzK"
      },
      "source": [
        "# Transformamos el target a variables categoricas ONE HOT ENCODING\n",
        "y_train_cat = to_categorical(y_train)\n",
        "y_test_cat = to_categorical(y_test)\n"
      ],
      "execution_count": null,
      "outputs": []
    },
    {
      "cell_type": "markdown",
      "metadata": {
        "id": "GTLL0Xp1aVri"
      },
      "source": [
        "###Entrenamiento del modelo"
      ]
    },
    {
      "cell_type": "code",
      "metadata": {
        "id": "qKQqofjhe8_0"
      },
      "source": [
        "model.compile( 'adam', loss='categorical_crossentropy', metrics=['accuracy'])"
      ],
      "execution_count": null,
      "outputs": []
    },
    {
      "cell_type": "code",
      "metadata": {
        "colab": {
          "base_uri": "https://localhost:8080/"
        },
        "id": "Fj5xnlAsaVE8",
        "outputId": "a38e37b5-61a7-4079-ff5e-8fbae84ee140"
      },
      "source": [
        "model.fit(X_train_n,y_train_cat,epochs=10,validation_data=(X_test_n,y_test_cat))"
      ],
      "execution_count": null,
      "outputs": [
        {
          "output_type": "stream",
          "text": [
            "Epoch 1/10\n",
            "1875/1875 [==============================] - 5s 3ms/step - loss: 0.3465 - accuracy: 0.9000 - val_loss: 0.1880 - val_accuracy: 0.9465\n",
            "Epoch 2/10\n",
            "1875/1875 [==============================] - 5s 2ms/step - loss: 0.1646 - accuracy: 0.9526 - val_loss: 0.1346 - val_accuracy: 0.9604\n",
            "Epoch 3/10\n",
            "1875/1875 [==============================] - 5s 2ms/step - loss: 0.1188 - accuracy: 0.9663 - val_loss: 0.1022 - val_accuracy: 0.9695\n",
            "Epoch 4/10\n",
            "1875/1875 [==============================] - 5s 3ms/step - loss: 0.0961 - accuracy: 0.9731 - val_loss: 0.0931 - val_accuracy: 0.9724\n",
            "Epoch 5/10\n",
            "1875/1875 [==============================] - 5s 2ms/step - loss: 0.0834 - accuracy: 0.9762 - val_loss: 0.0827 - val_accuracy: 0.9743\n",
            "Epoch 6/10\n",
            "1875/1875 [==============================] - 5s 2ms/step - loss: 0.0742 - accuracy: 0.9781 - val_loss: 0.0843 - val_accuracy: 0.9732\n",
            "Epoch 7/10\n",
            "1875/1875 [==============================] - 5s 2ms/step - loss: 0.0671 - accuracy: 0.9805 - val_loss: 0.0782 - val_accuracy: 0.9763\n",
            "Epoch 8/10\n",
            "1875/1875 [==============================] - 5s 2ms/step - loss: 0.0611 - accuracy: 0.9821 - val_loss: 0.0773 - val_accuracy: 0.9751\n",
            "Epoch 9/10\n",
            "1875/1875 [==============================] - 5s 2ms/step - loss: 0.0570 - accuracy: 0.9829 - val_loss: 0.0744 - val_accuracy: 0.9783\n",
            "Epoch 10/10\n",
            "1875/1875 [==============================] - 5s 3ms/step - loss: 0.0533 - accuracy: 0.9841 - val_loss: 0.0758 - val_accuracy: 0.9779\n"
          ],
          "name": "stdout"
        },
        {
          "output_type": "execute_result",
          "data": {
            "text/plain": [
              "<tensorflow.python.keras.callbacks.History at 0x7fd17d930ba8>"
            ]
          },
          "metadata": {
            "tags": []
          },
          "execution_count": 12
        }
      ]
    },
    {
      "cell_type": "code",
      "metadata": {
        "colab": {
          "base_uri": "https://localhost:8080/",
          "height": 305
        },
        "id": "XhYBTQ38fP7k",
        "outputId": "01af16ef-7ac7-4dbb-9731-ccdb3c5ecce6"
      },
      "source": [
        "print('Valores Reales : ',y_test[0:9])\n",
        "predicciones = model.predict(X_test_n[:9])\n",
        "print('Predicciones : ',np.argmax(predicciones, axis=1))\n",
        "Plotear_Im(X_test[:9])"
      ],
      "execution_count": null,
      "outputs": [
        {
          "output_type": "stream",
          "text": [
            "Valores Reales :  [7 2 1 0 4 1 4 9 5]\n",
            "Predicciones :  [7 2 1 0 4 1 4 9 5]\n"
          ],
          "name": "stdout"
        },
        {
          "output_type": "display_data",
          "data": {
            "image/png": "[encoded data removed]",
            "text/plain": [
              "<Figure size 432x288 with 9 Axes>"
            ]
          },
          "metadata": {
            "tags": [],
            "needs_background": "light"
          }
        }
      ]
    },
    {
      "cell_type": "markdown",
      "metadata": {
        "id": "S5xHzyrggwYu"
      },
      "source": [
        "##2-  Creamos otro Modelo con mas capas convolucionales y exploramos las capas internas "
      ]
    },
    {
      "cell_type": "code",
      "metadata": {
        "id": "lgW_3fcgg83S"
      },
      "source": [
        "model2 = Sequential()\n",
        "model2.add(Conv2D(8 , kernel_size=(3,3), input_shape=(28,28,1)))\n",
        "# Salida ---> 28 - 3 + 1 = 26x26x8\n",
        "model2.add(MaxPooling2D(pool_size=(2,2)))\n",
        "# Salida ----> 13x13x8\n",
        "model2.add(Conv2D(16, kernel_size=(3,3)))\n",
        "# Salida ---> 13 - 3 + 1 = 11x11x16\n",
        "model2.add(MaxPooling2D(pool_size=(2,2)))\n",
        "# Salida ---> 5x5x16\n",
        "model2.add(Conv2D(32, kernel_size=(3,3)))\n",
        "# Salida ---> 5 - 3 + 1 =3x3x32\n",
        "model2.add(MaxPooling2D(pool_size=(2,2)))\n",
        "# Salida ---> 1x1x32\n",
        "model2.add(Flatten())\n",
        "# salida ---> 32\n",
        "model2.add(Dense(10 , activation= 'softmax'))"
      ],
      "execution_count": null,
      "outputs": []
    },
    {
      "cell_type": "code",
      "metadata": {
        "colab": {
          "base_uri": "https://localhost:8080/"
        },
        "id": "XfNU3p9Fme50",
        "outputId": "06fc54b6-f98d-4d55-9ef8-5c89ebae0b11"
      },
      "source": [
        "model2.summary()"
      ],
      "execution_count": null,
      "outputs": [
        {
          "output_type": "stream",
          "text": [
            "Model: \"sequential_1\"\n",
            "_________________________________________________________________\n",
            "Layer (type)                 Output Shape              Param #   \n",
            "=================================================================\n",
            "conv2d_1 (Conv2D)            (None, 26, 26, 8)         80        \n",
            "_________________________________________________________________\n",
            "max_pooling2d_1 (MaxPooling2 (None, 13, 13, 8)         0         \n",
            "_________________________________________________________________\n",
            "conv2d_2 (Conv2D)            (None, 11, 11, 16)        1168      \n",
            "_________________________________________________________________\n",
            "max_pooling2d_2 (MaxPooling2 (None, 5, 5, 16)          0         \n",
            "_________________________________________________________________\n",
            "conv2d_3 (Conv2D)            (None, 3, 3, 32)          4640      \n",
            "_________________________________________________________________\n",
            "max_pooling2d_3 (MaxPooling2 (None, 1, 1, 32)          0         \n",
            "_________________________________________________________________\n",
            "flatten_1 (Flatten)          (None, 32)                0         \n",
            "_________________________________________________________________\n",
            "dense_1 (Dense)              (None, 10)                330       \n",
            "=================================================================\n",
            "Total params: 6,218\n",
            "Trainable params: 6,218\n",
            "Non-trainable params: 0\n",
            "_________________________________________________________________\n"
          ],
          "name": "stdout"
        }
      ]
    },
    {
      "cell_type": "code",
      "metadata": {
        "id": "nJh3Ju5lmh_i"
      },
      "source": [
        "model2.compile(optimizer='adam',loss='categorical_crossentropy',metrics=['accuracy'])"
      ],
      "execution_count": null,
      "outputs": []
    },
    {
      "cell_type": "code",
      "metadata": {
        "colab": {
          "base_uri": "https://localhost:8080/"
        },
        "id": "NpxqjVm-nAcw",
        "outputId": "3e87cc5a-fbc6-4e19-b24a-b6d10d572ecb"
      },
      "source": [
        "model2.fit(X_train_n,y_train_cat,epochs=10, validation_data=(X_test_n,y_test_cat))"
      ],
      "execution_count": null,
      "outputs": [
        {
          "output_type": "stream",
          "text": [
            "Epoch 1/10\n",
            "1875/1875 [==============================] - 6s 3ms/step - loss: 0.3104 - accuracy: 0.9048 - val_loss: 0.1371 - val_accuracy: 0.9596\n",
            "Epoch 2/10\n",
            "1875/1875 [==============================] - 6s 3ms/step - loss: 0.1220 - accuracy: 0.9626 - val_loss: 0.0949 - val_accuracy: 0.9705\n",
            "Epoch 3/10\n",
            "1875/1875 [==============================] - 6s 3ms/step - loss: 0.0942 - accuracy: 0.9717 - val_loss: 0.0859 - val_accuracy: 0.9737\n",
            "Epoch 4/10\n",
            "1875/1875 [==============================] - 6s 3ms/step - loss: 0.0804 - accuracy: 0.9750 - val_loss: 0.0774 - val_accuracy: 0.9756\n",
            "Epoch 5/10\n",
            "1875/1875 [==============================] - 6s 3ms/step - loss: 0.0704 - accuracy: 0.9787 - val_loss: 0.0832 - val_accuracy: 0.9763\n",
            "Epoch 6/10\n",
            "1875/1875 [==============================] - 6s 3ms/step - loss: 0.0646 - accuracy: 0.9796 - val_loss: 0.0706 - val_accuracy: 0.9785\n",
            "Epoch 7/10\n",
            "1875/1875 [==============================] - 6s 3ms/step - loss: 0.0588 - accuracy: 0.9811 - val_loss: 0.0666 - val_accuracy: 0.9800\n",
            "Epoch 8/10\n",
            "1875/1875 [==============================] - 6s 3ms/step - loss: 0.0538 - accuracy: 0.9832 - val_loss: 0.0707 - val_accuracy: 0.9800\n",
            "Epoch 9/10\n",
            "1875/1875 [==============================] - 6s 3ms/step - loss: 0.0501 - accuracy: 0.9843 - val_loss: 0.0641 - val_accuracy: 0.9811\n",
            "Epoch 10/10\n",
            "1875/1875 [==============================] - 5s 3ms/step - loss: 0.0467 - accuracy: 0.9854 - val_loss: 0.0630 - val_accuracy: 0.9816\n"
          ],
          "name": "stdout"
        },
        {
          "output_type": "execute_result",
          "data": {
            "text/plain": [
              "<tensorflow.python.keras.callbacks.History at 0x7fd1844f7fd0>"
            ]
          },
          "metadata": {
            "tags": []
          },
          "execution_count": 17
        }
      ]
    },
    {
      "cell_type": "code",
      "metadata": {
        "colab": {
          "base_uri": "https://localhost:8080/",
          "height": 305
        },
        "id": "1LwJy67bngEm",
        "outputId": "7719cc81-e021-4789-fbe2-c06901bdab15"
      },
      "source": [
        "print('Valores Reales : ',y_test[9:18])\n",
        "predicciones = model2.predict(X_test_n[9:18])\n",
        "Plotear_Im(X_test[9:18])\n",
        "print('Predicciones : ',np.argmax(predicciones, axis=1))\n"
      ],
      "execution_count": null,
      "outputs": [
        {
          "output_type": "stream",
          "text": [
            "Valores Reales :  [9 0 6 9 0 1 5 9 7]\n"
          ],
          "name": "stdout"
        },
        {
          "output_type": "display_data",
          "data": {
            "image/png": "[encoded data removed]",
            "text/plain": [
              "<Figure size 432x288 with 9 Axes>"
            ]
          },
          "metadata": {
            "tags": [],
            "needs_background": "light"
          }
        },
        {
          "output_type": "stream",
          "text": [
            "Predicciones :  [9 0 6 9 0 1 5 9 7]\n"
          ],
          "name": "stdout"
        }
      ]
    },
    {
      "cell_type": "markdown",
      "metadata": {
        "id": "Udns4OHQonKt"
      },
      "source": [
        "## Inspeccionamos que ocurre con las imagenes luego de pasar por las capas convolucionales "
      ]
    },
    {
      "cell_type": "code",
      "metadata": {
        "id": "O_SZX55KovjM"
      },
      "source": [
        "# DEFINIMOS UNA FUNCION QUE CREA UN MODELO TRUNCADO EN LA CAPA QUE QUEREMOS INSPECCIONAR CON LOS PESOS DEL MODELO YA ENTRENADO ANTERIORMENTE\n",
        "def truncate_model(trained_model):\n",
        "  model = Sequential()\n",
        "  # La siguiente capa es la que observaremos\n",
        "  model.add(Conv2D(8,kernel_size=(3,3), input_shape=(28,28,1)))\n",
        "  # obtenemos los pesos del modelo entrenado y lo seteamos a las capas de nuestro modelo truncado\n",
        "  for i, layer in enumerate(model.layers):\n",
        "    layer.set_weights(trained_model.layers[i].get_weights()) \n",
        "  # Compilamos y retornamos el modelo truncado\n",
        "  model.compile(optimizer='adam', loss='categorizal_crossentropy',metrics=['accuracy'])\n",
        " \n",
        "  return model"
      ],
      "execution_count": null,
      "outputs": []
    },
    {
      "cell_type": "code",
      "metadata": {
        "colab": {
          "base_uri": "https://localhost:8080/"
        },
        "id": "scj7Ia91qoXE",
        "outputId": "3b14f0a3-2bd5-4d90-dd92-6b05f80f1a34"
      },
      "source": [
        "# Creamos nuestro modelo truncado en la primer capa convolucional para observar las imagenes\n",
        "truncated_model = truncate_model(model2)\n",
        "hidden_features =  truncated_model.predict(X_test_n[9:18])\n",
        "\n",
        "print('Dimension de salida de la capa convolucional ',hidden_features.shape)"
      ],
      "execution_count": null,
      "outputs": [
        {
          "output_type": "stream",
          "text": [
            "Dimension de salida de la capa convolucional  (9, 26, 26, 8)\n"
          ],
          "name": "stdout"
        }
      ]
    },
    {
      "cell_type": "code",
      "metadata": {
        "colab": {
          "base_uri": "https://localhost:8080/",
          "height": 268
        },
        "id": "pIoK792HrSig",
        "outputId": "30e2a790-f3a9-447e-aecd-e71472a7a4a0"
      },
      "source": [
        "# Ploteamos las imagenes luego de la primer convolucion\n",
        "for i in range(8):\n",
        "\tplt.subplot(330 + 1 + i)\n",
        "\tplt.imshow(hidden_features[0,:,:,i], cmap=plt.get_cmap('gray'))\n",
        "plt.show()"
      ],
      "execution_count": null,
      "outputs": [
        {
          "output_type": "display_data",
          "data": {
            "image/png": "[encoded data removed]",
            "text/plain": [
              "<Figure size 432x288 with 8 Axes>"
            ]
          },
          "metadata": {
            "tags": [],
            "needs_background": "light"
          }
        }
      ]
    },
    {
      "cell_type": "markdown",
      "metadata": {
        "id": "WYiBZyiysbWc"
      },
      "source": [
        "Agregamos una capa de pooling y una convolucional y observamos nuevamente que ocurre con la salida, Se podran observar los filtros para detectar bordes"
      ]
    },
    {
      "cell_type": "code",
      "metadata": {
        "id": "Lry1w-Sfsm69"
      },
      "source": [
        "# Agregamos una capa convolucional mas \n",
        "def truncated_model2(trained_model):\n",
        "   model = Sequential()\n",
        "   model.add(Conv2D(8,kernel_size=(3,3),input_shape = (28,28,1))) \n",
        "   model.add(MaxPooling2D(pool_size=(2,2)))\n",
        "   model.add(Conv2D(16,kernel_size=(3,3)))\n",
        "   \n",
        "   for i, layer in enumerate(model.layers):\n",
        "      layer.set_weights(trained_model.layers[i].get_weights())\n",
        " \n",
        "   model.compile(optimizer='adam', loss='categorical_crossentropy', metrics=['accuracy'])\n",
        "   return model"
      ],
      "execution_count": null,
      "outputs": []
    },
    {
      "cell_type": "code",
      "metadata": {
        "id": "1pzPxXjnsuyk"
      },
      "source": [
        "truncated_model2 = truncated_model2(model2)\n",
        "hidden_features2 = truncated_model2.predict(X_test_n[9:18])"
      ],
      "execution_count": null,
      "outputs": []
    },
    {
      "cell_type": "code",
      "metadata": {
        "colab": {
          "base_uri": "https://localhost:8080/"
        },
        "id": "l4y1mFk2tDZ0",
        "outputId": "beae66af-f2cf-49f4-e290-99c5bb4b360d"
      },
      "source": [
        "print('Dimension de salida de la segunda capa convolucional ',hidden_features2.shape)"
      ],
      "execution_count": null,
      "outputs": [
        {
          "output_type": "stream",
          "text": [
            "Dimension de salida de la segunda capa convolucional  (9, 11, 11, 16)\n"
          ],
          "name": "stdout"
        }
      ]
    },
    {
      "cell_type": "code",
      "metadata": {
        "colab": {
          "base_uri": "https://localhost:8080/",
          "height": 266
        },
        "id": "ronMIk7htHaF",
        "outputId": "ef57cd91-b0ea-43b0-8744-2039b0b3a638"
      },
      "source": [
        "for i in range(8):\n",
        "\tplt.subplot(330 + 1 + i)\n",
        "\tplt.imshow(hidden_features2[0,:,:,i], cmap=plt.get_cmap('gray'))\n",
        "plt.show()"
      ],
      "execution_count": null,
      "outputs": [
        {
          "output_type": "display_data",
          "data": {
            "image/png": "[encoded data removed]",
            "text/plain": [
              "<Figure size 432x288 with 8 Axes>"
            ]
          },
          "metadata": {
            "tags": [],
            "needs_background": "light"
          }
        }
      ]
    },
    {
      "cell_type": "markdown",
      "metadata": {
        "id": "GUd-Ky4IQ0J7"
      },
      "source": [
        "Veamos que diferencia hay si a las **capas convolucionales** le agregamos una **activacion 'relu'**. Hay variacion en las imagenes de salida ?"
      ]
    },
    {
      "cell_type": "code",
      "metadata": {
        "id": "wklD-g5NQzxx"
      },
      "source": [
        "model3 = Sequential()\n",
        "model3.add(Conv2D(8 , kernel_size=(3,3), input_shape=(28,28,1), activation='relu'))\n",
        "# Salida ---> 28 - 3 + 1 = 26x26x8\n",
        "model3.add(MaxPooling2D(pool_size=(2,2)))\n",
        "# Salida ----> 13x13x8\n",
        "model3.add(Conv2D(16, kernel_size=(3,3), activation='relu'))\n",
        "# Salida ---> 13 - 3 + 1 = 11x11x16\n",
        "model3.add(MaxPooling2D(pool_size=(2,2)))\n",
        "# Salida ---> 5x5x16\n",
        "model3.add(Conv2D(32, kernel_size=(3,3),activation='relu'))\n",
        "# Salida ---> 5 - 3 + 1 =3x3x32\n",
        "model3.add(MaxPooling2D(pool_size=(2,2)))\n",
        "# Salida ---> 1x1x32\n",
        "model3.add(Flatten())\n",
        "# salida ---> 32\n",
        "model3.add(Dense(10 , activation= 'softmax'))"
      ],
      "execution_count": null,
      "outputs": []
    },
    {
      "cell_type": "code",
      "metadata": {
        "colab": {
          "base_uri": "https://localhost:8080/"
        },
        "id": "GT-IhVnMRUmF",
        "outputId": "ccf75a9b-5510-4405-d4c0-977667fb0b92"
      },
      "source": [
        "model3.compile(optimizer='adam',loss='categorical_crossentropy',metrics=['accuracy'])\n",
        "model3.fit(X_train_n,y_train_cat,epochs=10, validation_data=(X_test_n,y_test_cat))"
      ],
      "execution_count": null,
      "outputs": [
        {
          "output_type": "stream",
          "text": [
            "Epoch 1/10\n",
            "1875/1875 [==============================] - 5s 3ms/step - loss: 0.3606 - accuracy: 0.8893 - val_loss: 0.1280 - val_accuracy: 0.9593\n",
            "Epoch 2/10\n",
            "1875/1875 [==============================] - 5s 3ms/step - loss: 0.1203 - accuracy: 0.9633 - val_loss: 0.1073 - val_accuracy: 0.9689\n",
            "Epoch 3/10\n",
            "1875/1875 [==============================] - 5s 3ms/step - loss: 0.0936 - accuracy: 0.9705 - val_loss: 0.0826 - val_accuracy: 0.9734\n",
            "Epoch 4/10\n",
            "1875/1875 [==============================] - 5s 3ms/step - loss: 0.0804 - accuracy: 0.9749 - val_loss: 0.0835 - val_accuracy: 0.9749\n",
            "Epoch 5/10\n",
            "1875/1875 [==============================] - 5s 3ms/step - loss: 0.0716 - accuracy: 0.9778 - val_loss: 0.0911 - val_accuracy: 0.9723\n",
            "Epoch 6/10\n",
            "1875/1875 [==============================] - 5s 3ms/step - loss: 0.0642 - accuracy: 0.9801 - val_loss: 0.0685 - val_accuracy: 0.9800\n",
            "Epoch 7/10\n",
            "1875/1875 [==============================] - 5s 3ms/step - loss: 0.0593 - accuracy: 0.9813 - val_loss: 0.0621 - val_accuracy: 0.9815\n",
            "Epoch 8/10\n",
            "1875/1875 [==============================] - 5s 3ms/step - loss: 0.0534 - accuracy: 0.9829 - val_loss: 0.0625 - val_accuracy: 0.9816\n",
            "Epoch 9/10\n",
            "1875/1875 [==============================] - 5s 3ms/step - loss: 0.0499 - accuracy: 0.9844 - val_loss: 0.0611 - val_accuracy: 0.9820\n",
            "Epoch 10/10\n",
            "1875/1875 [==============================] - 5s 3ms/step - loss: 0.0457 - accuracy: 0.9858 - val_loss: 0.0588 - val_accuracy: 0.9832\n"
          ],
          "name": "stdout"
        },
        {
          "output_type": "execute_result",
          "data": {
            "text/plain": [
              "<tensorflow.python.keras.callbacks.History at 0x7fdef0e90780>"
            ]
          },
          "metadata": {
            "tags": []
          },
          "execution_count": 12
        }
      ]
    },
    {
      "cell_type": "code",
      "metadata": {
        "id": "tsiNdF4XShg1"
      },
      "source": [
        "# DEFINIMOS UNA FUNCION QUE CREA UN MODELO TRUNCADO EN LA CAPA QUE QUEREMOS INSPECCIONAR CON LOS PESOS DEL MODELO YA ENTRENADO ANTERIORMENTE\n",
        "def truncate_model3(trained_model):\n",
        "  model = Sequential()\n",
        "  # La siguiente capa es la que observaremos\n",
        "  model.add(Conv2D(8,kernel_size=(3,3), input_shape=(28,28,1), activation='relu'))\n",
        "  #model.add(MaxPooling2D(pool_size=(2,2)))\n",
        "  #model.add(Conv2D(16, kernel_size=(3,3), activation='relu'))\n",
        "\n",
        "  # obtenemos los pesos del modelo entrenado y lo seteamos a las capas de nuestro modelo truncado\n",
        "  for i, layer in enumerate(model.layers):\n",
        "    layer.set_weights(trained_model.layers[i].get_weights()) \n",
        "  # Compilamos y retornamos el modelo truncado\n",
        "  model.compile(optimizer='adam', loss='categorizal_crossentropy',metrics=['accuracy'])\n",
        " \n",
        "  return model"
      ],
      "execution_count": null,
      "outputs": []
    },
    {
      "cell_type": "code",
      "metadata": {
        "id": "3r_rgxMMSDvT"
      },
      "source": [
        "# Creamos nuestro modelo truncado en la primer capa convolucional para observar las imagenes\n",
        "truncated_model = truncate_model3(model3)\n",
        "hidden_features =  truncated_model.predict(X_test_n[9:18])"
      ],
      "execution_count": null,
      "outputs": []
    },
    {
      "cell_type": "code",
      "metadata": {
        "colab": {
          "base_uri": "https://localhost:8080/",
          "height": 268
        },
        "id": "xqhyz4HBSERW",
        "outputId": "79c9be36-799d-4961-9419-387e8d0641ee"
      },
      "source": [
        "# Ploteamos las imagenes luego de la primer convolucion\n",
        "for i in range(8):\n",
        "\tplt.subplot(330 + 1 + i)\n",
        "\tplt.imshow(hidden_features[0,:,:,i], cmap=plt.get_cmap('gray'))\n",
        "plt.show()"
      ],
      "execution_count": null,
      "outputs": [
        {
          "output_type": "display_data",
          "data": {
            "image/png": "[encoded data removed]",
            "text/plain": [
              "<Figure size 432x288 with 8 Axes>"
            ]
          },
          "metadata": {
            "tags": [],
            "needs_background": "light"
          }
        }
      ]
    },
    {
      "cell_type": "markdown",
      "metadata": {
        "id": "ef9HyOpjTlrW"
      },
      "source": [
        ""
      ]
    },
    {
      "cell_type": "markdown",
      "metadata": {
        "id": "cw27TRJn472J"
      },
      "source": [
        "###**Entrenando Redes convolucionales para identificar señas**"
      ]
    },
    {
      "cell_type": "markdown",
      "metadata": {
        "id": "AY4fQpVm5OGP"
      },
      "source": [
        "Para emtrenar esta red necesitamos cargar el archivo que contiene las imagenes de manos con diferentes señas, donde cada uno representa un numero. "
      ]
    },
    {
      "cell_type": "code",
      "metadata": {
        "colab": {
          "resources": {
            "http://localhost:8080/nbextensions/google.colab/files.js": {
              "data": "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",
              "ok": true,
              "headers": [
                [
                  "content-type",
                  "application/javascript"
                ]
              ],
              "status": 200,
              "status_text": ""
            }
          },
          "base_uri": "https://localhost:8080/",
          "height": 73
        },
        "id": "T2ISuhfC6c6V",
        "outputId": "edccac5d-b110-4c72-c7a4-67bea8cd9c48"
      },
      "source": [
        "# CARGAR EL ARCHIVO ZIP QUE CONTIENE LAS IMAGENES\n",
        "from google.colab import files\n",
        "uploaded = files.upload()"
      ],
      "execution_count": null,
      "outputs": [
        {
          "output_type": "display_data",
          "data": {
            "text/html": [
              "\n",
              "     <input type=\"file\" id=\"files-0ee7c84b-0f94-4567-a81e-41d5edd44cfe\" name=\"files[]\" multiple disabled\n",
              "        style=\"border:none\" />\n",
              "     <output id=\"result-0ee7c84b-0f94-4567-a81e-41d5edd44cfe\">\n",
              "      Upload widget is only available when the cell has been executed in the\n",
              "      current browser session. Please rerun this cell to enable.\n",
              "      </output>\n",
              "      <script src=\"/nbextensions/google.colab/files.js\"></script> "
            ],
            "text/plain": [
              "<IPython.core.display.HTML object>"
            ]
          },
          "metadata": {
            "tags": []
          }
        },
        {
          "output_type": "stream",
          "text": [
            "Saving dataset.zip to dataset.zip\n"
          ],
          "name": "stdout"
        }
      ]
    },
    {
      "cell_type": "code",
      "metadata": {
        "colab": {
          "base_uri": "https://localhost:8080/"
        },
        "id": "V2FfRbkk61H-",
        "outputId": "e333bde2-57d0-476e-c1d4-40f0786e7b64"
      },
      "source": [
        "# Descomprimimos el zip \n",
        "!unzip dataset.zip"
      ],
      "execution_count": null,
      "outputs": [
        {
          "output_type": "stream",
          "text": [
            "Archive:  dataset.zip\n",
            "  inflating: cnn_utils.py            \n",
            "   creating: datasets/\n",
            "  inflating: datasets/test_signs.h5  \n",
            "  inflating: datasets/train_signs.h5  \n"
          ],
          "name": "stdout"
        }
      ]
    },
    {
      "cell_type": "code",
      "metadata": {
        "id": "HsBAZlmS7F71"
      },
      "source": [
        "# Cargamos los datasets \n",
        "from cnn_utils import *\n",
        "X_train_orig, y_train_orig, X_test_orig, y_test_orig, classes =  load_dataset()"
      ],
      "execution_count": null,
      "outputs": []
    },
    {
      "cell_type": "code",
      "metadata": {
        "colab": {
          "base_uri": "https://localhost:8080/"
        },
        "id": "iIb0ZKuL7wvH",
        "outputId": "39615fb3-b3a1-465a-ea3f-2aa513331591"
      },
      "source": [
        "print('dimension dataset de train :',X_train_orig.shape)\n",
        "print('dimension dataset de test :',X_test_orig.shape)"
      ],
      "execution_count": null,
      "outputs": [
        {
          "output_type": "stream",
          "text": [
            "dimension dataset de train : (1080, 64, 64, 3)\n",
            "dimension dataset de test : (120, 64, 64, 3)\n"
          ],
          "name": "stdout"
        }
      ]
    },
    {
      "cell_type": "code",
      "metadata": {
        "colab": {
          "base_uri": "https://localhost:8080/",
          "height": 269
        },
        "id": "j3tIWUt78Bf7",
        "outputId": "20a15806-c3f5-4e9f-ec90-66f00188f920"
      },
      "source": [
        "Plotear_Im(X_test_orig[:9,:,:,:])"
      ],
      "execution_count": null,
      "outputs": [
        {
          "output_type": "display_data",
          "data": {
            "image/png": "[encoded data removed]",
            "text/plain": [
              "<Figure size 432x288 with 9 Axes>"
            ]
          },
          "metadata": {
            "tags": [],
            "needs_background": "light"
          }
        }
      ]
    },
    {
      "cell_type": "markdown",
      "metadata": {
        "id": "ymPX-6Pv9_zr"
      },
      "source": [
        "Las imagenes corresponden a un dataset llamado SIGNS con seis digitos representando a numeros de 0 a 5."
      ]
    },
    {
      "cell_type": "code",
      "metadata": {
        "id": "-c6VBNfW-FXy"
      },
      "source": [
        "# Normalizamos los datos \n",
        "X_train_orig_n = X_train_orig/255\n",
        "X_test_orig_n = X_test_orig/255"
      ],
      "execution_count": null,
      "outputs": []
    },
    {
      "cell_type": "code",
      "metadata": {
        "colab": {
          "base_uri": "https://localhost:8080/"
        },
        "id": "JqAve7-X_q3k",
        "outputId": "5b94280b-2647-47a2-8e6d-d7c9b6a73df7"
      },
      "source": [
        "y_train_orig.shape"
      ],
      "execution_count": null,
      "outputs": [
        {
          "output_type": "execute_result",
          "data": {
            "text/plain": [
              "(1, 1080)"
            ]
          },
          "metadata": {
            "tags": []
          },
          "execution_count": 35
        }
      ]
    },
    {
      "cell_type": "code",
      "metadata": {
        "colab": {
          "base_uri": "https://localhost:8080/"
        },
        "id": "2AdmMgdU_yCk",
        "outputId": "dcd8dce0-ae19-43b0-83a6-4c8cdf21b586"
      },
      "source": [
        "# Debemos transponer y_train ya que es una matriz de 1x1080\n",
        "y_train_c = to_categorical(y_train_orig.T)\n",
        "y_test_c  = to_categorical(y_test_orig.T)\n",
        "print('Dimensiones de y train :',y_train_c.shape)\n",
        "print('Dimensiones de y test :',y_test_c.shape)"
      ],
      "execution_count": null,
      "outputs": [
        {
          "output_type": "stream",
          "text": [
            "Dimensiones de y train : (1080, 6)\n",
            "Dimensiones de y test : (120, 6)\n"
          ],
          "name": "stdout"
        }
      ]
    },
    {
      "cell_type": "markdown",
      "metadata": {
        "id": "W5bpLvkZA71_"
      },
      "source": [
        "###Parametros de las capas Convolucionales y de Pooling"
      ]
    },
    {
      "cell_type": "markdown",
      "metadata": {
        "id": "c7rHGczCBXGy"
      },
      "source": [
        "Capa Convolucional:\n",
        "\n",
        "`Conv2D(\n",
        "    filters, kernel_size, strides=(1, 1), padding='valid', data_format=None,\n",
        "    dilation_rate=(1, 1), groups=1, activation=None, use_bias=True,\n",
        "    kernel_initializer='glorot_uniform', bias_initializer='zeros',\n",
        "    kernel_regularizer=None, bias_regularizer=None, activity_regularizer=None,\n",
        "    kernel_constraint=None, bias_constraint=None, **kwargs\n",
        ")`\n",
        "\n",
        "\n",
        "Capa Max Pooling, la función tiene estos parámetros: \n",
        "\n",
        "`MaxPooling2D(\n",
        "    pool_size=(2, 2), strides=None, padding=\"valid\", data_format=None, **kwargs\n",
        ")`\n",
        "\n",
        "Capa Flatten:\n",
        "\n",
        "`Flatten(\n",
        "    data_format=None, **kwargs\n",
        ")`\n",
        "\n",
        "Capa Dense:\n",
        "\n",
        "`Dense(\n",
        "    units, activation=None, use_bias=True, kernel_initializer='glorot_uniform',\n",
        "    bias_initializer='zeros', kernel_regularizer=None, bias_regularizer=None,\n",
        "    activity_regularizer=None, kernel_constraint=None, bias_constraint=None,\n",
        "    **kwargs\n",
        ")`\n"
      ]
    },
    {
      "cell_type": "code",
      "metadata": {
        "id": "p_giFmsbBMXZ"
      },
      "source": [
        "model3 = Sequential()\n",
        "model3.add(Conv2D(8,kernel_size=(4,4), strides=1,padding='same',input_shape=(64,64,3),activation='relu'))\n",
        "# Salida --->(padding same agrega tantos ceros para que la salida sea igual a la entrada) --> 64x64x8\n",
        "model3.add(MaxPooling2D(pool_size=(8,8),strides=8,padding='same'))\n",
        "# Salida --> 64 -8 /8 + 1 = 8 --> 8x8x8\n",
        "model3.add(Conv2D(16,kernel_size=(2,2), strides=1,padding='same',input_shape=(64,64,3),activation='relu'))\n",
        "# Salida --->8x8x16\n",
        "model3.add(MaxPooling2D(pool_size=(4,4),strides=4,padding='same'))\n",
        "# Salida --> 8 -4 /4 + 1 = 2 --> 2x2x16\n",
        "model3.add(Flatten())\n",
        "model3.add(Dense(6,activation='softmax'))"
      ],
      "execution_count": null,
      "outputs": []
    },
    {
      "cell_type": "code",
      "metadata": {
        "colab": {
          "base_uri": "https://localhost:8080/"
        },
        "id": "7MOsqcikTcSG",
        "outputId": "a95304c6-2a54-4c7c-db30-a6b228b93c75"
      },
      "source": [
        "model3.summary()"
      ],
      "execution_count": null,
      "outputs": [
        {
          "output_type": "stream",
          "text": [
            "Model: \"sequential_11\"\n",
            "_________________________________________________________________\n",
            "Layer (type)                 Output Shape              Param #   \n",
            "=================================================================\n",
            "conv2d_21 (Conv2D)           (None, 64, 64, 8)         392       \n",
            "_________________________________________________________________\n",
            "max_pooling2d_17 (MaxPooling (None, 8, 8, 8)           0         \n",
            "_________________________________________________________________\n",
            "conv2d_22 (Conv2D)           (None, 8, 8, 16)          528       \n",
            "_________________________________________________________________\n",
            "max_pooling2d_18 (MaxPooling (None, 2, 2, 16)          0         \n",
            "_________________________________________________________________\n",
            "flatten_8 (Flatten)          (None, 64)                0         \n",
            "_________________________________________________________________\n",
            "dense_8 (Dense)              (None, 6)                 390       \n",
            "=================================================================\n",
            "Total params: 1,310\n",
            "Trainable params: 1,310\n",
            "Non-trainable params: 0\n",
            "_________________________________________________________________\n"
          ],
          "name": "stdout"
        }
      ]
    },
    {
      "cell_type": "code",
      "metadata": {
        "id": "rbcwgiHhTgCl"
      },
      "source": [
        "optimizer = tf.keras.optimizers.Adam(learning_rate=0.01)\n",
        "model3.compile(optimizer=optimizer, loss='categorical_crossentropy',metrics=['accuracy'])"
      ],
      "execution_count": null,
      "outputs": []
    },
    {
      "cell_type": "code",
      "metadata": {
        "colab": {
          "base_uri": "https://localhost:8080/"
        },
        "id": "DXyq4YdbUCmJ",
        "outputId": "e1049070-fcb9-43f2-85b5-1ba95fdc1887"
      },
      "source": [
        "model3.fit(X_train_orig_n,y_train_c,epochs=100,batch_size=128, validation_data=(X_test_orig_n,y_test_c))"
      ],
      "execution_count": null,
      "outputs": [
        {
          "output_type": "stream",
          "text": [
            "Epoch 1/100\n",
            "9/9 [==============================] - 0s 37ms/step - loss: 1.8174 - accuracy: 0.1593 - val_loss: 1.7913 - val_accuracy: 0.1333\n",
            "Epoch 2/100\n",
            "9/9 [==============================] - 0s 10ms/step - loss: 1.7859 - accuracy: 0.1694 - val_loss: 1.7800 - val_accuracy: 0.2583\n",
            "Epoch 3/100\n",
            "9/9 [==============================] - 0s 10ms/step - loss: 1.7664 - accuracy: 0.3139 - val_loss: 1.7573 - val_accuracy: 0.3083\n",
            "Epoch 4/100\n",
            "9/9 [==============================] - 0s 11ms/step - loss: 1.7235 - accuracy: 0.3093 - val_loss: 1.7209 - val_accuracy: 0.2500\n",
            "Epoch 5/100\n",
            "9/9 [==============================] - 0s 10ms/step - loss: 1.6460 - accuracy: 0.2981 - val_loss: 1.6674 - val_accuracy: 0.3167\n",
            "Epoch 6/100\n",
            "9/9 [==============================] - 0s 10ms/step - loss: 1.5515 - accuracy: 0.3815 - val_loss: 1.6156 - val_accuracy: 0.3500\n",
            "Epoch 7/100\n",
            "9/9 [==============================] - 0s 10ms/step - loss: 1.4947 - accuracy: 0.4000 - val_loss: 1.5672 - val_accuracy: 0.3750\n",
            "Epoch 8/100\n",
            "9/9 [==============================] - 0s 10ms/step - loss: 1.4543 - accuracy: 0.4111 - val_loss: 1.4957 - val_accuracy: 0.4083\n",
            "Epoch 9/100\n",
            "9/9 [==============================] - 0s 9ms/step - loss: 1.4026 - accuracy: 0.4380 - val_loss: 1.4425 - val_accuracy: 0.4667\n",
            "Epoch 10/100\n",
            "9/9 [==============================] - 0s 10ms/step - loss: 1.3475 - accuracy: 0.4694 - val_loss: 1.3817 - val_accuracy: 0.4833\n",
            "Epoch 11/100\n",
            "9/9 [==============================] - 0s 10ms/step - loss: 1.2997 - accuracy: 0.4963 - val_loss: 1.3515 - val_accuracy: 0.5083\n",
            "Epoch 12/100\n",
            "9/9 [==============================] - 0s 9ms/step - loss: 1.2619 - accuracy: 0.5222 - val_loss: 1.3382 - val_accuracy: 0.4917\n",
            "Epoch 13/100\n",
            "9/9 [==============================] - 0s 9ms/step - loss: 1.2244 - accuracy: 0.5380 - val_loss: 1.3256 - val_accuracy: 0.5500\n",
            "Epoch 14/100\n",
            "9/9 [==============================] - 0s 10ms/step - loss: 1.1887 - accuracy: 0.5389 - val_loss: 1.2831 - val_accuracy: 0.5167\n",
            "Epoch 15/100\n",
            "9/9 [==============================] - 0s 10ms/step - loss: 1.1531 - accuracy: 0.5741 - val_loss: 1.2524 - val_accuracy: 0.5250\n",
            "Epoch 16/100\n",
            "9/9 [==============================] - 0s 9ms/step - loss: 1.1153 - accuracy: 0.5898 - val_loss: 1.2315 - val_accuracy: 0.5333\n",
            "Epoch 17/100\n",
            "9/9 [==============================] - 0s 10ms/step - loss: 1.0728 - accuracy: 0.5880 - val_loss: 1.2380 - val_accuracy: 0.5250\n",
            "Epoch 18/100\n",
            "9/9 [==============================] - 0s 9ms/step - loss: 1.0689 - accuracy: 0.5926 - val_loss: 1.2263 - val_accuracy: 0.5500\n",
            "Epoch 19/100\n",
            "9/9 [==============================] - 0s 9ms/step - loss: 1.0402 - accuracy: 0.6259 - val_loss: 1.1879 - val_accuracy: 0.5750\n",
            "Epoch 20/100\n",
            "9/9 [==============================] - 0s 10ms/step - loss: 1.0131 - accuracy: 0.6343 - val_loss: 1.2333 - val_accuracy: 0.5417\n",
            "Epoch 21/100\n",
            "9/9 [==============================] - 0s 9ms/step - loss: 0.9993 - accuracy: 0.6315 - val_loss: 1.1576 - val_accuracy: 0.5667\n",
            "Epoch 22/100\n",
            "9/9 [==============================] - 0s 9ms/step - loss: 0.9558 - accuracy: 0.6407 - val_loss: 1.1731 - val_accuracy: 0.5667\n",
            "Epoch 23/100\n",
            "9/9 [==============================] - 0s 9ms/step - loss: 0.9428 - accuracy: 0.6509 - val_loss: 1.1430 - val_accuracy: 0.5667\n",
            "Epoch 24/100\n",
            "9/9 [==============================] - 0s 10ms/step - loss: 0.9124 - accuracy: 0.6722 - val_loss: 1.1498 - val_accuracy: 0.5833\n",
            "Epoch 25/100\n",
            "9/9 [==============================] - 0s 9ms/step - loss: 0.9677 - accuracy: 0.6481 - val_loss: 1.1643 - val_accuracy: 0.5750\n",
            "Epoch 26/100\n",
            "9/9 [==============================] - 0s 9ms/step - loss: 0.9268 - accuracy: 0.6463 - val_loss: 1.1585 - val_accuracy: 0.5667\n",
            "Epoch 27/100\n",
            "9/9 [==============================] - 0s 10ms/step - loss: 0.9121 - accuracy: 0.6639 - val_loss: 1.1212 - val_accuracy: 0.5750\n",
            "Epoch 28/100\n",
            "9/9 [==============================] - 0s 9ms/step - loss: 0.8859 - accuracy: 0.6676 - val_loss: 1.1406 - val_accuracy: 0.5917\n",
            "Epoch 29/100\n",
            "9/9 [==============================] - 0s 9ms/step - loss: 0.8815 - accuracy: 0.6778 - val_loss: 1.1300 - val_accuracy: 0.5583\n",
            "Epoch 30/100\n",
            "9/9 [==============================] - 0s 9ms/step - loss: 0.8636 - accuracy: 0.6870 - val_loss: 1.1753 - val_accuracy: 0.5417\n",
            "Epoch 31/100\n",
            "9/9 [==============================] - 0s 10ms/step - loss: 0.8712 - accuracy: 0.6731 - val_loss: 1.1041 - val_accuracy: 0.5667\n",
            "Epoch 32/100\n",
            "9/9 [==============================] - 0s 10ms/step - loss: 0.8456 - accuracy: 0.6935 - val_loss: 1.1248 - val_accuracy: 0.5917\n",
            "Epoch 33/100\n",
            "9/9 [==============================] - 0s 10ms/step - loss: 0.8605 - accuracy: 0.6843 - val_loss: 1.1217 - val_accuracy: 0.5833\n",
            "Epoch 34/100\n",
            "9/9 [==============================] - 0s 10ms/step - loss: 0.8438 - accuracy: 0.6926 - val_loss: 1.1069 - val_accuracy: 0.5833\n",
            "Epoch 35/100\n",
            "9/9 [==============================] - 0s 10ms/step - loss: 0.8097 - accuracy: 0.7056 - val_loss: 1.1627 - val_accuracy: 0.5917\n",
            "Epoch 36/100\n",
            "9/9 [==============================] - 0s 9ms/step - loss: 0.8564 - accuracy: 0.6796 - val_loss: 1.0839 - val_accuracy: 0.6083\n",
            "Epoch 37/100\n",
            "9/9 [==============================] - 0s 9ms/step - loss: 0.8062 - accuracy: 0.7046 - val_loss: 1.1007 - val_accuracy: 0.5833\n",
            "Epoch 38/100\n",
            "9/9 [==============================] - 0s 9ms/step - loss: 0.8040 - accuracy: 0.6972 - val_loss: 1.0787 - val_accuracy: 0.5833\n",
            "Epoch 39/100\n",
            "9/9 [==============================] - 0s 9ms/step - loss: 0.7889 - accuracy: 0.7093 - val_loss: 1.1180 - val_accuracy: 0.5917\n",
            "Epoch 40/100\n",
            "9/9 [==============================] - 0s 9ms/step - loss: 0.7870 - accuracy: 0.7083 - val_loss: 1.0552 - val_accuracy: 0.5833\n",
            "Epoch 41/100\n",
            "9/9 [==============================] - 0s 9ms/step - loss: 0.7763 - accuracy: 0.7259 - val_loss: 1.0909 - val_accuracy: 0.6000\n",
            "Epoch 42/100\n",
            "9/9 [==============================] - 0s 10ms/step - loss: 0.7724 - accuracy: 0.7222 - val_loss: 1.0891 - val_accuracy: 0.6000\n",
            "Epoch 43/100\n",
            "9/9 [==============================] - 0s 9ms/step - loss: 0.7791 - accuracy: 0.7157 - val_loss: 1.0678 - val_accuracy: 0.6083\n",
            "Epoch 44/100\n",
            "9/9 [==============================] - 0s 10ms/step - loss: 0.7782 - accuracy: 0.7167 - val_loss: 1.1460 - val_accuracy: 0.6000\n",
            "Epoch 45/100\n",
            "9/9 [==============================] - 0s 11ms/step - loss: 0.7750 - accuracy: 0.7167 - val_loss: 1.0773 - val_accuracy: 0.6000\n",
            "Epoch 46/100\n",
            "9/9 [==============================] - 0s 10ms/step - loss: 0.7406 - accuracy: 0.7213 - val_loss: 1.0664 - val_accuracy: 0.6000\n",
            "Epoch 47/100\n",
            "9/9 [==============================] - 0s 10ms/step - loss: 0.7101 - accuracy: 0.7444 - val_loss: 1.0372 - val_accuracy: 0.5917\n",
            "Epoch 48/100\n",
            "9/9 [==============================] - 0s 9ms/step - loss: 0.7177 - accuracy: 0.7444 - val_loss: 1.0092 - val_accuracy: 0.6167\n",
            "Epoch 49/100\n",
            "9/9 [==============================] - 0s 9ms/step - loss: 0.7081 - accuracy: 0.7417 - val_loss: 1.0337 - val_accuracy: 0.6167\n",
            "Epoch 50/100\n",
            "9/9 [==============================] - 0s 9ms/step - loss: 0.7084 - accuracy: 0.7481 - val_loss: 1.0225 - val_accuracy: 0.6167\n",
            "Epoch 51/100\n",
            "9/9 [==============================] - 0s 10ms/step - loss: 0.6834 - accuracy: 0.7546 - val_loss: 1.0049 - val_accuracy: 0.6083\n",
            "Epoch 52/100\n",
            "9/9 [==============================] - 0s 10ms/step - loss: 0.6720 - accuracy: 0.7685 - val_loss: 1.0052 - val_accuracy: 0.6083\n",
            "Epoch 53/100\n",
            "9/9 [==============================] - 0s 10ms/step - loss: 0.6669 - accuracy: 0.7611 - val_loss: 1.0080 - val_accuracy: 0.6000\n",
            "Epoch 54/100\n",
            "9/9 [==============================] - 0s 10ms/step - loss: 0.6763 - accuracy: 0.7602 - val_loss: 1.0022 - val_accuracy: 0.6167\n",
            "Epoch 55/100\n",
            "9/9 [==============================] - 0s 10ms/step - loss: 0.6897 - accuracy: 0.7435 - val_loss: 1.0405 - val_accuracy: 0.6333\n",
            "Epoch 56/100\n",
            "9/9 [==============================] - 0s 10ms/step - loss: 0.6768 - accuracy: 0.7611 - val_loss: 1.0273 - val_accuracy: 0.6250\n",
            "Epoch 57/100\n",
            "9/9 [==============================] - 0s 10ms/step - loss: 0.6508 - accuracy: 0.7676 - val_loss: 1.0272 - val_accuracy: 0.6250\n",
            "Epoch 58/100\n",
            "9/9 [==============================] - 0s 10ms/step - loss: 0.6373 - accuracy: 0.7685 - val_loss: 0.9685 - val_accuracy: 0.6417\n",
            "Epoch 59/100\n",
            "9/9 [==============================] - 0s 10ms/step - loss: 0.6428 - accuracy: 0.7685 - val_loss: 0.9588 - val_accuracy: 0.6167\n",
            "Epoch 60/100\n",
            "9/9 [==============================] - 0s 9ms/step - loss: 0.6332 - accuracy: 0.7722 - val_loss: 1.0417 - val_accuracy: 0.6167\n",
            "Epoch 61/100\n",
            "9/9 [==============================] - 0s 10ms/step - loss: 0.6490 - accuracy: 0.7657 - val_loss: 0.9778 - val_accuracy: 0.6167\n",
            "Epoch 62/100\n",
            "9/9 [==============================] - 0s 10ms/step - loss: 0.6249 - accuracy: 0.7759 - val_loss: 0.9765 - val_accuracy: 0.6083\n",
            "Epoch 63/100\n",
            "9/9 [==============================] - 0s 9ms/step - loss: 0.6684 - accuracy: 0.7565 - val_loss: 1.0139 - val_accuracy: 0.6500\n",
            "Epoch 64/100\n",
            "9/9 [==============================] - 0s 10ms/step - loss: 0.6659 - accuracy: 0.7519 - val_loss: 1.0723 - val_accuracy: 0.6000\n",
            "Epoch 65/100\n",
            "9/9 [==============================] - 0s 10ms/step - loss: 0.6702 - accuracy: 0.7611 - val_loss: 1.0121 - val_accuracy: 0.6500\n",
            "Epoch 66/100\n",
            "9/9 [==============================] - 0s 10ms/step - loss: 0.6171 - accuracy: 0.7769 - val_loss: 0.9692 - val_accuracy: 0.6500\n",
            "Epoch 67/100\n",
            "9/9 [==============================] - 0s 10ms/step - loss: 0.6099 - accuracy: 0.7778 - val_loss: 1.0135 - val_accuracy: 0.6500\n",
            "Epoch 68/100\n",
            "9/9 [==============================] - 0s 9ms/step - loss: 0.6105 - accuracy: 0.7833 - val_loss: 0.9838 - val_accuracy: 0.6333\n",
            "Epoch 69/100\n",
            "9/9 [==============================] - 0s 10ms/step - loss: 0.6132 - accuracy: 0.7806 - val_loss: 0.9604 - val_accuracy: 0.6167\n",
            "Epoch 70/100\n",
            "9/9 [==============================] - 0s 10ms/step - loss: 0.5898 - accuracy: 0.7981 - val_loss: 0.9560 - val_accuracy: 0.6750\n",
            "Epoch 71/100\n",
            "9/9 [==============================] - 0s 10ms/step - loss: 0.6075 - accuracy: 0.7787 - val_loss: 0.9662 - val_accuracy: 0.6500\n",
            "Epoch 72/100\n",
            "9/9 [==============================] - 0s 9ms/step - loss: 0.5920 - accuracy: 0.7815 - val_loss: 0.9663 - val_accuracy: 0.6583\n",
            "Epoch 73/100\n",
            "9/9 [==============================] - 0s 9ms/step - loss: 0.5983 - accuracy: 0.7861 - val_loss: 1.0286 - val_accuracy: 0.6500\n",
            "Epoch 74/100\n",
            "9/9 [==============================] - 0s 9ms/step - loss: 0.6276 - accuracy: 0.7648 - val_loss: 1.0252 - val_accuracy: 0.6250\n",
            "Epoch 75/100\n",
            "9/9 [==============================] - 0s 10ms/step - loss: 0.6159 - accuracy: 0.7796 - val_loss: 0.9515 - val_accuracy: 0.6583\n",
            "Epoch 76/100\n",
            "9/9 [==============================] - 0s 10ms/step - loss: 0.5882 - accuracy: 0.7972 - val_loss: 0.9795 - val_accuracy: 0.7000\n",
            "Epoch 77/100\n",
            "9/9 [==============================] - 0s 9ms/step - loss: 0.5678 - accuracy: 0.8046 - val_loss: 0.9564 - val_accuracy: 0.6667\n",
            "Epoch 78/100\n",
            "9/9 [==============================] - 0s 9ms/step - loss: 0.5662 - accuracy: 0.7972 - val_loss: 0.9410 - val_accuracy: 0.6750\n",
            "Epoch 79/100\n",
            "9/9 [==============================] - 0s 9ms/step - loss: 0.5690 - accuracy: 0.8019 - val_loss: 0.9342 - val_accuracy: 0.6750\n",
            "Epoch 80/100\n",
            "9/9 [==============================] - 0s 9ms/step - loss: 0.5625 - accuracy: 0.7963 - val_loss: 0.9508 - val_accuracy: 0.6417\n",
            "Epoch 81/100\n",
            "9/9 [==============================] - 0s 9ms/step - loss: 0.5737 - accuracy: 0.7898 - val_loss: 1.0026 - val_accuracy: 0.6667\n",
            "Epoch 82/100\n",
            "9/9 [==============================] - 0s 10ms/step - loss: 0.5941 - accuracy: 0.7935 - val_loss: 0.9704 - val_accuracy: 0.6667\n",
            "Epoch 83/100\n",
            "9/9 [==============================] - 0s 9ms/step - loss: 0.5553 - accuracy: 0.7963 - val_loss: 0.9940 - val_accuracy: 0.6750\n",
            "Epoch 84/100\n",
            "9/9 [==============================] - 0s 9ms/step - loss: 0.5618 - accuracy: 0.8065 - val_loss: 0.9287 - val_accuracy: 0.6583\n",
            "Epoch 85/100\n",
            "9/9 [==============================] - 0s 9ms/step - loss: 0.5550 - accuracy: 0.8065 - val_loss: 0.9937 - val_accuracy: 0.6917\n",
            "Epoch 86/100\n",
            "9/9 [==============================] - 0s 10ms/step - loss: 0.5464 - accuracy: 0.8120 - val_loss: 0.9807 - val_accuracy: 0.6500\n",
            "Epoch 87/100\n",
            "9/9 [==============================] - 0s 10ms/step - loss: 0.5768 - accuracy: 0.7870 - val_loss: 0.9990 - val_accuracy: 0.6750\n",
            "Epoch 88/100\n",
            "9/9 [==============================] - 0s 10ms/step - loss: 0.5546 - accuracy: 0.8102 - val_loss: 0.9106 - val_accuracy: 0.6750\n",
            "Epoch 89/100\n",
            "9/9 [==============================] - 0s 11ms/step - loss: 0.5448 - accuracy: 0.8093 - val_loss: 0.9270 - val_accuracy: 0.6917\n",
            "Epoch 90/100\n",
            "9/9 [==============================] - 0s 10ms/step - loss: 0.5367 - accuracy: 0.8111 - val_loss: 0.9349 - val_accuracy: 0.6667\n",
            "Epoch 91/100\n",
            "9/9 [==============================] - 0s 9ms/step - loss: 0.5315 - accuracy: 0.8139 - val_loss: 1.0000 - val_accuracy: 0.6917\n",
            "Epoch 92/100\n",
            "9/9 [==============================] - 0s 10ms/step - loss: 0.5395 - accuracy: 0.8111 - val_loss: 0.9183 - val_accuracy: 0.6500\n",
            "Epoch 93/100\n",
            "9/9 [==============================] - 0s 10ms/step - loss: 0.5252 - accuracy: 0.8056 - val_loss: 0.9113 - val_accuracy: 0.6667\n",
            "Epoch 94/100\n",
            "9/9 [==============================] - 0s 9ms/step - loss: 0.5506 - accuracy: 0.8000 - val_loss: 0.9404 - val_accuracy: 0.7000\n",
            "Epoch 95/100\n",
            "9/9 [==============================] - 0s 9ms/step - loss: 0.5288 - accuracy: 0.8167 - val_loss: 0.9204 - val_accuracy: 0.6833\n",
            "Epoch 96/100\n",
            "9/9 [==============================] - 0s 10ms/step - loss: 0.5265 - accuracy: 0.8167 - val_loss: 0.9326 - val_accuracy: 0.6583\n",
            "Epoch 97/100\n",
            "9/9 [==============================] - 0s 10ms/step - loss: 0.5274 - accuracy: 0.8139 - val_loss: 0.9236 - val_accuracy: 0.6500\n",
            "Epoch 98/100\n",
            "9/9 [==============================] - 0s 10ms/step - loss: 0.5070 - accuracy: 0.8241 - val_loss: 1.0016 - val_accuracy: 0.6667\n",
            "Epoch 99/100\n",
            "9/9 [==============================] - 0s 9ms/step - loss: 0.5500 - accuracy: 0.8019 - val_loss: 0.9296 - val_accuracy: 0.6667\n",
            "Epoch 100/100\n",
            "9/9 [==============================] - 0s 9ms/step - loss: 0.5373 - accuracy: 0.8157 - val_loss: 0.9387 - val_accuracy: 0.6667\n"
          ],
          "name": "stdout"
        },
        {
          "output_type": "execute_result",
          "data": {
            "text/plain": [
              "<tensorflow.python.keras.callbacks.History at 0x7fd15642bef0>"
            ]
          },
          "metadata": {
            "tags": []
          },
          "execution_count": 67
        }
      ]
    },
    {
      "cell_type": "code",
      "metadata": {
        "colab": {
          "base_uri": "https://localhost:8080/",
          "height": 228
        },
        "id": "5w5SkM_pUeGz",
        "outputId": "dc688c38-e1b5-4a39-d800-57c280130ebf"
      },
      "source": [
        "predicciones = model3.predict(X_test_orig_n[10:16])\n",
        "\n",
        "print('Valores reales: ',np.argmax(y_test_c[10:16], axis=1))\n",
        "\n",
        "# Plotear esas imágenes\n",
        "for i in range(6):\n",
        "\tplt.subplot(330 + 1 + i)\n",
        "\tplt.imshow(X_test_orig[10+i], cmap=plt.get_cmap('gray'))\n",
        "plt.show()\n",
        "\n",
        "print('valores prediccion : ',np.argmax(predicciones,axis=1))"
      ],
      "execution_count": null,
      "outputs": [
        {
          "output_type": "stream",
          "text": [
            "Valores reales:  [5 1 3 1 1 3]\n"
          ],
          "name": "stdout"
        },
        {
          "output_type": "display_data",
          "data": {
            "image/png": "[encoded data removed]",
            "text/plain": [
              "<Figure size 432x288 with 6 Axes>"
            ]
          },
          "metadata": {
            "tags": [],
            "needs_background": "light"
          }
        },
        {
          "output_type": "stream",
          "text": [
            "valores prediccion :  [5 1 4 1 1 3]\n"
          ],
          "name": "stdout"
        }
      ]
    },
    {
      "cell_type": "markdown",
      "metadata": {
        "id": "FhH98uY_KY09"
      },
      "source": [
        "###Evaluamos otro modelo similar pero sin las activaciones dentro de las capas de convolucion : \n",
        "Aqui vamos a observar que el modelo mejora la performance"
      ]
    },
    {
      "cell_type": "code",
      "metadata": {
        "id": "JaEFz6H7KkQB"
      },
      "source": [
        "model4 = Sequential()\n",
        "model4.add(Conv2D(8,kernel_size=(4,4), strides=1,padding='same',input_shape=(64,64,3)))\n",
        "# Salida --->(padding same agrega tantos ceros para que la salida sea igual a la entrada) --> 64x64x8\n",
        "model4.add(MaxPooling2D(pool_size=(8,8),strides=8,padding='same'))\n",
        "# Salida --> 64 -8 /8 + 1 = 8 --> 8x8x8\n",
        "model4.add(Conv2D(16,kernel_size=(2,2), strides=1,padding='same',input_shape=(64,64,3)))\n",
        "# Salida --->8x8x16\n",
        "model4.add(MaxPooling2D(pool_size=(4,4),strides=4,padding='same'))\n",
        "# Salida --> 8 -4 /4 + 1 = 2 --> 2x2x16\n",
        "model4.add(Flatten())\n",
        "model4.add(Dense(6,activation='softmax'))"
      ],
      "execution_count": null,
      "outputs": []
    },
    {
      "cell_type": "code",
      "metadata": {
        "colab": {
          "base_uri": "https://localhost:8080/"
        },
        "id": "-CMOVvGWLIqg",
        "outputId": "efafda55-6928-4f24-eb2e-ff1cd80234a6"
      },
      "source": [
        "model4.summary()"
      ],
      "execution_count": null,
      "outputs": [
        {
          "output_type": "stream",
          "text": [
            "Model: \"sequential_13\"\n",
            "_________________________________________________________________\n",
            "Layer (type)                 Output Shape              Param #   \n",
            "=================================================================\n",
            "conv2d_25 (Conv2D)           (None, 64, 64, 8)         392       \n",
            "_________________________________________________________________\n",
            "max_pooling2d_21 (MaxPooling (None, 8, 8, 8)           0         \n",
            "_________________________________________________________________\n",
            "conv2d_26 (Conv2D)           (None, 8, 8, 16)          528       \n",
            "_________________________________________________________________\n",
            "max_pooling2d_22 (MaxPooling (None, 2, 2, 16)          0         \n",
            "_________________________________________________________________\n",
            "flatten_10 (Flatten)         (None, 64)                0         \n",
            "_________________________________________________________________\n",
            "dense_10 (Dense)             (None, 6)                 390       \n",
            "=================================================================\n",
            "Total params: 1,310\n",
            "Trainable params: 1,310\n",
            "Non-trainable params: 0\n",
            "_________________________________________________________________\n"
          ],
          "name": "stdout"
        }
      ]
    },
    {
      "cell_type": "markdown",
      "metadata": {
        "id": "S5tXw8C9MkU1"
      },
      "source": [
        "Para calcular la cantidad de parametros que tiene una **capa de convolucion** dentro de la red debemos aplicar la siguiente formula :\n",
        "\n",
        "\\begin{equation}\n",
        "N_p =  f * f *n_c^{l-1} * n_c +n_c  \n",
        "\\end{equation}\n",
        "\n",
        "donde l-1 indica que se trata de la capa anterior. Aplicandolo a la primer capa convolucional  \n",
        "\n",
        "\\begin{equation}\n",
        "N_{conv1} =  4 * 4 * 3 * 8 +8 = 392  \n",
        "\\end{equation}\n",
        "\n",
        "\\begin{equation}\n",
        "N_{conv2} =  2 * 2 * 8 * 16 +16 = 528  \n",
        "\\end{equation}\n",
        "\n",
        "Las **capas de pooling** no tienen parametros entrenables. \n",
        "\n",
        "El numero de parametros entrenables de la **capa Densa** es :\n",
        "\\begin{equation}\n",
        "N_D =  n^{l-1} * n +n  \n",
        "\\end{equation}\n",
        "\n",
        "Aplicamos la formula a la ultima capa Densa de la red:\n",
        "\\begin{equation}\n",
        "N_D =  64 * 6 +6 = 390  \n",
        "\\end{equation}"
      ]
    },
    {
      "cell_type": "code",
      "metadata": {
        "colab": {
          "base_uri": "https://localhost:8080/"
        },
        "id": "YRxoTzzvK4q_",
        "outputId": "e14b114b-0fd8-4b5d-8f5d-cb0d3dabee80"
      },
      "source": [
        "model4.compile(optimizer=optimizer, loss='categorical_crossentropy',metrics=['accuracy'])\n",
        "\n",
        "model4.fit(X_train_orig_n,y_train_c,epochs=100,batch_size=128, validation_data=(X_test_orig_n,y_test_c))"
      ],
      "execution_count": null,
      "outputs": [
        {
          "output_type": "stream",
          "text": [
            "Epoch 1/100\n",
            "9/9 [==============================] - 0s 24ms/step - loss: 2.2929 - accuracy: 0.1991 - val_loss: 2.6662 - val_accuracy: 0.1667\n",
            "Epoch 2/100\n",
            "9/9 [==============================] - 0s 10ms/step - loss: 2.3955 - accuracy: 0.1685 - val_loss: 1.9897 - val_accuracy: 0.1667\n",
            "Epoch 3/100\n",
            "9/9 [==============================] - 0s 11ms/step - loss: 1.8473 - accuracy: 0.2009 - val_loss: 1.7463 - val_accuracy: 0.3000\n",
            "Epoch 4/100\n",
            "9/9 [==============================] - 0s 10ms/step - loss: 1.6714 - accuracy: 0.3056 - val_loss: 1.8037 - val_accuracy: 0.2083\n",
            "Epoch 5/100\n",
            "9/9 [==============================] - 0s 10ms/step - loss: 1.5467 - accuracy: 0.3657 - val_loss: 1.4485 - val_accuracy: 0.4500\n",
            "Epoch 6/100\n",
            "9/9 [==============================] - 0s 10ms/step - loss: 1.3708 - accuracy: 0.4833 - val_loss: 1.4235 - val_accuracy: 0.3417\n",
            "Epoch 7/100\n",
            "9/9 [==============================] - 0s 10ms/step - loss: 1.3097 - accuracy: 0.4833 - val_loss: 1.3609 - val_accuracy: 0.4750\n",
            "Epoch 8/100\n",
            "9/9 [==============================] - 0s 9ms/step - loss: 1.1864 - accuracy: 0.5769 - val_loss: 1.1694 - val_accuracy: 0.5083\n",
            "Epoch 9/100\n",
            "9/9 [==============================] - 0s 10ms/step - loss: 1.0492 - accuracy: 0.6398 - val_loss: 1.0476 - val_accuracy: 0.5917\n",
            "Epoch 10/100\n",
            "9/9 [==============================] - 0s 10ms/step - loss: 0.9327 - accuracy: 0.6759 - val_loss: 0.8533 - val_accuracy: 0.7083\n",
            "Epoch 11/100\n",
            "9/9 [==============================] - 0s 10ms/step - loss: 0.8024 - accuracy: 0.7287 - val_loss: 0.7749 - val_accuracy: 0.7417\n",
            "Epoch 12/100\n",
            "9/9 [==============================] - 0s 9ms/step - loss: 0.7470 - accuracy: 0.7593 - val_loss: 0.7045 - val_accuracy: 0.7583\n",
            "Epoch 13/100\n",
            "9/9 [==============================] - 0s 11ms/step - loss: 0.6621 - accuracy: 0.7759 - val_loss: 0.6842 - val_accuracy: 0.7500\n",
            "Epoch 14/100\n",
            "9/9 [==============================] - 0s 10ms/step - loss: 0.6473 - accuracy: 0.7722 - val_loss: 0.5905 - val_accuracy: 0.7833\n",
            "Epoch 15/100\n",
            "9/9 [==============================] - 0s 9ms/step - loss: 0.5915 - accuracy: 0.7963 - val_loss: 0.6023 - val_accuracy: 0.7667\n",
            "Epoch 16/100\n",
            "9/9 [==============================] - 0s 9ms/step - loss: 0.5425 - accuracy: 0.8204 - val_loss: 0.5854 - val_accuracy: 0.7417\n",
            "Epoch 17/100\n",
            "9/9 [==============================] - 0s 10ms/step - loss: 0.5006 - accuracy: 0.8361 - val_loss: 0.5875 - val_accuracy: 0.7333\n",
            "Epoch 18/100\n",
            "9/9 [==============================] - 0s 10ms/step - loss: 0.5078 - accuracy: 0.8333 - val_loss: 0.4913 - val_accuracy: 0.8250\n",
            "Epoch 19/100\n",
            "9/9 [==============================] - 0s 10ms/step - loss: 0.4386 - accuracy: 0.8537 - val_loss: 0.5053 - val_accuracy: 0.8250\n",
            "Epoch 20/100\n",
            "9/9 [==============================] - 0s 10ms/step - loss: 0.4143 - accuracy: 0.8657 - val_loss: 0.4555 - val_accuracy: 0.8167\n",
            "Epoch 21/100\n",
            "9/9 [==============================] - 0s 10ms/step - loss: 0.3852 - accuracy: 0.8602 - val_loss: 0.3975 - val_accuracy: 0.8917\n",
            "Epoch 22/100\n",
            "9/9 [==============================] - 0s 9ms/step - loss: 0.3519 - accuracy: 0.8843 - val_loss: 0.4324 - val_accuracy: 0.8083\n",
            "Epoch 23/100\n",
            "9/9 [==============================] - 0s 10ms/step - loss: 0.3394 - accuracy: 0.8954 - val_loss: 0.4128 - val_accuracy: 0.8583\n",
            "Epoch 24/100\n",
            "9/9 [==============================] - 0s 10ms/step - loss: 0.3427 - accuracy: 0.8935 - val_loss: 0.3727 - val_accuracy: 0.8500\n",
            "Epoch 25/100\n",
            "9/9 [==============================] - 0s 9ms/step - loss: 0.3274 - accuracy: 0.8833 - val_loss: 0.4169 - val_accuracy: 0.8250\n",
            "Epoch 26/100\n",
            "9/9 [==============================] - 0s 9ms/step - loss: 0.3052 - accuracy: 0.8954 - val_loss: 0.3929 - val_accuracy: 0.8583\n",
            "Epoch 27/100\n",
            "9/9 [==============================] - 0s 10ms/step - loss: 0.3009 - accuracy: 0.8907 - val_loss: 0.4380 - val_accuracy: 0.8167\n",
            "Epoch 28/100\n",
            "9/9 [==============================] - 0s 10ms/step - loss: 0.2999 - accuracy: 0.8944 - val_loss: 0.3749 - val_accuracy: 0.8500\n",
            "Epoch 29/100\n",
            "9/9 [==============================] - 0s 10ms/step - loss: 0.2816 - accuracy: 0.8944 - val_loss: 0.3519 - val_accuracy: 0.8833\n",
            "Epoch 30/100\n",
            "9/9 [==============================] - 0s 9ms/step - loss: 0.2446 - accuracy: 0.9176 - val_loss: 0.3442 - val_accuracy: 0.9083\n",
            "Epoch 31/100\n",
            "9/9 [==============================] - 0s 10ms/step - loss: 0.2146 - accuracy: 0.9296 - val_loss: 0.3591 - val_accuracy: 0.8667\n",
            "Epoch 32/100\n",
            "9/9 [==============================] - 0s 10ms/step - loss: 0.2023 - accuracy: 0.9343 - val_loss: 0.3444 - val_accuracy: 0.8667\n",
            "Epoch 33/100\n",
            "9/9 [==============================] - 0s 10ms/step - loss: 0.2226 - accuracy: 0.9222 - val_loss: 0.3337 - val_accuracy: 0.8750\n",
            "Epoch 34/100\n",
            "9/9 [==============================] - 0s 10ms/step - loss: 0.2277 - accuracy: 0.9167 - val_loss: 0.3410 - val_accuracy: 0.8667\n",
            "Epoch 35/100\n",
            "9/9 [==============================] - 0s 10ms/step - loss: 0.2459 - accuracy: 0.9028 - val_loss: 0.3686 - val_accuracy: 0.8667\n",
            "Epoch 36/100\n",
            "9/9 [==============================] - 0s 10ms/step - loss: 0.2504 - accuracy: 0.9148 - val_loss: 0.3726 - val_accuracy: 0.8833\n",
            "Epoch 37/100\n",
            "9/9 [==============================] - 0s 10ms/step - loss: 0.2168 - accuracy: 0.9250 - val_loss: 0.3852 - val_accuracy: 0.8750\n",
            "Epoch 38/100\n",
            "9/9 [==============================] - 0s 10ms/step - loss: 0.1689 - accuracy: 0.9491 - val_loss: 0.3629 - val_accuracy: 0.8583\n",
            "Epoch 39/100\n",
            "9/9 [==============================] - 0s 10ms/step - loss: 0.1786 - accuracy: 0.9417 - val_loss: 0.4249 - val_accuracy: 0.8250\n",
            "Epoch 40/100\n",
            "9/9 [==============================] - 0s 10ms/step - loss: 0.2120 - accuracy: 0.9250 - val_loss: 0.3965 - val_accuracy: 0.8750\n",
            "Epoch 41/100\n",
            "9/9 [==============================] - 0s 10ms/step - loss: 0.1815 - accuracy: 0.9389 - val_loss: 0.4687 - val_accuracy: 0.8417\n",
            "Epoch 42/100\n",
            "9/9 [==============================] - 0s 10ms/step - loss: 0.1833 - accuracy: 0.9352 - val_loss: 0.3971 - val_accuracy: 0.8833\n",
            "Epoch 43/100\n",
            "9/9 [==============================] - 0s 10ms/step - loss: 0.1434 - accuracy: 0.9546 - val_loss: 0.2927 - val_accuracy: 0.9000\n",
            "Epoch 44/100\n",
            "9/9 [==============================] - 0s 10ms/step - loss: 0.1228 - accuracy: 0.9630 - val_loss: 0.2847 - val_accuracy: 0.8750\n",
            "Epoch 45/100\n",
            "9/9 [==============================] - 0s 10ms/step - loss: 0.1183 - accuracy: 0.9676 - val_loss: 0.3122 - val_accuracy: 0.8833\n",
            "Epoch 46/100\n",
            "9/9 [==============================] - 0s 10ms/step - loss: 0.1170 - accuracy: 0.9593 - val_loss: 0.2939 - val_accuracy: 0.9000\n",
            "Epoch 47/100\n",
            "9/9 [==============================] - 0s 9ms/step - loss: 0.1252 - accuracy: 0.9602 - val_loss: 0.3299 - val_accuracy: 0.8833\n",
            "Epoch 48/100\n",
            "9/9 [==============================] - 0s 10ms/step - loss: 0.1037 - accuracy: 0.9704 - val_loss: 0.3025 - val_accuracy: 0.8833\n",
            "Epoch 49/100\n",
            "9/9 [==============================] - 0s 9ms/step - loss: 0.0918 - accuracy: 0.9824 - val_loss: 0.2834 - val_accuracy: 0.9083\n",
            "Epoch 50/100\n",
            "9/9 [==============================] - 0s 10ms/step - loss: 0.0862 - accuracy: 0.9806 - val_loss: 0.3062 - val_accuracy: 0.8917\n",
            "Epoch 51/100\n",
            "9/9 [==============================] - 0s 10ms/step - loss: 0.0871 - accuracy: 0.9787 - val_loss: 0.3313 - val_accuracy: 0.8833\n",
            "Epoch 52/100\n",
            "9/9 [==============================] - 0s 10ms/step - loss: 0.0965 - accuracy: 0.9713 - val_loss: 0.3644 - val_accuracy: 0.8750\n",
            "Epoch 53/100\n",
            "9/9 [==============================] - 0s 10ms/step - loss: 0.0846 - accuracy: 0.9731 - val_loss: 0.3801 - val_accuracy: 0.8833\n",
            "Epoch 54/100\n",
            "9/9 [==============================] - 0s 10ms/step - loss: 0.0762 - accuracy: 0.9824 - val_loss: 0.3022 - val_accuracy: 0.9083\n",
            "Epoch 55/100\n",
            "9/9 [==============================] - 0s 9ms/step - loss: 0.0726 - accuracy: 0.9815 - val_loss: 0.3280 - val_accuracy: 0.8917\n",
            "Epoch 56/100\n",
            "9/9 [==============================] - 0s 10ms/step - loss: 0.0712 - accuracy: 0.9852 - val_loss: 0.2655 - val_accuracy: 0.9167\n",
            "Epoch 57/100\n",
            "9/9 [==============================] - 0s 10ms/step - loss: 0.0643 - accuracy: 0.9833 - val_loss: 0.2409 - val_accuracy: 0.9167\n",
            "Epoch 58/100\n",
            "9/9 [==============================] - 0s 9ms/step - loss: 0.0658 - accuracy: 0.9833 - val_loss: 0.2577 - val_accuracy: 0.9250\n",
            "Epoch 59/100\n",
            "9/9 [==============================] - 0s 10ms/step - loss: 0.0611 - accuracy: 0.9870 - val_loss: 0.2676 - val_accuracy: 0.9250\n",
            "Epoch 60/100\n",
            "9/9 [==============================] - 0s 10ms/step - loss: 0.0562 - accuracy: 0.9917 - val_loss: 0.3001 - val_accuracy: 0.9083\n",
            "Epoch 61/100\n",
            "9/9 [==============================] - 0s 10ms/step - loss: 0.0456 - accuracy: 0.9944 - val_loss: 0.2659 - val_accuracy: 0.9167\n",
            "Epoch 62/100\n",
            "9/9 [==============================] - 0s 10ms/step - loss: 0.0454 - accuracy: 0.9935 - val_loss: 0.2998 - val_accuracy: 0.9167\n",
            "Epoch 63/100\n",
            "9/9 [==============================] - 0s 10ms/step - loss: 0.0512 - accuracy: 0.9944 - val_loss: 0.3327 - val_accuracy: 0.8917\n",
            "Epoch 64/100\n",
            "9/9 [==============================] - 0s 10ms/step - loss: 0.0688 - accuracy: 0.9796 - val_loss: 0.2984 - val_accuracy: 0.9083\n",
            "Epoch 65/100\n",
            "9/9 [==============================] - 0s 10ms/step - loss: 0.0520 - accuracy: 0.9907 - val_loss: 0.2783 - val_accuracy: 0.9083\n",
            "Epoch 66/100\n",
            "9/9 [==============================] - 0s 11ms/step - loss: 0.0512 - accuracy: 0.9907 - val_loss: 0.3016 - val_accuracy: 0.9167\n",
            "Epoch 67/100\n",
            "9/9 [==============================] - 0s 10ms/step - loss: 0.0402 - accuracy: 0.9935 - val_loss: 0.3086 - val_accuracy: 0.9167\n",
            "Epoch 68/100\n",
            "9/9 [==============================] - 0s 10ms/step - loss: 0.0439 - accuracy: 0.9926 - val_loss: 0.3842 - val_accuracy: 0.8833\n",
            "Epoch 69/100\n",
            "9/9 [==============================] - 0s 10ms/step - loss: 0.0643 - accuracy: 0.9824 - val_loss: 0.3021 - val_accuracy: 0.9083\n",
            "Epoch 70/100\n",
            "9/9 [==============================] - 0s 10ms/step - loss: 0.0511 - accuracy: 0.9898 - val_loss: 0.2923 - val_accuracy: 0.9333\n",
            "Epoch 71/100\n",
            "9/9 [==============================] - 0s 10ms/step - loss: 0.0490 - accuracy: 0.9870 - val_loss: 0.3448 - val_accuracy: 0.9000\n",
            "Epoch 72/100\n",
            "9/9 [==============================] - 0s 10ms/step - loss: 0.0675 - accuracy: 0.9815 - val_loss: 0.2824 - val_accuracy: 0.9333\n",
            "Epoch 73/100\n",
            "9/9 [==============================] - 0s 10ms/step - loss: 0.0404 - accuracy: 0.9944 - val_loss: 0.3209 - val_accuracy: 0.9083\n",
            "Epoch 74/100\n",
            "9/9 [==============================] - 0s 10ms/step - loss: 0.0336 - accuracy: 0.9954 - val_loss: 0.2772 - val_accuracy: 0.9250\n",
            "Epoch 75/100\n",
            "9/9 [==============================] - 0s 10ms/step - loss: 0.0326 - accuracy: 0.9972 - val_loss: 0.2792 - val_accuracy: 0.9333\n",
            "Epoch 76/100\n",
            "9/9 [==============================] - 0s 10ms/step - loss: 0.0284 - accuracy: 0.9972 - val_loss: 0.3175 - val_accuracy: 0.9250\n",
            "Epoch 77/100\n",
            "9/9 [==============================] - 0s 10ms/step - loss: 0.0311 - accuracy: 0.9963 - val_loss: 0.2598 - val_accuracy: 0.9167\n",
            "Epoch 78/100\n",
            "9/9 [==============================] - 0s 10ms/step - loss: 0.0259 - accuracy: 0.9981 - val_loss: 0.2563 - val_accuracy: 0.9333\n",
            "Epoch 79/100\n",
            "9/9 [==============================] - 0s 9ms/step - loss: 0.0276 - accuracy: 0.9981 - val_loss: 0.3124 - val_accuracy: 0.9167\n",
            "Epoch 80/100\n",
            "9/9 [==============================] - 0s 10ms/step - loss: 0.0285 - accuracy: 0.9963 - val_loss: 0.3561 - val_accuracy: 0.9000\n",
            "Epoch 81/100\n",
            "9/9 [==============================] - 0s 10ms/step - loss: 0.0306 - accuracy: 0.9963 - val_loss: 0.3428 - val_accuracy: 0.9167\n",
            "Epoch 82/100\n",
            "9/9 [==============================] - 0s 10ms/step - loss: 0.0283 - accuracy: 0.9954 - val_loss: 0.2892 - val_accuracy: 0.9250\n",
            "Epoch 83/100\n",
            "9/9 [==============================] - 0s 10ms/step - loss: 0.0192 - accuracy: 1.0000 - val_loss: 0.2728 - val_accuracy: 0.9417\n",
            "Epoch 84/100\n",
            "9/9 [==============================] - 0s 10ms/step - loss: 0.0180 - accuracy: 1.0000 - val_loss: 0.2738 - val_accuracy: 0.9417\n",
            "Epoch 85/100\n",
            "9/9 [==============================] - 0s 10ms/step - loss: 0.0170 - accuracy: 1.0000 - val_loss: 0.3248 - val_accuracy: 0.9167\n",
            "Epoch 86/100\n",
            "9/9 [==============================] - 0s 10ms/step - loss: 0.0187 - accuracy: 1.0000 - val_loss: 0.2817 - val_accuracy: 0.9333\n",
            "Epoch 87/100\n",
            "9/9 [==============================] - 0s 10ms/step - loss: 0.0221 - accuracy: 0.9981 - val_loss: 0.2729 - val_accuracy: 0.9333\n",
            "Epoch 88/100\n",
            "9/9 [==============================] - 0s 10ms/step - loss: 0.0174 - accuracy: 1.0000 - val_loss: 0.3469 - val_accuracy: 0.9167\n",
            "Epoch 89/100\n",
            "9/9 [==============================] - 0s 10ms/step - loss: 0.0170 - accuracy: 1.0000 - val_loss: 0.2895 - val_accuracy: 0.9333\n",
            "Epoch 90/100\n",
            "9/9 [==============================] - 0s 10ms/step - loss: 0.0137 - accuracy: 1.0000 - val_loss: 0.2971 - val_accuracy: 0.9333\n",
            "Epoch 91/100\n",
            "9/9 [==============================] - 0s 10ms/step - loss: 0.0134 - accuracy: 1.0000 - val_loss: 0.3053 - val_accuracy: 0.9417\n",
            "Epoch 92/100\n",
            "9/9 [==============================] - 0s 10ms/step - loss: 0.0130 - accuracy: 1.0000 - val_loss: 0.3034 - val_accuracy: 0.9333\n",
            "Epoch 93/100\n",
            "9/9 [==============================] - 0s 10ms/step - loss: 0.0138 - accuracy: 1.0000 - val_loss: 0.3140 - val_accuracy: 0.9333\n",
            "Epoch 94/100\n",
            "9/9 [==============================] - 0s 10ms/step - loss: 0.0129 - accuracy: 1.0000 - val_loss: 0.2964 - val_accuracy: 0.9417\n",
            "Epoch 95/100\n",
            "9/9 [==============================] - 0s 10ms/step - loss: 0.0117 - accuracy: 1.0000 - val_loss: 0.3205 - val_accuracy: 0.9333\n",
            "Epoch 96/100\n",
            "9/9 [==============================] - 0s 10ms/step - loss: 0.0122 - accuracy: 1.0000 - val_loss: 0.3137 - val_accuracy: 0.9333\n",
            "Epoch 97/100\n",
            "9/9 [==============================] - 0s 10ms/step - loss: 0.0122 - accuracy: 1.0000 - val_loss: 0.2973 - val_accuracy: 0.9333\n",
            "Epoch 98/100\n",
            "9/9 [==============================] - 0s 10ms/step - loss: 0.0122 - accuracy: 1.0000 - val_loss: 0.3025 - val_accuracy: 0.9333\n",
            "Epoch 99/100\n",
            "9/9 [==============================] - 0s 10ms/step - loss: 0.0110 - accuracy: 1.0000 - val_loss: 0.3304 - val_accuracy: 0.9250\n",
            "Epoch 100/100\n",
            "9/9 [==============================] - 0s 10ms/step - loss: 0.0120 - accuracy: 0.9991 - val_loss: 0.3032 - val_accuracy: 0.9333\n"
          ],
          "name": "stdout"
        },
        {
          "output_type": "execute_result",
          "data": {
            "text/plain": [
              "<tensorflow.python.keras.callbacks.History at 0x7fd1846adba8>"
            ]
          },
          "metadata": {
            "tags": []
          },
          "execution_count": 72
        }
      ]
    },
    {
      "cell_type": "markdown",
      "metadata": {
        "id": "oUufbIpqLdqJ"
      },
      "source": [
        "El unico cambio que se realizo en este modelo respecto al anterior fue quitar las activaciones a la salida de las convoluciones, el modelo mejoro significativamente. "
      ]
    },
    {
      "cell_type": "markdown",
      "metadata": {
        "id": "oMEysMMXX1SG"
      },
      "source": [
        "### Comparacion de de Redes con Pooling y sin Pooling"
      ]
    },
    {
      "cell_type": "markdown",
      "metadata": {
        "id": "9pxo8RglX9-j"
      },
      "source": [
        "Usaremos el dataset de fashion MNIST que contiene imagenes de distintas prendas de vestir"
      ]
    },
    {
      "cell_type": "markdown",
      "metadata": {
        "id": "-vowQWuagLiX"
      },
      "source": [
        "Link  https://keras.io/datasets/#fashion-mnist-database-of-fashion-articles\n",
        "\n",
        "Dataset que consiste de 60,000 imágenes de entrenamiento en blanco y negro catalogadas en 10 categorías y un test set de 10,000 imágenes. Los labels/rótulos son:\n",
        "\n",
        "| Label |\tDescription |\n",
        "--- | --- |\n",
        "| 0\t| T-shirt/top\n",
        "| 1\t| Trouser\n",
        "| 2\t| Pullover \n",
        "| 3\t| Dress\n",
        "| 4\t| Coat\n",
        "| 5\t| Sandal\n",
        "| 6\t| Shirt\n",
        "| 7\t| Sneaker\n",
        "| 8\t| Bag\n",
        "| 9\t| Ankle boot\n",
        "\n",
        "from keras.datasets import fashion_mnist\n",
        "\n",
        "> (x_train, y_train), (x_test, y_test) = fashion_mnist.load_data()\n",
        "\n",
        "Retorna:\n",
        "2 tuplas:\n",
        "1. x_train, x_test: array de uint8 de imágenes blanco y negro de dimensiones (num_samples, 28, 28)\n",
        "2. y_train, y_test: array de uint8 d rótulos (enteros en el rango range 0-9) con dimensiones (num_samples,)."
      ]
    },
    {
      "cell_type": "code",
      "metadata": {
        "colab": {
          "base_uri": "https://localhost:8080/"
        },
        "id": "AXp3dg7pgKlA",
        "outputId": "cdded26d-4fc8-4026-8213-ff95c1d59c5d"
      },
      "source": [
        "fashion_mnist = keras.datasets.fashion_mnist\n",
        "type(fashion_mnist)"
      ],
      "execution_count": null,
      "outputs": [
        {
          "output_type": "execute_result",
          "data": {
            "text/plain": [
              "module"
            ]
          },
          "metadata": {
            "tags": []
          },
          "execution_count": 2
        }
      ]
    },
    {
      "cell_type": "code",
      "metadata": {
        "colab": {
          "base_uri": "https://localhost:8080/"
        },
        "id": "G3tcT6OTYFyV",
        "outputId": "c8258b35-ba9d-478d-b8c2-28870326b36a"
      },
      "source": [
        "(X_train,y_train),(X_test,y_test) = fashion_mnist.load_data();\n",
        "print('Las dimensiones del dataset de X_train es : ', X_train.shape)\n",
        "print('Las dimensiones del dataset de y_train es :',y_train.shape)\n",
        "print('Las dimensiones del dataset de X_test es :',X_test.shape)\n",
        "print('Las dimensiones del dataset de y_test es :',y_test.shape)"
      ],
      "execution_count": null,
      "outputs": [
        {
          "output_type": "stream",
          "text": [
            "Las dimensiones del dataset de X_train es :  (60000, 28, 28)\n",
            "Las dimensiones del dataset de y_train es : (60000,)\n",
            "Las dimensiones del dataset de X_test es : (10000, 28, 28)\n",
            "Las dimensiones del dataset de y_test es : (10000,)\n"
          ],
          "name": "stdout"
        }
      ]
    },
    {
      "cell_type": "code",
      "metadata": {
        "id": "3QKQKAgghq1F"
      },
      "source": [
        "class_names = [\"T-shirt/top\", \"Trouser\", \"Pullover\", \"Dress\", \"Coat\",\n",
        "               \"Sandal\", \"Shirt\", \"Sneaker\", \"Bag\", \"Ankle boot\"]"
      ],
      "execution_count": null,
      "outputs": []
    },
    {
      "cell_type": "markdown",
      "metadata": {
        "id": "GzgvNKajjCYU"
      },
      "source": [
        "Agregamos una dimension a las imagenes para lograr que cada una tenga las dimensiones  [*28x28x1*]. Luego Normalizamos"
      ]
    },
    {
      "cell_type": "code",
      "metadata": {
        "id": "xB03cjAFifD5"
      },
      "source": [
        "X_train =  X_train.reshape((60000,28,28,1))\n",
        "X_test =  X_test.reshape((10000,28,28,1))\n",
        "\n",
        "# NORMALIZAMOS LOS DATOS\n",
        "X_train_n = X_train/255\n",
        "X_test_n = X_test/255"
      ],
      "execution_count": null,
      "outputs": []
    },
    {
      "cell_type": "code",
      "metadata": {
        "colab": {
          "base_uri": "https://localhost:8080/"
        },
        "id": "vP_MU62rl43u",
        "outputId": "171a7cfc-2c42-4107-9ab6-54b0c7c7e637"
      },
      "source": [
        "# PASAMOS A ONE-HOT ENCODING los valores del target\n",
        "print('Categorias : ',np.unique(y_train))\n",
        "y_train_c = to_categorical(y_train)\n",
        "y_test_c = to_categorical(y_test)\n",
        "print(\"One Hot E : \",y_train_c[0])"
      ],
      "execution_count": null,
      "outputs": [
        {
          "output_type": "stream",
          "text": [
            "Categorias :  [0 1 2 3 4 5 6 7 8 9]\n",
            "One Hot E :  [0. 0. 0. 0. 0. 0. 0. 0. 0. 1.]\n"
          ],
          "name": "stdout"
        }
      ]
    },
    {
      "cell_type": "code",
      "metadata": {
        "id": "9t6FSKVilTNs"
      },
      "source": [
        "# PARTIMOS EL TRAIN EN train y validation \n",
        "X_train_,X_valid_ = X_train_n[:50000],X_train_n[50000:]\n",
        "y_train_,y_valid_ = y_train_c[:50000],y_train_c[50000:]\n",
        "X_test_ = X_test_n\n"
      ],
      "execution_count": null,
      "outputs": []
    },
    {
      "cell_type": "markdown",
      "metadata": {
        "id": "g-qcZ6nVnDZ4"
      },
      "source": [
        "###Modelo **CON** Pooling "
      ]
    },
    {
      "cell_type": "code",
      "metadata": {
        "id": "caNVecjUm2uq"
      },
      "source": [
        "model_a = Sequential()\n",
        "\n",
        "model_a.add(Conv2D(filters=32, kernel_size = (3,3), strides = 1, padding='valid', input_shape = (28,28,1), activation='relu' ))\n",
        "# 28 - 3 + 1 =  26x26x32  #Param 3x3x1x32 + 32 = 320\n",
        "model_a.add(MaxPooling2D(2,2))\n",
        "# /2 = 13x13x32\n",
        "model_a.add(Flatten())\n",
        "# 5408\n",
        "model_a.add(Dense(300,activation='relu'))\n",
        "#Param 1.622.700\n",
        "model_a.add(Dense(100,activation='relu'))\n",
        "#Param 300x100 + 100 = 30100\n",
        "model_a.add(Dense(10, activation='softmax'))"
      ],
      "execution_count": null,
      "outputs": []
    },
    {
      "cell_type": "markdown",
      "metadata": {
        "id": "mR1tbofmrptT"
      },
      "source": [
        "###Modelo **SIN** Pooling "
      ]
    },
    {
      "cell_type": "code",
      "metadata": {
        "id": "JAe7MsiYrO-e"
      },
      "source": [
        "model_b = Sequential()\n",
        "\n",
        "model_b.add(Conv2D(filters=32, kernel_size = (3,3), strides = 2, padding='valid', input_shape = (28,28,1), activation='relu' ))\n",
        "# 28 + - 3 /2 + 1 =  13x13x32  #Param 3x3x1x32 + 32 = 320\n",
        "model_b.add(Flatten())\n",
        "# 5408\n",
        "model_b.add(Dense(300,activation='relu'))\n",
        "#Param 1.622.700\n",
        "model_b.add(Dense(100,activation='relu'))\n",
        "#Param 300x100 + 100 = 30100\n",
        "model_b.add(Dense(10, activation='softmax'))"
      ],
      "execution_count": null,
      "outputs": []
    },
    {
      "cell_type": "markdown",
      "metadata": {
        "id": "9ihGbmE_r6D1"
      },
      "source": [
        "Compilamos y evaluamos los modelos "
      ]
    },
    {
      "cell_type": "code",
      "metadata": {
        "id": "6VqK5IVlr45N"
      },
      "source": [
        "model_a.compile(optimizer='sgd',loss='categorical_crossentropy',metrics=['accuracy'])\n",
        "\n",
        "model_b.compile(optimizer='sgd',loss='categorical_crossentropy',metrics=['accuracy'])"
      ],
      "execution_count": null,
      "outputs": []
    },
    {
      "cell_type": "code",
      "metadata": {
        "colab": {
          "base_uri": "https://localhost:8080/"
        },
        "id": "tZ9MCPYMsTdV",
        "outputId": "42501b70-bf24-492b-8c0c-66fed740aefd"
      },
      "source": [
        "history_a = model_a.fit(X_train_,y_train_, epochs=30, batch_size=128, validation_data=(X_valid_,y_valid_))"
      ],
      "execution_count": null,
      "outputs": [
        {
          "output_type": "stream",
          "text": [
            "Epoch 1/30\n",
            "391/391 [==============================] - 2s 5ms/step - loss: 1.1184 - accuracy: 0.6378 - val_loss: 0.6868 - val_accuracy: 0.7422\n",
            "Epoch 2/30\n",
            "391/391 [==============================] - 2s 4ms/step - loss: 0.6074 - accuracy: 0.7826 - val_loss: 0.6471 - val_accuracy: 0.7501\n",
            "Epoch 3/30\n",
            "391/391 [==============================] - 2s 4ms/step - loss: 0.5427 - accuracy: 0.8041 - val_loss: 0.5060 - val_accuracy: 0.8195\n",
            "Epoch 4/30\n",
            "391/391 [==============================] - 2s 4ms/step - loss: 0.5031 - accuracy: 0.8202 - val_loss: 0.5190 - val_accuracy: 0.8137\n",
            "Epoch 5/30\n",
            "391/391 [==============================] - 2s 4ms/step - loss: 0.4792 - accuracy: 0.8284 - val_loss: 0.5781 - val_accuracy: 0.7722\n",
            "Epoch 6/30\n",
            "391/391 [==============================] - 2s 4ms/step - loss: 0.4546 - accuracy: 0.8390 - val_loss: 0.4587 - val_accuracy: 0.8357\n",
            "Epoch 7/30\n",
            "391/391 [==============================] - 2s 4ms/step - loss: 0.4424 - accuracy: 0.8413 - val_loss: 0.4417 - val_accuracy: 0.8414\n",
            "Epoch 8/30\n",
            "391/391 [==============================] - 2s 4ms/step - loss: 0.4274 - accuracy: 0.8486 - val_loss: 0.4295 - val_accuracy: 0.8468\n",
            "Epoch 9/30\n",
            "391/391 [==============================] - 2s 4ms/step - loss: 0.4139 - accuracy: 0.8539 - val_loss: 0.4805 - val_accuracy: 0.8309\n",
            "Epoch 10/30\n",
            "391/391 [==============================] - 2s 4ms/step - loss: 0.4047 - accuracy: 0.8568 - val_loss: 0.4640 - val_accuracy: 0.8293\n",
            "Epoch 11/30\n",
            "391/391 [==============================] - 2s 4ms/step - loss: 0.3925 - accuracy: 0.8600 - val_loss: 0.4176 - val_accuracy: 0.8540\n",
            "Epoch 12/30\n",
            "391/391 [==============================] - 2s 4ms/step - loss: 0.3846 - accuracy: 0.8623 - val_loss: 0.3996 - val_accuracy: 0.8578\n",
            "Epoch 13/30\n",
            "391/391 [==============================] - 2s 4ms/step - loss: 0.3749 - accuracy: 0.8664 - val_loss: 0.4135 - val_accuracy: 0.8504\n",
            "Epoch 14/30\n",
            "391/391 [==============================] - 2s 4ms/step - loss: 0.3680 - accuracy: 0.8690 - val_loss: 0.4049 - val_accuracy: 0.8565\n",
            "Epoch 15/30\n",
            "391/391 [==============================] - 2s 4ms/step - loss: 0.3611 - accuracy: 0.8715 - val_loss: 0.4100 - val_accuracy: 0.8491\n",
            "Epoch 16/30\n",
            "391/391 [==============================] - 2s 4ms/step - loss: 0.3553 - accuracy: 0.8728 - val_loss: 0.3791 - val_accuracy: 0.8649\n",
            "Epoch 17/30\n",
            "391/391 [==============================] - 2s 4ms/step - loss: 0.3485 - accuracy: 0.8768 - val_loss: 0.3822 - val_accuracy: 0.8627\n",
            "Epoch 18/30\n",
            "391/391 [==============================] - 2s 4ms/step - loss: 0.3416 - accuracy: 0.8770 - val_loss: 0.3666 - val_accuracy: 0.8667\n",
            "Epoch 19/30\n",
            "391/391 [==============================] - 2s 4ms/step - loss: 0.3344 - accuracy: 0.8801 - val_loss: 0.3662 - val_accuracy: 0.8701\n",
            "Epoch 20/30\n",
            "391/391 [==============================] - 2s 4ms/step - loss: 0.3312 - accuracy: 0.8803 - val_loss: 0.4219 - val_accuracy: 0.8506\n",
            "Epoch 21/30\n",
            "391/391 [==============================] - 2s 4ms/step - loss: 0.3234 - accuracy: 0.8841 - val_loss: 0.3372 - val_accuracy: 0.8783\n",
            "Epoch 22/30\n",
            "391/391 [==============================] - 2s 4ms/step - loss: 0.3204 - accuracy: 0.8830 - val_loss: 0.3779 - val_accuracy: 0.8690\n",
            "Epoch 23/30\n",
            "391/391 [==============================] - 2s 4ms/step - loss: 0.3132 - accuracy: 0.8875 - val_loss: 0.3397 - val_accuracy: 0.8750\n",
            "Epoch 24/30\n",
            "391/391 [==============================] - 2s 4ms/step - loss: 0.3118 - accuracy: 0.8861 - val_loss: 0.3511 - val_accuracy: 0.8734\n",
            "Epoch 25/30\n",
            "391/391 [==============================] - 2s 4ms/step - loss: 0.3050 - accuracy: 0.8907 - val_loss: 0.3443 - val_accuracy: 0.8773\n",
            "Epoch 26/30\n",
            "391/391 [==============================] - 2s 4ms/step - loss: 0.3008 - accuracy: 0.8904 - val_loss: 0.3264 - val_accuracy: 0.8781\n",
            "Epoch 27/30\n",
            "391/391 [==============================] - 2s 4ms/step - loss: 0.2980 - accuracy: 0.8927 - val_loss: 0.3385 - val_accuracy: 0.8752\n",
            "Epoch 28/30\n",
            "391/391 [==============================] - 2s 4ms/step - loss: 0.2928 - accuracy: 0.8941 - val_loss: 0.3244 - val_accuracy: 0.8802\n",
            "Epoch 29/30\n",
            "391/391 [==============================] - 2s 4ms/step - loss: 0.2894 - accuracy: 0.8946 - val_loss: 0.3249 - val_accuracy: 0.8801\n",
            "Epoch 30/30\n",
            "391/391 [==============================] - 2s 4ms/step - loss: 0.2851 - accuracy: 0.8965 - val_loss: 0.3226 - val_accuracy: 0.8834\n"
          ],
          "name": "stdout"
        }
      ]
    },
    {
      "cell_type": "code",
      "metadata": {
        "colab": {
          "base_uri": "https://localhost:8080/",
          "height": 324
        },
        "id": "4Ly02k_9thhx",
        "outputId": "e7032dc7-9e7b-4e67-95e7-cdd9d5298e46"
      },
      "source": [
        "pd.DataFrame(history_a.history).plot(figsize=(8,5))\n",
        "plt.grid(True)\n",
        "plt.gca().set_ylim(0,1)\n",
        "plt.show()"
      ],
      "execution_count": null,
      "outputs": [
        {
          "output_type": "display_data",
          "data": {
            "image/png": "[encoded data removed]",
            "text/plain": [
              "<Figure size 576x360 with 1 Axes>"
            ]
          },
          "metadata": {
            "tags": [],
            "needs_background": "light"
          }
        }
      ]
    },
    {
      "cell_type": "code",
      "metadata": {
        "colab": {
          "base_uri": "https://localhost:8080/"
        },
        "id": "PekCc96ZufyO",
        "outputId": "01c00126-79da-4d6f-cdbf-284ee6701d43"
      },
      "source": [
        "eval = model_a.evaluate(X_test_,y_test_c)"
      ],
      "execution_count": null,
      "outputs": [
        {
          "output_type": "stream",
          "text": [
            "313/313 [==============================] - 1s 2ms/step - loss: 0.3383 - accuracy: 0.8784\n"
          ],
          "name": "stdout"
        }
      ]
    },
    {
      "cell_type": "code",
      "metadata": {
        "colab": {
          "base_uri": "https://localhost:8080/",
          "height": 210
        },
        "id": "p8IaW5Phuuh9",
        "outputId": "bbd806ab-6374-4461-b64d-f2c34c0065fe"
      },
      "source": [
        "y_pred =  model_a.predict_classes(X_test_[:6])\n",
        "print('valores Reales :',y_test[:6])\n",
        "print('Predicciones : ',y_pred)\n",
        "for i in range(6):\n",
        "  plt.subplot(160 + 1+ i)\n",
        "  plt.imshow(X_test[i,:,:,0])\n",
        "plt.show()"
      ],
      "execution_count": null,
      "outputs": [
        {
          "output_type": "stream",
          "text": [
            "WARNING:tensorflow:From <ipython-input-14-f6c9361289d4>:1: Sequential.predict_classes (from tensorflow.python.keras.engine.sequential) is deprecated and will be removed after 2021-01-01.\n",
            "Instructions for updating:\n",
            "Please use instead:* `np.argmax(model.predict(x), axis=-1)`,   if your model does multi-class classification   (e.g. if it uses a `softmax` last-layer activation).* `(model.predict(x) > 0.5).astype(\"int32\")`,   if your model does binary classification   (e.g. if it uses a `sigmoid` last-layer activation).\n",
            "valores Reales : [9 2 1 1 6 1]\n",
            "Predicciones :  [9 2 1 1 6 1]\n"
          ],
          "name": "stdout"
        },
        {
          "output_type": "display_data",
          "data": {
            "image/png": "[encoded data removed]",
            "text/plain": [
              "<Figure size 432x288 with 6 Axes>"
            ]
          },
          "metadata": {
            "tags": [],
            "needs_background": "light"
          }
        }
      ]
    },
    {
      "cell_type": "code",
      "metadata": {
        "colab": {
          "base_uri": "https://localhost:8080/"
        },
        "id": "uYGnOTS2w9LL",
        "outputId": "a2254d11-43ed-441b-a0f5-0f920c01f62e"
      },
      "source": [
        "for i in y_pred:\n",
        "  print(class_names[i])"
      ],
      "execution_count": null,
      "outputs": [
        {
          "output_type": "stream",
          "text": [
            "Ankle boot\n",
            "Pullover\n",
            "Trouser\n",
            "Trouser\n",
            "Shirt\n",
            "Trouser\n"
          ],
          "name": "stdout"
        }
      ]
    },
    {
      "cell_type": "code",
      "metadata": {
        "colab": {
          "base_uri": "https://localhost:8080/"
        },
        "id": "LjCFaS82jFdd",
        "outputId": "5bad33bf-b7b8-4653-ffef-41e27811f9e1"
      },
      "source": [
        "history_b = model_b.fit(X_train_,y_train_, epochs=30, batch_size=128, validation_data=(X_valid_,y_valid_))"
      ],
      "execution_count": null,
      "outputs": [
        {
          "output_type": "stream",
          "text": [
            "Epoch 1/30\n",
            "391/391 [==============================] - 2s 4ms/step - loss: 1.1555 - accuracy: 0.6314 - val_loss: 0.6656 - val_accuracy: 0.7662\n",
            "Epoch 2/30\n",
            "391/391 [==============================] - 1s 4ms/step - loss: 0.6110 - accuracy: 0.7825 - val_loss: 0.5788 - val_accuracy: 0.7763\n",
            "Epoch 3/30\n",
            "391/391 [==============================] - 1s 4ms/step - loss: 0.5415 - accuracy: 0.8047 - val_loss: 0.5082 - val_accuracy: 0.8200\n",
            "Epoch 4/30\n",
            "391/391 [==============================] - 1s 4ms/step - loss: 0.5042 - accuracy: 0.8195 - val_loss: 0.5881 - val_accuracy: 0.7869\n",
            "Epoch 5/30\n",
            "391/391 [==============================] - 1s 4ms/step - loss: 0.4800 - accuracy: 0.8296 - val_loss: 0.4894 - val_accuracy: 0.8259\n",
            "Epoch 6/30\n",
            "391/391 [==============================] - 1s 4ms/step - loss: 0.4598 - accuracy: 0.8393 - val_loss: 0.4882 - val_accuracy: 0.8204\n",
            "Epoch 7/30\n",
            "391/391 [==============================] - 1s 4ms/step - loss: 0.4466 - accuracy: 0.8416 - val_loss: 0.4620 - val_accuracy: 0.8336\n",
            "Epoch 8/30\n",
            "391/391 [==============================] - 1s 4ms/step - loss: 0.4311 - accuracy: 0.8476 - val_loss: 0.4444 - val_accuracy: 0.8454\n",
            "Epoch 9/30\n",
            "391/391 [==============================] - 1s 4ms/step - loss: 0.4225 - accuracy: 0.8502 - val_loss: 0.4326 - val_accuracy: 0.8469\n",
            "Epoch 10/30\n",
            "391/391 [==============================] - 1s 4ms/step - loss: 0.4109 - accuracy: 0.8534 - val_loss: 0.4411 - val_accuracy: 0.8441\n",
            "Epoch 11/30\n",
            "391/391 [==============================] - 1s 4ms/step - loss: 0.4013 - accuracy: 0.8578 - val_loss: 0.4254 - val_accuracy: 0.8482\n",
            "Epoch 12/30\n",
            "391/391 [==============================] - 1s 4ms/step - loss: 0.3925 - accuracy: 0.8603 - val_loss: 0.4085 - val_accuracy: 0.8507\n",
            "Epoch 13/30\n",
            "391/391 [==============================] - 1s 4ms/step - loss: 0.3859 - accuracy: 0.8620 - val_loss: 0.4250 - val_accuracy: 0.8513\n",
            "Epoch 14/30\n",
            "391/391 [==============================] - 1s 4ms/step - loss: 0.3786 - accuracy: 0.8640 - val_loss: 0.3887 - val_accuracy: 0.8646\n",
            "Epoch 15/30\n",
            "391/391 [==============================] - 1s 4ms/step - loss: 0.3721 - accuracy: 0.8658 - val_loss: 0.4057 - val_accuracy: 0.8510\n",
            "Epoch 16/30\n",
            "391/391 [==============================] - 2s 4ms/step - loss: 0.3656 - accuracy: 0.8686 - val_loss: 0.4018 - val_accuracy: 0.8578\n",
            "Epoch 17/30\n",
            "391/391 [==============================] - 2s 4ms/step - loss: 0.3603 - accuracy: 0.8701 - val_loss: 0.3974 - val_accuracy: 0.8560\n",
            "Epoch 18/30\n",
            "391/391 [==============================] - 1s 4ms/step - loss: 0.3557 - accuracy: 0.8719 - val_loss: 0.4690 - val_accuracy: 0.8265\n",
            "Epoch 19/30\n",
            "391/391 [==============================] - 1s 4ms/step - loss: 0.3506 - accuracy: 0.8733 - val_loss: 0.3779 - val_accuracy: 0.8642\n",
            "Epoch 20/30\n",
            "391/391 [==============================] - 2s 4ms/step - loss: 0.3454 - accuracy: 0.8756 - val_loss: 0.3802 - val_accuracy: 0.8592\n",
            "Epoch 21/30\n",
            "391/391 [==============================] - 1s 4ms/step - loss: 0.3420 - accuracy: 0.8752 - val_loss: 0.3926 - val_accuracy: 0.8547\n",
            "Epoch 22/30\n",
            "391/391 [==============================] - 2s 4ms/step - loss: 0.3366 - accuracy: 0.8766 - val_loss: 0.3662 - val_accuracy: 0.8630\n",
            "Epoch 23/30\n",
            "391/391 [==============================] - 2s 4ms/step - loss: 0.3315 - accuracy: 0.8796 - val_loss: 0.3799 - val_accuracy: 0.8592\n",
            "Epoch 24/30\n",
            "391/391 [==============================] - 2s 4ms/step - loss: 0.3276 - accuracy: 0.8823 - val_loss: 0.3719 - val_accuracy: 0.8647\n",
            "Epoch 25/30\n",
            "391/391 [==============================] - 2s 4ms/step - loss: 0.3257 - accuracy: 0.8800 - val_loss: 0.4118 - val_accuracy: 0.8461\n",
            "Epoch 26/30\n",
            "391/391 [==============================] - 2s 4ms/step - loss: 0.3199 - accuracy: 0.8834 - val_loss: 0.3581 - val_accuracy: 0.8728\n",
            "Epoch 27/30\n",
            "391/391 [==============================] - 2s 4ms/step - loss: 0.3160 - accuracy: 0.8841 - val_loss: 0.3506 - val_accuracy: 0.8722\n",
            "Epoch 28/30\n",
            "391/391 [==============================] - 2s 4ms/step - loss: 0.3146 - accuracy: 0.8840 - val_loss: 0.3463 - val_accuracy: 0.8761\n",
            "Epoch 29/30\n",
            "391/391 [==============================] - 1s 4ms/step - loss: 0.3104 - accuracy: 0.8866 - val_loss: 0.3520 - val_accuracy: 0.8707\n",
            "Epoch 30/30\n",
            "391/391 [==============================] - 1s 4ms/step - loss: 0.3085 - accuracy: 0.8861 - val_loss: 0.3350 - val_accuracy: 0.8776\n"
          ],
          "name": "stdout"
        }
      ]
    },
    {
      "cell_type": "markdown",
      "metadata": {
        "id": "e2kbx5PQkuVq"
      },
      "source": [
        "Podemos usar el **target** sin condificar con **ONE-HOT Encoding** pero debemos cambiar la funcion de loss de **categorical_crossentrpy** a **sparse_categorical_crossentropy**"
      ]
    },
    {
      "cell_type": "code",
      "metadata": {
        "id": "MbGWlVfikgU8"
      },
      "source": [
        "model_c = Sequential()\n",
        "\n",
        "model_c.add(Conv2D(filters=32, kernel_size = (3,3), strides = 1, padding='valid', input_shape = (28,28,1), activation='relu' ))\n",
        "# 28 - 3 + 1 =  26x26x32  #Param 3x3x1x32 + 32 = 320\n",
        "model_c.add(MaxPooling2D(2,2))\n",
        "# /2 = 13x13x32\n",
        "model_c.add(Flatten())\n",
        "# 5408\n",
        "model_c.add(Dense(300,activation='relu'))\n",
        "#Param 1.622.700\n",
        "model_c.add(Dense(100,activation='relu'))\n",
        "#Param 300x100 + 100 = 30100\n",
        "model_c.add(Dense(10, activation='softmax'))\n",
        "\n",
        "model_c.compile(optimizer='sgd',loss='sparse_categorical_crossentropy',metrics=['accuracy'])"
      ],
      "execution_count": null,
      "outputs": []
    },
    {
      "cell_type": "code",
      "metadata": {
        "colab": {
          "base_uri": "https://localhost:8080/"
        },
        "id": "_VF2eIYak4XZ",
        "outputId": "90416542-cbe2-43b7-bc04-b9fb61e001a6"
      },
      "source": [
        "y_train_orig, y_valid_orig = y_train[:50000],y_train[50000:]\n",
        "history_c = model_c.fit(X_train_,y_train_orig, epochs=30, batch_size=128, validation_data=(X_valid_,y_valid_orig))"
      ],
      "execution_count": null,
      "outputs": [
        {
          "output_type": "stream",
          "text": [
            "Epoch 1/30\n",
            "391/391 [==============================] - 2s 4ms/step - loss: 1.0459 - accuracy: 0.6650 - val_loss: 0.6961 - val_accuracy: 0.7508\n",
            "Epoch 2/30\n",
            "391/391 [==============================] - 1s 4ms/step - loss: 0.6134 - accuracy: 0.7815 - val_loss: 0.6257 - val_accuracy: 0.7592\n",
            "Epoch 3/30\n",
            "391/391 [==============================] - 2s 4ms/step - loss: 0.5421 - accuracy: 0.8063 - val_loss: 0.5422 - val_accuracy: 0.8008\n",
            "Epoch 4/30\n",
            "391/391 [==============================] - 1s 4ms/step - loss: 0.5024 - accuracy: 0.8196 - val_loss: 0.4874 - val_accuracy: 0.8241\n",
            "Epoch 5/30\n",
            "391/391 [==============================] - 1s 4ms/step - loss: 0.4760 - accuracy: 0.8303 - val_loss: 0.4634 - val_accuracy: 0.8355\n",
            "Epoch 6/30\n",
            "391/391 [==============================] - 1s 4ms/step - loss: 0.4559 - accuracy: 0.8377 - val_loss: 0.4716 - val_accuracy: 0.8331\n",
            "Epoch 7/30\n",
            "391/391 [==============================] - 1s 4ms/step - loss: 0.4375 - accuracy: 0.8444 - val_loss: 0.5291 - val_accuracy: 0.7944\n",
            "Epoch 8/30\n",
            "391/391 [==============================] - 1s 4ms/step - loss: 0.4244 - accuracy: 0.8499 - val_loss: 0.4355 - val_accuracy: 0.8431\n",
            "Epoch 9/30\n",
            "391/391 [==============================] - 2s 4ms/step - loss: 0.4105 - accuracy: 0.8550 - val_loss: 0.4135 - val_accuracy: 0.8547\n",
            "Epoch 10/30\n",
            "391/391 [==============================] - 1s 4ms/step - loss: 0.3989 - accuracy: 0.8585 - val_loss: 0.6384 - val_accuracy: 0.7575\n",
            "Epoch 11/30\n",
            "391/391 [==============================] - 1s 4ms/step - loss: 0.3937 - accuracy: 0.8605 - val_loss: 0.4247 - val_accuracy: 0.8441\n",
            "Epoch 12/30\n",
            "391/391 [==============================] - 1s 4ms/step - loss: 0.3815 - accuracy: 0.8652 - val_loss: 0.4070 - val_accuracy: 0.8571\n",
            "Epoch 13/30\n",
            "391/391 [==============================] - 1s 4ms/step - loss: 0.3726 - accuracy: 0.8673 - val_loss: 0.3910 - val_accuracy: 0.8635\n",
            "Epoch 14/30\n",
            "391/391 [==============================] - 1s 4ms/step - loss: 0.3655 - accuracy: 0.8705 - val_loss: 0.3784 - val_accuracy: 0.8678\n",
            "Epoch 15/30\n",
            "391/391 [==============================] - 1s 4ms/step - loss: 0.3580 - accuracy: 0.8728 - val_loss: 0.4036 - val_accuracy: 0.8562\n",
            "Epoch 16/30\n",
            "391/391 [==============================] - 1s 4ms/step - loss: 0.3514 - accuracy: 0.8734 - val_loss: 0.3918 - val_accuracy: 0.8581\n",
            "Epoch 17/30\n",
            "391/391 [==============================] - 2s 4ms/step - loss: 0.3453 - accuracy: 0.8761 - val_loss: 0.3623 - val_accuracy: 0.8734\n",
            "Epoch 18/30\n",
            "391/391 [==============================] - 1s 4ms/step - loss: 0.3384 - accuracy: 0.8791 - val_loss: 0.3568 - val_accuracy: 0.8710\n",
            "Epoch 19/30\n",
            "391/391 [==============================] - 1s 4ms/step - loss: 0.3303 - accuracy: 0.8830 - val_loss: 0.3525 - val_accuracy: 0.8731\n",
            "Epoch 20/30\n",
            "391/391 [==============================] - 1s 4ms/step - loss: 0.3266 - accuracy: 0.8828 - val_loss: 0.3377 - val_accuracy: 0.8794\n",
            "Epoch 21/30\n",
            "391/391 [==============================] - 1s 4ms/step - loss: 0.3203 - accuracy: 0.8851 - val_loss: 0.3386 - val_accuracy: 0.8784\n",
            "Epoch 22/30\n",
            "391/391 [==============================] - 1s 4ms/step - loss: 0.3185 - accuracy: 0.8846 - val_loss: 0.3352 - val_accuracy: 0.8813\n",
            "Epoch 23/30\n",
            "391/391 [==============================] - 1s 4ms/step - loss: 0.3117 - accuracy: 0.8878 - val_loss: 0.3369 - val_accuracy: 0.8785\n",
            "Epoch 24/30\n",
            "391/391 [==============================] - 1s 4ms/step - loss: 0.3071 - accuracy: 0.8890 - val_loss: 0.3255 - val_accuracy: 0.8825\n",
            "Epoch 25/30\n",
            "391/391 [==============================] - 1s 4ms/step - loss: 0.3024 - accuracy: 0.8898 - val_loss: 0.3299 - val_accuracy: 0.8808\n",
            "Epoch 26/30\n",
            "391/391 [==============================] - 1s 4ms/step - loss: 0.2984 - accuracy: 0.8926 - val_loss: 0.3280 - val_accuracy: 0.8817\n",
            "Epoch 27/30\n",
            "391/391 [==============================] - 1s 4ms/step - loss: 0.2948 - accuracy: 0.8918 - val_loss: 0.3223 - val_accuracy: 0.8830\n",
            "Epoch 28/30\n",
            "391/391 [==============================] - 1s 4ms/step - loss: 0.2900 - accuracy: 0.8944 - val_loss: 0.3310 - val_accuracy: 0.8785\n",
            "Epoch 29/30\n",
            "391/391 [==============================] - 1s 4ms/step - loss: 0.2880 - accuracy: 0.8963 - val_loss: 0.3160 - val_accuracy: 0.8861\n",
            "Epoch 30/30\n",
            "391/391 [==============================] - 1s 4ms/step - loss: 0.2850 - accuracy: 0.8953 - val_loss: 0.3171 - val_accuracy: 0.8866\n"
          ],
          "name": "stdout"
        }
      ]
    },
    {
      "cell_type": "markdown",
      "metadata": {
        "id": "932zqwzbloKQ"
      },
      "source": [
        "Podemos observar que el resultado del entrenamiento del modelo no se ve alterado. \n",
        "\n",
        "Respecto a redes con pooling y sin pooling para notar la diferencia deberiamos probar con mas capas convolucionales y pooling y verificar los resultaos. "
      ]
    },
    {
      "cell_type": "markdown",
      "metadata": {
        "id": "2s2xZM5OpR7R"
      },
      "source": [
        "### **Particularidades de la redes convolucionales**"
      ]
    },
    {
      "cell_type": "markdown",
      "metadata": {
        "id": "YWMk_m2TpUMR"
      },
      "source": [
        "- A medida que avanzamos en las capas convolucionales lo que ocurre normalmente es que n_h y n_w (cantidad de pixeles de ancho y alto de la imagen) disminuyen mientras la cantidad de canales o profundidad de la imagen aumenta proporcioanalmente con la cantidad de filtros convolucionales que utilicemos."
      ]
    },
    {
      "cell_type": "markdown",
      "metadata": {
        "id": "QKRNamPJpW55"
      },
      "source": [
        "- Generalmente se utilizan capas convolucionales seguidas de capas de Pooling. Las capas convolucionales logran que el modelo sea invariante a ciertas transformaciones de la entrada, ademas de eso al aplicar la convolucion en cada region de la imagen con un filtro de tamano fxf se comparten los parametros de distintas regiones de la imagen. Utilizar capas convolucionales ayuda a disminuir la probabilidad de overfitting (hay menos parametros)."
      ]
    },
    {
      "cell_type": "markdown",
      "metadata": {
        "id": "NPwjadyppZpy"
      },
      "source": [
        "- Las conexiones de una red convolucional son esparsas, es decir que cada activacion depende de unas pocas activaciones de la capa anterior. Esto quiere decir que por ejemplo un pixel de la capa siguiente solo dependera de las activaciones (pixeles) que forman parte de la capa que se convoluciona con  filtro. "
      ]
    }
  ]
}