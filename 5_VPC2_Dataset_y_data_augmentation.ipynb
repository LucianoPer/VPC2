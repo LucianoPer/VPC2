{
  "nbformat": 4,
  "nbformat_minor": 0,
  "metadata": {
    "kernelspec": {
      "display_name": "Python 3",
      "language": "python",
      "name": "python3"
    },
    "language_info": {
      "codemirror_mode": {
        "name": "ipython",
        "version": 3
      },
      "file_extension": ".py",
      "mimetype": "text/x-python",
      "name": "python",
      "nbconvert_exporter": "python",
      "pygments_lexer": "ipython3",
      "version": "3.7.6"
    },
    "colab": {
      "name": "5 - VPC2 -  Dataset_y_data_augmentation.ipynb",
      "provenance": [],
      "collapsed_sections": [],
      "include_colab_link": true
    }
  },
  "cells": [
    {
      "cell_type": "markdown",
      "metadata": {
        "id": "view-in-github",
        "colab_type": "text"
      },
      "source": [
        "<a href=\"https://colab.research.google.com/github/LucianoPer/VPC2/blob/main/5_VPC2_Dataset_y_data_augmentation.ipynb\" target=\"_parent\"><img src=\"https://colab.research.google.com/assets/colab-badge.svg\" alt=\"Open In Colab\"/></a>"
      ]
    },
    {
      "cell_type": "markdown",
      "metadata": {
        "id": "gnz3-c4GTXm9"
      },
      "source": [
        "# Vamos a utilizar un dataset de perros y gatos para explorar técnicas de Data Augmentation"
      ]
    },
    {
      "cell_type": "code",
      "metadata": {
        "id": "AvXs-cneTXm-"
      },
      "source": [
        "import numpy as np\n",
        "import pandas as pd\n",
        "%matplotlib inline\n",
        "import matplotlib as mpl\n",
        "import matplotlib.pyplot as plt\n",
        "import os"
      ],
      "execution_count": 1,
      "outputs": []
    },
    {
      "cell_type": "code",
      "metadata": {
        "id": "PHVTt9_UTXnC"
      },
      "source": [
        "import tensorflow as tf\n",
        "from tensorflow import keras"
      ],
      "execution_count": 2,
      "outputs": []
    },
    {
      "cell_type": "markdown",
      "metadata": {
        "id": "Zk78JBqATXnG"
      },
      "source": [
        "### DATASET:"
      ]
    },
    {
      "cell_type": "markdown",
      "metadata": {
        "id": "PQ0QRvPATXnH"
      },
      "source": [
        "El Dataset contiene 4000 imágenes de gatos y perros (2000 gatos y 2000 perros). Vamos a usar 2000 imágenes para entrenar, 1000 para validación, 1000 para test."
      ]
    },
    {
      "cell_type": "code",
      "metadata": {
        "id": "E-DnI3CtwyaC",
        "outputId": "065aaf43-1ca5-463d-bebc-50aa80cca7ce",
        "colab": {
          "base_uri": "https://localhost:8080/"
        }
      },
      "source": [
        "#subir el archivo perros_y_gatos.zip\n",
        "# está acá: https://drive.google.com/file/d/1WgbH_Xt421hNhD4gcfwsvtVsFheJKefm/view?usp=sharing\\\n",
        "!gdown --id 1WgbH_Xt421hNhD4gcfwsvtVsFheJKefm"
      ],
      "execution_count": 3,
      "outputs": [
        {
          "output_type": "stream",
          "text": [
            "Downloading...\n",
            "From: https://drive.google.com/uc?id=1WgbH_Xt421hNhD4gcfwsvtVsFheJKefm\n",
            "To: /content/perros_y_gatos.zip\n",
            "90.8MB [00:00, 195MB/s] \n"
          ],
          "name": "stdout"
        }
      ]
    },
    {
      "cell_type": "code",
      "metadata": {
        "id": "VBhyd6J6wcjs",
        "outputId": "71214c99-24b0-4ea8-93b7-0d8695f0a0c2",
        "colab": {
          "base_uri": "https://localhost:8080/"
        }
      },
      "source": [
        "!unzip /content/perros_y_gatos.zip > /dev/null"
      ],
      "execution_count": 4,
      "outputs": [
        {
          "output_type": "stream",
          "text": [
            "replace test/cats/cat.1501.jpg? [y]es, [n]o, [A]ll, [N]one, [r]ename: A\n"
          ],
          "name": "stdout"
        }
      ]
    },
    {
      "cell_type": "code",
      "metadata": {
        "id": "u9zISTEdxYyZ",
        "outputId": "4c5e9837-348b-4159-8383-852595d62bae",
        "colab": {
          "base_uri": "https://localhost:8080/"
        }
      },
      "source": [
        "!ls"
      ],
      "execution_count": 5,
      "outputs": [
        {
          "output_type": "stream",
          "text": [
            "perros_y_gatos.zip  sample_data  test  train  validation\n"
          ],
          "name": "stdout"
        }
      ]
    },
    {
      "cell_type": "code",
      "metadata": {
        "id": "BIYh_FdY0l8U",
        "outputId": "7085c7f3-0d7c-48d0-9f55-ca1e7c5c7719",
        "colab": {
          "base_uri": "https://localhost:8080/"
        }
      },
      "source": [
        "cd /content"
      ],
      "execution_count": 6,
      "outputs": [
        {
          "output_type": "stream",
          "text": [
            "/content\n"
          ],
          "name": "stdout"
        }
      ]
    },
    {
      "cell_type": "code",
      "metadata": {
        "id": "tomzRUadTXnJ"
      },
      "source": [
        "train_dir = './train'\n",
        "validation_dir = './validation'\n",
        "test_dir = './test'"
      ],
      "execution_count": 7,
      "outputs": []
    },
    {
      "cell_type": "code",
      "metadata": {
        "id": "dUNcrnQJfaSh",
        "outputId": "94b1d52d-0cd2-4a56-e578-f13d27d4d526",
        "colab": {
          "base_uri": "https://localhost:8080/",
          "height": 36
        }
      },
      "source": [
        "train_dir"
      ],
      "execution_count": 8,
      "outputs": [
        {
          "output_type": "execute_result",
          "data": {
            "application/vnd.google.colaboratory.intrinsic+json": {
              "type": "string"
            },
            "text/plain": [
              "'./train'"
            ]
          },
          "metadata": {
            "tags": []
          },
          "execution_count": 8
        }
      ]
    },
    {
      "cell_type": "markdown",
      "metadata": {
        "id": "KDrroygKTXnM"
      },
      "source": [
        "### Preprocesamiento de los datos"
      ]
    },
    {
      "cell_type": "markdown",
      "metadata": {
        "id": "assnLl85TXnN"
      },
      "source": [
        "* Leer las imágenes\n",
        "* Decodificar los JPEG en imágenes de píxeles RGB\n",
        "* Convertir estas imágenes en tensores de valores en punto flotante\n",
        "* Reescalar los valores de los píxeles al intervalo [0,1]\n"
      ]
    },
    {
      "cell_type": "code",
      "metadata": {
        "id": "HuOLXZOJTXnN"
      },
      "source": [
        "from tensorflow.keras.preprocessing.image import ImageDataGenerator"
      ],
      "execution_count": 9,
      "outputs": []
    },
    {
      "cell_type": "markdown",
      "metadata": {
        "id": "_0bUApO-TXnR"
      },
      "source": [
        "Link : https://keras.io/preprocessing/image/"
      ]
    },
    {
      "cell_type": "code",
      "metadata": {
        "id": "-yyUlq53TXnS",
        "outputId": "1e12ed28-3cc7-49e3-dec1-9a3ad7e408ab",
        "colab": {
          "base_uri": "https://localhost:8080/"
        }
      },
      "source": [
        "# Así generamos batches desde los directorios de imágenes\n",
        "train_datagen = ImageDataGenerator(rescale=1./255)\n",
        "test_datagen = ImageDataGenerator(rescale=1./255)\n",
        "\n",
        "train_generator = train_datagen.flow_from_directory(\n",
        "        train_dir,\n",
        "        target_size=(150, 150),\n",
        "        batch_size=20,\n",
        "        class_mode='binary')\n",
        "\n",
        "validation_generator = test_datagen.flow_from_directory(\n",
        "        validation_dir,\n",
        "        target_size=(150, 150),\n",
        "        batch_size=20,\n",
        "        class_mode='binary')"
      ],
      "execution_count": 10,
      "outputs": [
        {
          "output_type": "stream",
          "text": [
            "Found 2000 images belonging to 2 classes.\n",
            "Found 1000 images belonging to 2 classes.\n"
          ],
          "name": "stdout"
        }
      ]
    },
    {
      "cell_type": "code",
      "metadata": {
        "id": "zu_zWBHNfkJY",
        "outputId": "5fee11e9-5001-41ca-9485-ed54719fd801",
        "colab": {
          "base_uri": "https://localhost:8080/"
        }
      },
      "source": [
        "train_datagen"
      ],
      "execution_count": 11,
      "outputs": [
        {
          "output_type": "execute_result",
          "data": {
            "text/plain": [
              "<tensorflow.python.keras.preprocessing.image.ImageDataGenerator at 0x7faa49a04828>"
            ]
          },
          "metadata": {
            "tags": []
          },
          "execution_count": 11
        }
      ]
    },
    {
      "cell_type": "code",
      "metadata": {
        "id": "a3wT7I-yTXnX"
      },
      "source": [
        "# i = 1\n",
        "# for batch in train_datagen.flow(train_generator, batch_size=1,\n",
        "#                           save_to_dir='.', save_prefix='img', save_format='jpeg'):\n",
        "#   i += 1\n",
        "#   print(i)\n",
        "#   if i > 4:\n",
        "#     break\n",
        "\n"
      ],
      "execution_count": 12,
      "outputs": []
    },
    {
      "cell_type": "code",
      "metadata": {
        "id": "5nk9XFSvtmE7"
      },
      "source": [
        "# import matplotlib.image as mpimg\n",
        "# import glob\n",
        "# import os\n",
        "\n",
        "# files =glob.glob(\"./*.jpeg\")\n",
        "# plt.figure(figsize=(10,5))\n",
        "# i = 1\n",
        "# for f in files:\n",
        "#     if i > 4:\n",
        "#         break \n",
        "#     plt.subplot(2,3,i)\n",
        "#     image = mpimg.imread(f)\n",
        "#     plt.imshow(image)\n",
        "#     i+=1\n",
        "#     os.remove(f)\n",
        "    \n",
        "# plt.show()"
      ],
      "execution_count": 13,
      "outputs": []
    },
    {
      "cell_type": "code",
      "metadata": {
        "id": "jM2FYJIEyEEA",
        "outputId": "5daebdf3-9db8-4125-acfa-c801c236d14e",
        "colab": {
          "base_uri": "https://localhost:8080/"
        }
      },
      "source": [
        "!ls"
      ],
      "execution_count": 14,
      "outputs": [
        {
          "output_type": "stream",
          "text": [
            "perros_y_gatos.zip  sample_data  test  train  validation\n"
          ],
          "name": "stdout"
        }
      ]
    },
    {
      "cell_type": "code",
      "metadata": {
        "id": "27lf0gY6TXnb"
      },
      "source": [
        "from tensorflow.keras import layers\n",
        "from tensorflow.keras import models"
      ],
      "execution_count": 15,
      "outputs": []
    },
    {
      "cell_type": "code",
      "metadata": {
        "id": "4dfXCWT9TXne"
      },
      "source": [
        "model = models.Sequential()\n",
        "\n",
        "model.add(keras.layers.Conv2D(filters = 32, kernel_size = (3, 3), strides=1, padding='valid', activation='relu', input_shape=(150, 150, 3)))\n",
        "# conv -> input(150x150x3) filtros 32 3x3 --> output = 150-3/1  +1 =  148x148x32\n",
        "model.add(keras.layers.MaxPooling2D((2, 2),strides=2))\n",
        "# Pooling -> input 148x148x32 pool 2x2  strides 2 --> output =  148 - 2 /2  +1 = 74x74x32\n",
        "model.add(keras.layers.Conv2D(filters = 64, kernel_size = (3, 3), strides=1, padding='valid', activation='relu', ))\n",
        "# conv -> input(74x74x32) filtros 64 3x3 --> output = 74-3/1  +1 =  72x72x64\n",
        "model.add(keras.layers.MaxPooling2D((2, 2),strides=2))\n",
        "# Pooling -> input 72x72x64 pool 2x2  strides 2 --> output =  72 - 2 /2  +1 = 36x36x64\n",
        "model.add(keras.layers.Conv2D(filters = 128, kernel_size = (3, 3), strides=1, padding='valid', activation='relu', ))\n",
        "# conv -> input(36x36x64) filtros 128 3x3 --> output = 36-3/1  +1 =  34x34x128\n",
        "model.add(keras.layers.MaxPooling2D((2, 2),strides=2))\n",
        "# Pooling -> input 34x34x128 pool 2x2  strides 2 --> output =  34 - 2 /2  +1 = 17x17x128\n",
        "model.add(keras.layers.MaxPooling2D((2, 2),strides=2))\n",
        "# Pooling -> input 17x17x128 pool 2x2  strides 2 --> output =  17 - 2 /2  +1 = 8x8x128\n",
        "model.add(keras.layers.Flatten())\n",
        "# flatten 8x8x128 = 8192\n",
        "model.add(keras.layers.Dense(512, activation=\"relu\"))\n",
        "model.add(keras.layers.Dense(1, activation=\"sigmoid\"))"
      ],
      "execution_count": 16,
      "outputs": []
    },
    {
      "cell_type": "code",
      "metadata": {
        "id": "0cp9q94YTXng",
        "outputId": "7d95c73a-05f9-4b41-c01d-11f26dc0c348",
        "colab": {
          "base_uri": "https://localhost:8080/"
        }
      },
      "source": [
        "model.summary()"
      ],
      "execution_count": 17,
      "outputs": [
        {
          "output_type": "stream",
          "text": [
            "Model: \"sequential\"\n",
            "_________________________________________________________________\n",
            "Layer (type)                 Output Shape              Param #   \n",
            "=================================================================\n",
            "conv2d (Conv2D)              (None, 148, 148, 32)      896       \n",
            "_________________________________________________________________\n",
            "max_pooling2d (MaxPooling2D) (None, 74, 74, 32)        0         \n",
            "_________________________________________________________________\n",
            "conv2d_1 (Conv2D)            (None, 72, 72, 64)        18496     \n",
            "_________________________________________________________________\n",
            "max_pooling2d_1 (MaxPooling2 (None, 36, 36, 64)        0         \n",
            "_________________________________________________________________\n",
            "conv2d_2 (Conv2D)            (None, 34, 34, 128)       73856     \n",
            "_________________________________________________________________\n",
            "max_pooling2d_2 (MaxPooling2 (None, 17, 17, 128)       0         \n",
            "_________________________________________________________________\n",
            "max_pooling2d_3 (MaxPooling2 (None, 8, 8, 128)         0         \n",
            "_________________________________________________________________\n",
            "flatten (Flatten)            (None, 8192)              0         \n",
            "_________________________________________________________________\n",
            "dense (Dense)                (None, 512)               4194816   \n",
            "_________________________________________________________________\n",
            "dense_1 (Dense)              (None, 1)                 513       \n",
            "=================================================================\n",
            "Total params: 4,288,577\n",
            "Trainable params: 4,288,577\n",
            "Non-trainable params: 0\n",
            "_________________________________________________________________\n"
          ],
          "name": "stdout"
        }
      ]
    },
    {
      "cell_type": "code",
      "metadata": {
        "id": "__ppSmEsTXnj"
      },
      "source": [
        "from tensorflow.keras import optimizers\n",
        "\n",
        "# compilar el modelo con binary_crossentropy y optimizador RMSprop con\n",
        "# learning rate 1e-4, la métrica a usar es la accuracy (acc)\n",
        "\n",
        "model.compile(loss='binary_crossentropy',\n",
        "              optimizer=optimizers.RMSprop(lr=1e-4),\n",
        "              metrics=['acc'])"
      ],
      "execution_count": 18,
      "outputs": []
    },
    {
      "cell_type": "code",
      "metadata": {
        "id": "VCXq57TfTXnn",
        "outputId": "83ac8ea7-051c-4e48-aee3-4ffed5697eaa",
        "colab": {
          "base_uri": "https://localhost:8080/"
        }
      },
      "source": [
        "# utilizar model.fit_generator para entrenar\n",
        "history = model.fit_generator(\n",
        "      train_generator,\n",
        "      steps_per_epoch=100,\n",
        "      epochs=5,\n",
        "      validation_data=validation_generator,\n",
        "      validation_steps=50)"
      ],
      "execution_count": 19,
      "outputs": [
        {
          "output_type": "stream",
          "text": [
            "WARNING:tensorflow:From <ipython-input-19-e7af3f964552>:7: Model.fit_generator (from tensorflow.python.keras.engine.training) is deprecated and will be removed in a future version.\n",
            "Instructions for updating:\n",
            "Please use Model.fit, which supports generators.\n",
            "Epoch 1/5\n",
            "100/100 [==============================] - 96s 963ms/step - loss: 0.6843 - acc: 0.5540 - val_loss: 0.6782 - val_acc: 0.5550\n",
            "Epoch 2/5\n",
            "100/100 [==============================] - 96s 957ms/step - loss: 0.6366 - acc: 0.6565 - val_loss: 0.6431 - val_acc: 0.6060\n",
            "Epoch 3/5\n",
            "100/100 [==============================] - 98s 985ms/step - loss: 0.6011 - acc: 0.6925 - val_loss: 0.6061 - val_acc: 0.6840\n",
            "Epoch 4/5\n",
            "100/100 [==============================] - 96s 964ms/step - loss: 0.5543 - acc: 0.7160 - val_loss: 0.5773 - val_acc: 0.7030\n",
            "Epoch 5/5\n",
            "100/100 [==============================] - 97s 967ms/step - loss: 0.5271 - acc: 0.7420 - val_loss: 0.5939 - val_acc: 0.6850\n"
          ],
          "name": "stdout"
        }
      ]
    },
    {
      "cell_type": "code",
      "metadata": {
        "id": "Cl1_o5PlTXnq",
        "outputId": "bd15c7e3-c653-4ef2-cd3c-939b9a0b5fe2",
        "colab": {
          "base_uri": "https://localhost:8080/",
          "height": 324
        }
      },
      "source": [
        "pd.DataFrame(history.history).plot(figsize=(8, 5))\n",
        "plt.grid(True)\n",
        "plt.gca().set_ylim(0, 1)\n",
        "plt.show()"
      ],
      "execution_count": 20,
      "outputs": [
        {
          "output_type": "display_data",
          "data": {
            "image/png": "[encoded data removed]",
            "text/plain": [
              "<Figure size 576x360 with 1 Axes>"
            ]
          },
          "metadata": {
            "tags": [],
            "needs_background": "light"
          }
        }
      ]
    },
    {
      "cell_type": "code",
      "metadata": {
        "id": "wBcVvX-HTXns"
      },
      "source": [
        "from tensorflow.keras import backend as K \n",
        "\n",
        "K.clear_session()\n",
        "del model"
      ],
      "execution_count": 26,
      "outputs": []
    },
    {
      "cell_type": "markdown",
      "metadata": {
        "id": "0lNZqKvXTXnv"
      },
      "source": [
        "### DATA AUGMENTATION"
      ]
    },
    {
      "cell_type": "markdown",
      "metadata": {
        "id": "O4YwS2n2TXnw"
      },
      "source": [
        "Distorsión, Rotación, Crop, Flip horizontal: \n",
        "![image.png](attachment:image.png)"
      ]
    },
    {
      "cell_type": "markdown",
      "metadata": {
        "id": "idlLIwPuTXnw"
      },
      "source": [
        "Vamos a distorsionar (estirando y escalando), rotar las imágenes, invertirlas horizontalmente, hacer zoom en una región, esto va a ser aleatorio dentro de un cierto rango, utilizar ImageDataGenerator con parámetros para que esto ocurra.\n",
        "\n",
        "https://keras.io/api/preprocessing/image/\n",
        "\n",
        "https://github.com/keras-team/keras-preprocessing/blob/master/keras_preprocessing/image/image_data_generator.py\n",
        "\n",
        "https://github.com/keras-team/keras-preprocessing/blob/master/keras_preprocessing/image/affine_transformations.py\n",
        "\n",
        "usar:\n",
        "\n",
        "- rotation_range -> rango aleatorio de angulo de rotacions\n",
        "- width_shift_range -> rango aleatorio de desplazamiento en x expresado como proporcion de la imagen [0,1]\n",
        "- height_shift_range -> rango aleatorio de desplazamiento en y expresado como proporcion de la imagen [0,1]\n",
        "- shear_range -> rango aleatorio de 'shear' o cillamiento https://en.wikipedia.org/wiki/Shear_mapping [0,1]\n",
        "- zoom_range -> rango aleatorio de zoom de la imagen [0,1]\n",
        "- horizontal_flip -> boolean (si se flipea aleatoriamente la imagen en la dirección horizontal)"
      ]
    },
    {
      "cell_type": "code",
      "metadata": {
        "id": "_4AfTtUYTXnx",
        "outputId": "d96a8c3c-aa73-4f7e-d2fc-66b7f2d27017",
        "colab": {
          "base_uri": "https://localhost:8080/"
        }
      },
      "source": [
        "train_datagen = ImageDataGenerator(\n",
        "    rescale=1./255,\n",
        "    zoom_range = 0.3,\n",
        "    rotation_range= 0.1,\n",
        "    shear_range = 0.2,\n",
        "    horizontal_flip = True, \n",
        "    )\n",
        "\n",
        "test_datagen = ImageDataGenerator(rescale=1./255)\n",
        "\n",
        "train_generator = train_datagen.flow_from_directory(\n",
        "        train_dir,\n",
        "        target_size=(150, 150),\n",
        "        batch_size=20,\n",
        "        class_mode='binary')\n",
        "\n",
        "validation_generator = test_datagen.flow_from_directory(\n",
        "        validation_dir,\n",
        "        target_size=(150, 150),\n",
        "        batch_size=20,\n",
        "        class_mode='binary')\n"
      ],
      "execution_count": 34,
      "outputs": [
        {
          "output_type": "stream",
          "text": [
            "Found 2000 images belonging to 2 classes.\n",
            "Found 1000 images belonging to 2 classes.\n"
          ],
          "name": "stdout"
        }
      ]
    },
    {
      "cell_type": "markdown",
      "metadata": {
        "id": "tyBxlQH-TXnz"
      },
      "source": [
        "### Veamos algunas imágenes"
      ]
    },
    {
      "cell_type": "code",
      "metadata": {
        "id": "Gy6UlyMqTXnz"
      },
      "source": [
        "# i = 1\n",
        "# for batch in train_datagen.flow(train_generator, batch_size=1,\n",
        "#                           save_to_dir='.', save_prefix='img', save_format='jpeg'):\n",
        "#     i += 1\n",
        "#     if i > 6:\n",
        "#         break\n",
        "\n",
        "# import matplotlib.image as mpimg\n",
        "# import glob\n",
        "# import os\n",
        "\n",
        "# files =glob.glob(\".\\*.jpeg\")\n",
        "# plt.figure(figsize=(10,5))\n",
        "# i = 1\n",
        "# for f in files:\n",
        "#     if i > 6:\n",
        "#         break \n",
        "#     plt.subplot(2,3,i)\n",
        "#     image = mpimg.imread(f)\n",
        "#     plt.imshow(image)\n",
        "#     i+=1\n",
        "#     os.remove(f)\n",
        "    \n",
        "# plt.show()"
      ],
      "execution_count": 29,
      "outputs": []
    },
    {
      "cell_type": "code",
      "metadata": {
        "id": "7EIKRxpHTXn2"
      },
      "source": [
        "model2 = models.Sequential()\n",
        "model2.add(keras.layers.Conv2D(filters = 32, kernel_size = (3, 3), strides=1, padding='valid', activation='relu', input_shape=(150, 150, 3)))\n",
        "# conv -> input(150x150x3) filtros 32 3x3 --> output = 150-3/1  +1 =  148x148x32\n",
        "model2.add(keras.layers.MaxPooling2D((2, 2),strides=2))\n",
        "# Pooling -> input 148x148x32 pool 2x2  strides 2 --> output =  148 - 2 /2  +1 = 74x74x32\n",
        "model2.add(keras.layers.Conv2D(filters = 64, kernel_size = (3, 3), strides=1, padding='valid', activation='relu', ))\n",
        "# conv -> input(74x74x32) filtros 64 3x3 --> output = 74-3/1  +1 =  72x72x64\n",
        "model2.add(keras.layers.MaxPooling2D((2, 2),strides=2))\n",
        "# Pooling -> input 72x72x64 pool 2x2  strides 2 --> output =  72 - 2 /2  +1 = 36x36x64\n",
        "model2.add(keras.layers.Conv2D(filters = 128, kernel_size = (3, 3), strides=1, padding='valid', activation='relu', ))\n",
        "# conv -> input(36x36x64) filtros 128 3x3 --> output = 36-3/1  +1 =  34x34x128\n",
        "model2.add(keras.layers.MaxPooling2D((2, 2),strides=2))\n",
        "# Pooling -> input 34x34x128 pool 2x2  strides 2 --> output =  34 - 2 /2  +1 = 17x17x128\n",
        "model2.add(keras.layers.MaxPooling2D((2, 2),strides=2))\n",
        "# Pooling -> input 17x17x128 pool 2x2  strides 2 --> output =  17 - 2 /2  +1 = 8x8x128\n",
        "model2.add(keras.layers.Flatten())\n",
        "# flatten 8x8x128 = 8192\n",
        "model2.add(keras.layers.Dense(512, activation=\"relu\"))\n",
        "model2.add(keras.layers.Dense(1, activation=\"sigmoid\"))\n",
        "model2.compile(loss='binary_crossentropy',\n",
        "              optimizer=optimizers.RMSprop(lr=1e-4),\n",
        "              metrics=['acc'])"
      ],
      "execution_count": 38,
      "outputs": []
    },
    {
      "cell_type": "code",
      "metadata": {
        "id": "zw0xmIUuTXn4",
        "outputId": "86d2fbba-5fb9-4e14-afc0-65e368e5b9e2",
        "colab": {
          "base_uri": "https://localhost:8080/"
        }
      },
      "source": [
        "history2 = model2.fit_generator(\n",
        "      train_generator,\n",
        "      steps_per_epoch=100,\n",
        "      epochs=11,\n",
        "      validation_data=validation_generator,\n",
        "      validation_steps=50)"
      ],
      "execution_count": 39,
      "outputs": [
        {
          "output_type": "stream",
          "text": [
            "Epoch 1/11\n",
            "100/100 [==============================] - 103s 1s/step - loss: 0.6894 - acc: 0.5495 - val_loss: 0.6755 - val_acc: 0.5820\n",
            "Epoch 2/11\n",
            "100/100 [==============================] - 103s 1s/step - loss: 0.6659 - acc: 0.5885 - val_loss: 0.6433 - val_acc: 0.6210\n",
            "Epoch 3/11\n",
            "100/100 [==============================] - 107s 1s/step - loss: 0.6365 - acc: 0.6475 - val_loss: 0.6977 - val_acc: 0.5590\n",
            "Epoch 4/11\n",
            "100/100 [==============================] - 103s 1s/step - loss: 0.6265 - acc: 0.6520 - val_loss: 0.6088 - val_acc: 0.6790\n",
            "Epoch 5/11\n",
            "100/100 [==============================] - 103s 1s/step - loss: 0.6002 - acc: 0.6745 - val_loss: 0.5968 - val_acc: 0.6850\n",
            "Epoch 6/11\n",
            "100/100 [==============================] - 103s 1s/step - loss: 0.5764 - acc: 0.7010 - val_loss: 0.6516 - val_acc: 0.6310\n",
            "Epoch 7/11\n",
            "100/100 [==============================] - 103s 1s/step - loss: 0.5634 - acc: 0.7200 - val_loss: 0.5620 - val_acc: 0.7110\n",
            "Epoch 8/11\n",
            "100/100 [==============================] - 103s 1s/step - loss: 0.5552 - acc: 0.7115 - val_loss: 0.5275 - val_acc: 0.7500\n",
            "Epoch 9/11\n",
            "100/100 [==============================] - 107s 1s/step - loss: 0.5320 - acc: 0.7345 - val_loss: 0.5153 - val_acc: 0.7620\n",
            "Epoch 10/11\n",
            "100/100 [==============================] - 103s 1s/step - loss: 0.5199 - acc: 0.7600 - val_loss: 0.5029 - val_acc: 0.7640\n",
            "Epoch 11/11\n",
            "100/100 [==============================] - 103s 1s/step - loss: 0.5064 - acc: 0.7590 - val_loss: 0.5326 - val_acc: 0.7250\n"
          ],
          "name": "stdout"
        }
      ]
    },
    {
      "cell_type": "code",
      "metadata": {
        "id": "jn93iMM7TXn8",
        "outputId": "7ffd9081-c1f1-4ba5-d165-641ab6b80bd9",
        "colab": {
          "base_uri": "https://localhost:8080/",
          "height": 324
        }
      },
      "source": [
        "pd.DataFrame(history2.history).plot(figsize=(8, 5))\n",
        "plt.grid(True)\n",
        "plt.gca().set_ylim(0, 1)\n",
        "plt.show()"
      ],
      "execution_count": 37,
      "outputs": [
        {
          "output_type": "display_data",
          "data": {
            "image/png": "[encoded data removed]",
            "text/plain": [
              "<Figure size 576x360 with 1 Axes>"
            ]
          },
          "metadata": {
            "tags": [],
            "needs_background": "light"
          }
        }
      ]
    },
    {
      "cell_type": "code",
      "metadata": {
        "id": "7fD_0v5BTXn_"
      },
      "source": [
        "keras.backend.clear_session\n",
        "del model2"
      ],
      "execution_count": 29,
      "outputs": []
    }
  ]
}