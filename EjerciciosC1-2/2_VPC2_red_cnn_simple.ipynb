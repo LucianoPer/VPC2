{
  "nbformat": 4,
  "nbformat_minor": 0,
  "metadata": {
    "kernelspec": {
      "display_name": "Python 3",
      "language": "python",
      "name": "python3"
    },
    "language_info": {
      "codemirror_mode": {
        "name": "ipython",
        "version": 3
      },
      "file_extension": ".py",
      "mimetype": "text/x-python",
      "name": "python",
      "nbconvert_exporter": "python",
      "pygments_lexer": "ipython3",
      "version": "3.7.6"
    },
    "colab": {
      "name": "2 - VPC2 - red_cnn_simple.ipynb",
      "provenance": [],
      "collapsed_sections": []
    }
  },
  "cells": [
    {
      "cell_type": "markdown",
      "metadata": {
        "id": "kdxZqw-_vJ5Z"
      },
      "source": [
        "# Vamos a hacer una red simple para entrener con mnist\n",
        "\n",
        "- Implementar una red convolucional simple en Keras para entrenar con MNIST\n",
        "- Entrenar la red\n",
        "- Usar la red para predecir en ejemplos nuevos"
      ]
    },
    {
      "cell_type": "markdown",
      "metadata": {
        "id": "MU7kp97kvJ5a"
      },
      "source": [
        "## Modelo simple en Keras/Tensorflow\n",
        "\n",
        "Armemos una red muy simple para clasificar digitos."
      ]
    },
    {
      "cell_type": "code",
      "metadata": {
        "id": "t72dcWeXvJ5b"
      },
      "source": [
        "import numpy as np\n",
        "from keras.datasets import mnist\n",
        "from matplotlib import pyplot\n",
        "from tensorflow.keras.models import Sequential\n",
        "from tensorflow.keras.layers import Conv2D, MaxPooling2D, Dense, Flatten\n",
        "from tensorflow.keras.utils import to_categorical\n",
        "\n",
        "num_filters = 8\n",
        "filter_size = 3\n",
        "pool_size = 2\n",
        "\n",
        "# Armar el modelo\n",
        "model = Sequential()\n",
        "model.add(Conv2D(num_filters, filter_size, input_shape=(28, 28, 1)))\n",
        "model.add(MaxPooling2D(pool_size=pool_size))\n",
        "model.add(Flatten())\n",
        "model.add(Dense(10, activation='softmax'))  \n",
        "\n",
        "# otra manera de hacer lo mismo:\n",
        "#model = Sequential([\n",
        "#  Conv2D(num_filters, filter_size, input_shape=(28, 28, 1)),\n",
        "#  MaxPooling2D(pool_size=pool_size),\n",
        "#  Flatten(),\n",
        "#  Dense(10, activation='softmax'),\n",
        "#])\n",
        "\n",
        "# Compilar el modelo\n",
        "model.compile(\n",
        "  'adam',\n",
        "  loss='categorical_crossentropy',\n",
        "  metrics=['accuracy'],\n",
        ")"
      ],
      "execution_count": 2,
      "outputs": []
    },
    {
      "cell_type": "markdown",
      "metadata": {
        "id": "FxFkT112vJ5f"
      },
      "source": [
        "## Cargamos los datos\n"
      ]
    },
    {
      "cell_type": "code",
      "metadata": {
        "id": "vHx6onwbvJ5f",
        "outputId": "9d7bd435-f877-4e79-9510-94ef86b70067",
        "colab": {
          "base_uri": "https://localhost:8080/",
          "height": 305
        }
      },
      "source": [
        "# Cargar el dataset\n",
        "(train_X, train_y), (test_X, test_y) = mnist.load_data()\n",
        "# Imprimir un resumen de los datos\n",
        "print('Train: X=%s, y=%s' % (train_X.shape, train_y.shape))\n",
        "print('Test: X=%s, y=%s' % (test_X.shape, test_y.shape))\n",
        "# Plotear las primeras imágenes\n",
        "for i in range(9):\n",
        "\t# define subplot\n",
        "\tpyplot.subplot(330 + 1 + i)\n",
        "\t# plot raw pixel data\n",
        "\tpyplot.imshow(train_X[i], cmap=pyplot.get_cmap('gray'))\n",
        "# show the figure\n",
        "pyplot.show()\n",
        "\n",
        "# Normalizamos las imágenes\n",
        "train_X_n = (train_X / 255) - 0.5\n",
        "test_X_n = (test_X / 255) - 0.5\n",
        "\n",
        "# Hacemos reshape de las imágenes para que tengan un canal\n",
        "train_X_n = train_X_n.reshape((train_X_n.shape[0], 28, 28, 1))\n",
        "test_X_n = test_X_n.reshape((test_X_n.shape[0], 28, 28, 1))\n",
        "\n",
        "# también se puede hacer\n",
        "#train_X_n = np.expand_dims(train_X_n, axis=3)\n",
        "#test_X_n = np.expand_dims(test_X_n, axis=3)\n",
        "\n"
      ],
      "execution_count": 5,
      "outputs": [
        {
          "output_type": "stream",
          "text": [
            "Train: X=(60000, 28, 28), y=(60000,)\n",
            "Test: X=(10000, 28, 28), y=(10000,)\n"
          ],
          "name": "stdout"
        },
        {
          "output_type": "display_data",
          "data": {
            "image/png": "[encoded data removed]",
            "text/plain": [
              "<Figure size 432x288 with 9 Axes>"
            ]
          },
          "metadata": {
            "tags": [],
            "needs_background": "light"
          }
        }
      ]
    },
    {
      "cell_type": "code",
      "metadata": {
        "id": "5v3ZBvD2lHqR",
        "outputId": "e11ffa15-a963-46ce-e377-c410b6f02b8a",
        "colab": {
          "base_uri": "https://localhost:8080/"
        }
      },
      "source": [
        "train_X_n.shape"
      ],
      "execution_count": 18,
      "outputs": [
        {
          "output_type": "execute_result",
          "data": {
            "text/plain": [
              "(60000, 28, 28, 1)"
            ]
          },
          "metadata": {
            "tags": []
          },
          "execution_count": 18
        }
      ]
    },
    {
      "cell_type": "code",
      "metadata": {
        "id": "29IlkA5slLqo",
        "outputId": "ebde3472-b4b1-4ecd-f4a1-a03336768811",
        "colab": {
          "base_uri": "https://localhost:8080/"
        }
      },
      "source": [
        "train_X.shape"
      ],
      "execution_count": 19,
      "outputs": [
        {
          "output_type": "execute_result",
          "data": {
            "text/plain": [
              "(60000, 28, 28)"
            ]
          },
          "metadata": {
            "tags": []
          },
          "execution_count": 19
        }
      ]
    },
    {
      "cell_type": "markdown",
      "metadata": {
        "id": "dpSVZomFvJ5i"
      },
      "source": [
        "### Entrenamos el modelo"
      ]
    },
    {
      "cell_type": "code",
      "metadata": {
        "id": "cf30zYJzvJ5k",
        "outputId": "dcc0a3cd-801b-4ec4-85ef-78f91ec289e7",
        "colab": {
          "base_uri": "https://localhost:8080/",
          "height": 339
        }
      },
      "source": [
        "# Entrenamos el modelo\n",
        "model.fit(\n",
        "  train_X_n,\n",
        "  to_categorical(train_y),\n",
        "  epochs=3,\n",
        "  validation_data=(test_X_n, to_categorical(test_y)),\n",
        ")\n",
        "\n",
        "# Guardar el modelo al disco\n",
        "#model.save_weights('cnn.h5')\n",
        "\n",
        "# Cargar el modelo del disco\n",
        "# model.load_weights('cnn.h5')\n",
        "\n",
        "# Predecir las primeras 5 imágines del test set\n",
        "predicciones = model.predict(test_X_n[:5])\n",
        "\n",
        "# Imprimir las predicciones\n",
        "print(np.argmax(predicciones, axis=1)) # [7, 2, 1, 0, 4]\n",
        "\n",
        "# Chequear que son correctas\n",
        "print(test_y[:5]) # [7, 2, 1, 0, 4]\n",
        "\n",
        "# Plotear esas imágenes\n",
        "for i in range(5):\n",
        "\tpyplot.subplot(330 + 1 + i)\n",
        "\tpyplot.imshow(test_X[i], cmap=pyplot.get_cmap('gray'))\n",
        "pyplot.show()"
      ],
      "execution_count": 7,
      "outputs": [
        {
          "output_type": "stream",
          "text": [
            "Epoch 1/3\n",
            "1875/1875 [==============================] - 11s 6ms/step - loss: 0.3648 - accuracy: 0.8942 - val_loss: 0.2137 - val_accuracy: 0.9407\n",
            "Epoch 2/3\n",
            "1875/1875 [==============================] - 11s 6ms/step - loss: 0.1761 - accuracy: 0.9494 - val_loss: 0.1375 - val_accuracy: 0.9596\n",
            "Epoch 3/3\n",
            "1875/1875 [==============================] - 11s 6ms/step - loss: 0.1293 - accuracy: 0.9626 - val_loss: 0.1132 - val_accuracy: 0.9654\n",
            "[7 2 1 0 4]\n",
            "[7 2 1 0 4]\n"
          ],
          "name": "stdout"
        },
        {
          "output_type": "display_data",
          "data": {
            "image/png": "[encoded data removed]",
            "text/plain": [
              "<Figure size 432x288 with 5 Axes>"
            ]
          },
          "metadata": {
            "tags": [],
            "needs_background": "light"
          }
        }
      ]
    },
    {
      "cell_type": "code",
      "metadata": {
        "id": "AifRlFB0vJ5n",
        "outputId": "18ec84ad-aea9-41de-803b-da39c9d52803",
        "colab": {
          "base_uri": "https://localhost:8080/"
        }
      },
      "source": [
        "print(model.summary())"
      ],
      "execution_count": 8,
      "outputs": [
        {
          "output_type": "stream",
          "text": [
            "Model: \"sequential_1\"\n",
            "_________________________________________________________________\n",
            "Layer (type)                 Output Shape              Param #   \n",
            "=================================================================\n",
            "conv2d_1 (Conv2D)            (None, 26, 26, 8)         80        \n",
            "_________________________________________________________________\n",
            "max_pooling2d_1 (MaxPooling2 (None, 13, 13, 8)         0         \n",
            "_________________________________________________________________\n",
            "flatten_1 (Flatten)          (None, 1352)              0         \n",
            "_________________________________________________________________\n",
            "dense_1 (Dense)              (None, 10)                13530     \n",
            "=================================================================\n",
            "Total params: 13,610\n",
            "Trainable params: 13,610\n",
            "Non-trainable params: 0\n",
            "_________________________________________________________________\n",
            "None\n"
          ],
          "name": "stdout"
        }
      ]
    },
    {
      "cell_type": "markdown",
      "metadata": {
        "id": "HBUUpYbCgEt8"
      },
      "source": [
        "Salida de la convolucion : 26\n",
        "\n",
        "Tamano de la salida de pol. poolsize: 2 -> 26/2 = 13\n",
        "\n",
        "flatten = 13x13x8 = 1352"
      ]
    },
    {
      "cell_type": "markdown",
      "metadata": {
        "id": "iRQGHvIXxQ_h"
      },
      "source": [
        "### Ejercicio: hacer otra red que tenga:\n",
        "1. Capa convolucional, 8 filtros de 3x3\n",
        "2. Capa max pool\n",
        "3. Capa convolucional, 16 filtros de 3x3\n",
        "4. Capa max pool\n",
        "5. Capa convolucional, 32 filtros de 3x3\n",
        "6. Capa max pool\n",
        "7. Flatten\n",
        "8. Capa densa \n",
        "9. Salida"
      ]
    },
    {
      "cell_type": "code",
      "metadata": {
        "id": "SAHK0wjNvJ5s"
      },
      "source": [
        "model_2 =  Sequential()\n",
        "model_2.add(Conv2D(8,kernel_size=(3,3),input_shape = (28,28,1)))\n",
        "# output_dim =  26x26x8\n",
        "model_2.add(MaxPooling2D(pool_size=(2,2)))\n",
        "# output_dim = 13x13x8\n",
        "model_2.add(Conv2D(16,kernel_size=(3,3)))\n",
        "# output_dim = 11x11x16\n",
        "model_2.add(MaxPooling2D(pool_size=(2,2)))\n",
        "# output_dim = 5x5x16\n",
        "model_2.add(Conv2D(32,kernel_size=(3,3)))\n",
        "# output_dim = 3x3x32\n",
        "model_2.add(MaxPooling2D(pool_size=(2,2)))\n",
        "#output_dim = 1x1x32\n",
        "model_2.add(Flatten())\n",
        "# output_dim = 32\n",
        "model_2.add(Dense(10,activation='softmax'))"
      ],
      "execution_count": 9,
      "outputs": []
    },
    {
      "cell_type": "code",
      "metadata": {
        "id": "HUZJvfb8Kptv"
      },
      "source": [
        "model_2.compile(\n",
        "  'adam',\n",
        "  loss='categorical_crossentropy',\n",
        "  metrics=['accuracy'],\n",
        ")"
      ],
      "execution_count": 13,
      "outputs": []
    },
    {
      "cell_type": "code",
      "metadata": {
        "id": "RHvBZGxFKTpJ",
        "outputId": "ffe8a751-dfe4-461c-f68e-881a8f143c9f",
        "colab": {
          "base_uri": "https://localhost:8080/"
        }
      },
      "source": [
        "model_2.fit(\n",
        "  train_X_n,\n",
        "  to_categorical(train_y),\n",
        "  epochs=3,\n",
        "  validation_data=(test_X_n, to_categorical(test_y)),\n",
        ")"
      ],
      "execution_count": 14,
      "outputs": [
        {
          "output_type": "stream",
          "text": [
            "Epoch 1/3\n",
            "1875/1875 [==============================] - 17s 9ms/step - loss: 0.3082 - accuracy: 0.9059 - val_loss: 0.1292 - val_accuracy: 0.9615\n",
            "Epoch 2/3\n",
            "1875/1875 [==============================] - 17s 9ms/step - loss: 0.1213 - accuracy: 0.9639 - val_loss: 0.0892 - val_accuracy: 0.9722\n",
            "Epoch 3/3\n",
            "1875/1875 [==============================] - 17s 9ms/step - loss: 0.0936 - accuracy: 0.9721 - val_loss: 0.0843 - val_accuracy: 0.9754\n"
          ],
          "name": "stdout"
        },
        {
          "output_type": "execute_result",
          "data": {
            "text/plain": [
              "<tensorflow.python.keras.callbacks.History at 0x7f3023cb6588>"
            ]
          },
          "metadata": {
            "tags": []
          },
          "execution_count": 14
        }
      ]
    },
    {
      "cell_type": "code",
      "metadata": {
        "id": "m0Jsix3Sii6D",
        "outputId": "0fb6ccac-6c67-4d9e-8622-8c61fc880fe0",
        "colab": {
          "base_uri": "https://localhost:8080/"
        }
      },
      "source": [
        "model_2.summary()"
      ],
      "execution_count": 15,
      "outputs": [
        {
          "output_type": "stream",
          "text": [
            "Model: \"sequential_2\"\n",
            "_________________________________________________________________\n",
            "Layer (type)                 Output Shape              Param #   \n",
            "=================================================================\n",
            "conv2d_2 (Conv2D)            (None, 26, 26, 8)         80        \n",
            "_________________________________________________________________\n",
            "max_pooling2d_2 (MaxPooling2 (None, 13, 13, 8)         0         \n",
            "_________________________________________________________________\n",
            "conv2d_3 (Conv2D)            (None, 11, 11, 16)        1168      \n",
            "_________________________________________________________________\n",
            "max_pooling2d_3 (MaxPooling2 (None, 5, 5, 16)          0         \n",
            "_________________________________________________________________\n",
            "conv2d_4 (Conv2D)            (None, 3, 3, 32)          4640      \n",
            "_________________________________________________________________\n",
            "max_pooling2d_4 (MaxPooling2 (None, 1, 1, 32)          0         \n",
            "_________________________________________________________________\n",
            "flatten_2 (Flatten)          (None, 32)                0         \n",
            "_________________________________________________________________\n",
            "dense_2 (Dense)              (None, 10)                330       \n",
            "=================================================================\n",
            "Total params: 6,218\n",
            "Trainable params: 6,218\n",
            "Non-trainable params: 0\n",
            "_________________________________________________________________\n"
          ],
          "name": "stdout"
        }
      ]
    },
    {
      "cell_type": "code",
      "metadata": {
        "id": "666hXn7Eimdr",
        "outputId": "fb4b73b0-8159-48ad-d1f7-b2a93d166adb",
        "colab": {
          "base_uri": "https://localhost:8080/",
          "height": 228
        }
      },
      "source": [
        "# Predecir las imágines del 5 al 10 del test set\n",
        "predicciones = model.predict(test_X_n[5:10])\n",
        "\n",
        "# Imprimir las predicciones\n",
        "print(np.argmax(predicciones, axis=1)) # [1, 4, 9, 5, 9]\n",
        "\n",
        "# Chequear que son correctas\n",
        "print(test_y[5:10]) # [1, 4, 9, 5, 9]\n",
        "\n",
        "# Plotear esas imágenes\n",
        "for i in range(5):\n",
        "\tpyplot.subplot(330 + 1 + i)\n",
        "\tpyplot.imshow(test_X[5+i], cmap=pyplot.get_cmap('gray'))\n",
        "pyplot.show()"
      ],
      "execution_count": 17,
      "outputs": [
        {
          "output_type": "stream",
          "text": [
            "[1 4 9 6 9]\n",
            "[1 4 9 5 9]\n"
          ],
          "name": "stdout"
        },
        {
          "output_type": "display_data",
          "data": {
            "image/png": "[encoded data removed]",
            "text/plain": [
              "<Figure size 432x288 with 5 Axes>"
            ]
          },
          "metadata": {
            "tags": [],
            "needs_background": "light"
          }
        }
      ]
    },
    {
      "cell_type": "markdown",
      "metadata": {
        "id": "q7xasLzTjXDy"
      },
      "source": [
        "El los valores evaluados el modelo interpreto la imagen de 5 como 6, pero aun asi el rendimiento del modelo es muy bueno (val_accuracy:0.97)"
      ]
    },
    {
      "cell_type": "markdown",
      "metadata": {
        "id": "E-DxZL5Lowy_"
      },
      "source": [
        "Para interpretar lo que ocurre dentro de las capas convolucionales creamos el mismo modelo truncado en la posicion donde queremos analizar el comportamiento. "
      ]
    },
    {
      "cell_type": "code",
      "metadata": {
        "id": "eLVwHGHbjseO"
      },
      "source": [
        "def create_truncated_model(trained_model):\n",
        "   model = Sequential()\n",
        "   model.add(Conv2D(8,kernel_size=(3,3),input_shape = (28,28,1))) \n",
        "   #model_2.add(MaxPooling2D(pool_size=(2,2)))\n",
        "   for i, layer in enumerate(model.layers):\n",
        "      layer.set_weights(trained_model.layers[i].get_weights())\n",
        " \n",
        "   model.compile(optimizer='adam', loss='categorical_crossentropy', metrics=['accuracy'])\n",
        "   return model\n"
      ],
      "execution_count": 51,
      "outputs": []
    },
    {
      "cell_type": "code",
      "metadata": {
        "id": "fw7rz32grdmp"
      },
      "source": [
        "truncated_model = create_truncated_model(model_2)\n",
        "hidden_features = truncated_model.predict(test_X_n[5:10])"
      ],
      "execution_count": 52,
      "outputs": []
    },
    {
      "cell_type": "code",
      "metadata": {
        "id": "wwGV8kmtthBd",
        "outputId": "e10081ea-ccf8-4f67-bd79-9868bccedfe0",
        "colab": {
          "base_uri": "https://localhost:8080/"
        }
      },
      "source": [
        "# verificamos el tamano de salida de la capa convolucional (5 imagenes de entrada,  8 filtros)\n",
        "hidden_features.shape"
      ],
      "execution_count": 24,
      "outputs": [
        {
          "output_type": "execute_result",
          "data": {
            "text/plain": [
              "(5, 26, 26, 8)"
            ]
          },
          "metadata": {
            "tags": []
          },
          "execution_count": 24
        }
      ]
    },
    {
      "cell_type": "code",
      "metadata": {
        "id": "dP-7hCozuve7",
        "outputId": "d9bcec6c-12d0-460c-9db4-1f3d1232ea11",
        "colab": {
          "base_uri": "https://localhost:8080/",
          "height": 265
        }
      },
      "source": [
        "pyplot.imshow(test_X[5], cmap=pyplot.get_cmap('gray'))\n",
        "pyplot.show()"
      ],
      "execution_count": 30,
      "outputs": [
        {
          "output_type": "display_data",
          "data": {
            "image/png": "[encoded data removed]",
            "text/plain": [
              "<Figure size 432x288 with 1 Axes>"
            ]
          },
          "metadata": {
            "tags": [],
            "needs_background": "light"
          }
        }
      ]
    },
    {
      "cell_type": "code",
      "metadata": {
        "id": "4d0Zbf4AtoYL"
      },
      "source": [
        "# analizamos la primer imagen, filtro 1\n",
        "#hidden_features[0,:,:,1]"
      ],
      "execution_count": 44,
      "outputs": []
    },
    {
      "cell_type": "code",
      "metadata": {
        "id": "bisBftmhv4M2",
        "outputId": "2eb9d6c8-b659-4cf9-e19f-4a38c9c965f3",
        "colab": {
          "base_uri": "https://localhost:8080/",
          "height": 268
        }
      },
      "source": [
        "# Analizamos cada una de las capas de salida de cada del filtro convolucional\n",
        "for i in range(8):\n",
        "\tpyplot.subplot(330 + 1 + i)\n",
        "\tpyplot.imshow(hidden_features[0,:,:,i], cmap=pyplot.get_cmap('gray'))\n",
        "pyplot.show()"
      ],
      "execution_count": 45,
      "outputs": [
        {
          "output_type": "display_data",
          "data": {
            "image/png": "[encoded data removed]",
            "text/plain": [
              "<Figure size 432x288 with 8 Axes>"
            ]
          },
          "metadata": {
            "tags": [],
            "needs_background": "light"
          }
        }
      ]
    },
    {
      "cell_type": "code",
      "metadata": {
        "id": "8-Wk2QU2wTki"
      },
      "source": [
        "# Si le agregamos la capa de pooling\n",
        "def create_truncated_model2(trained_model):\n",
        "   model = Sequential()\n",
        "   model.add(Conv2D(8,kernel_size=(3,3),input_shape = (28,28,1))) \n",
        "   model.add(MaxPooling2D(pool_size=(2,2)))\n",
        "   for i, layer in enumerate(model.layers):\n",
        "      layer.set_weights(trained_model.layers[i].get_weights())\n",
        " \n",
        "   model.compile(optimizer='adam', loss='categorical_crossentropy', metrics=['accuracy'])\n",
        "   return model"
      ],
      "execution_count": 53,
      "outputs": []
    },
    {
      "cell_type": "code",
      "metadata": {
        "id": "PszGW87Dwi_3"
      },
      "source": [
        "truncated_model2 = create_truncated_model2(model_2)\n",
        "hidden_features2 = truncated_model2.predict(test_X_n[5:10])"
      ],
      "execution_count": 54,
      "outputs": []
    },
    {
      "cell_type": "code",
      "metadata": {
        "id": "9gIlJelqxD-y",
        "outputId": "3acf60e3-3216-4c5e-a539-cd34cb57a33a",
        "colab": {
          "base_uri": "https://localhost:8080/"
        }
      },
      "source": [
        "hidden_features2.shape"
      ],
      "execution_count": 56,
      "outputs": [
        {
          "output_type": "execute_result",
          "data": {
            "text/plain": [
              "(5, 13, 13, 8)"
            ]
          },
          "metadata": {
            "tags": []
          },
          "execution_count": 56
        }
      ]
    },
    {
      "cell_type": "code",
      "metadata": {
        "id": "_cowbB72xAeB",
        "outputId": "3e61c392-2143-4936-922b-ace8eb2bafe9",
        "colab": {
          "base_uri": "https://localhost:8080/",
          "height": 267
        }
      },
      "source": [
        "for i in range(8):\n",
        "\tpyplot.subplot(330 + 1 + i)\n",
        "\tpyplot.imshow(hidden_features2[0,:,:,i], cmap=pyplot.get_cmap('gray'))\n",
        "pyplot.show()"
      ],
      "execution_count": 55,
      "outputs": [
        {
          "output_type": "display_data",
          "data": {
            "image/png": "[encoded data removed]",
            "text/plain": [
              "<Figure size 432x288 with 8 Axes>"
            ]
          },
          "metadata": {
            "tags": [],
            "needs_background": "light"
          }
        }
      ]
    },
    {
      "cell_type": "code",
      "metadata": {
        "id": "tsCosq-DxLXK"
      },
      "source": [
        "# Agregamos una capa convolucional mas \n",
        "def create_truncated_model3(trained_model):\n",
        "   model = Sequential()\n",
        "   model.add(Conv2D(8,kernel_size=(3,3),input_shape = (28,28,1))) \n",
        "   model.add(MaxPooling2D(pool_size=(2,2)))\n",
        "   model.add(Conv2D(16,kernel_size=(3,3)))\n",
        "   \n",
        "   for i, layer in enumerate(model.layers):\n",
        "      layer.set_weights(trained_model.layers[i].get_weights())\n",
        " \n",
        "   model.compile(optimizer='adam', loss='categorical_crossentropy', metrics=['accuracy'])\n",
        "   return model"
      ],
      "execution_count": 57,
      "outputs": []
    },
    {
      "cell_type": "code",
      "metadata": {
        "id": "7yhs9sxvxfne",
        "outputId": "a20dac50-7674-4421-b306-a34d294f8180",
        "colab": {
          "base_uri": "https://localhost:8080/"
        }
      },
      "source": [
        "truncated_model3 = create_truncated_model3(model_2)\n",
        "hidden_features3 = truncated_model3.predict(test_X_n[5:10])"
      ],
      "execution_count": 61,
      "outputs": [
        {
          "output_type": "stream",
          "text": [
            "WARNING:tensorflow:6 out of the last 7 calls to <function Model.make_predict_function.<locals>.predict_function at 0x7f30232962f0> triggered tf.function retracing. Tracing is expensive and the excessive number of tracings could be due to (1) creating @tf.function repeatedly in a loop, (2) passing tensors with different shapes, (3) passing Python objects instead of tensors. For (1), please define your @tf.function outside of the loop. For (2), @tf.function has experimental_relax_shapes=True option that relaxes argument shapes that can avoid unnecessary retracing. For (3), please refer to https://www.tensorflow.org/tutorials/customization/performance#python_or_tensor_args and https://www.tensorflow.org/api_docs/python/tf/function for  more details.\n"
          ],
          "name": "stdout"
        }
      ]
    },
    {
      "cell_type": "code",
      "metadata": {
        "id": "PWz9LMHNyDJ7",
        "outputId": "f6476ed6-a868-4ee2-d50c-0626eb7d5e04",
        "colab": {
          "base_uri": "https://localhost:8080/"
        }
      },
      "source": [
        "hidden_features3.shape"
      ],
      "execution_count": 63,
      "outputs": [
        {
          "output_type": "execute_result",
          "data": {
            "text/plain": [
              "(5, 11, 11, 16)"
            ]
          },
          "metadata": {
            "tags": []
          },
          "execution_count": 63
        }
      ]
    },
    {
      "cell_type": "code",
      "metadata": {
        "id": "WIEBqASmxzFH",
        "outputId": "d9b9dcab-472c-4fde-859e-0498af627a3e",
        "colab": {
          "base_uri": "https://localhost:8080/",
          "height": 266
        }
      },
      "source": [
        "# La salida de la segunda capa convolucional\n",
        "for i in range(8):\n",
        "\tpyplot.subplot(330 + 1 + i)\n",
        "\tpyplot.imshow(hidden_features3[0,:,:,i], cmap=pyplot.get_cmap('gray'))\n",
        "pyplot.show()"
      ],
      "execution_count": 62,
      "outputs": [
        {
          "output_type": "display_data",
          "data": {
            "image/png": "[encoded data removed]",
            "text/plain": [
              "<Figure size 432x288 with 8 Axes>"
            ]
          },
          "metadata": {
            "tags": [],
            "needs_background": "light"
          }
        }
      ]
    }
  ]
}