{
  "nbformat": 4,
  "nbformat_minor": 0,
  "metadata": {
    "kernelspec": {
      "display_name": "Python 3",
      "language": "python",
      "name": "python3"
    },
    "language_info": {
      "codemirror_mode": {
        "name": "ipython",
        "version": 3
      },
      "file_extension": ".py",
      "mimetype": "text/x-python",
      "name": "python",
      "nbconvert_exporter": "python",
      "pygments_lexer": "ipython3",
      "version": "3.7.6"
    },
    "colab": {
      "name": "3 - VPC2 - Modelo_convolucional_aplicacion_keras.ipynb",
      "provenance": [],
      "collapsed_sections": []
    }
  },
  "cells": [
    {
      "cell_type": "markdown",
      "metadata": {
        "id": "pBrVHRBf6k_u"
      },
      "source": [
        "# Redes neuronales convolucionales: Aplicación\n",
        "\n",
        "¿Qué vamos a hacer?\n",
        "\n",
        "- Implementar una red convolucional en Keras\n",
        "- Entrenar la red en un dataset con fotos números con señas\n",
        "- Usar la red para predecir en ejemplos nuevos"
      ]
    },
    {
      "cell_type": "code",
      "metadata": {
        "id": "R4BhH8L76wzS",
        "outputId": "a8667674-ecd3-472b-cfa9-898e21050d53",
        "colab": {
          "resources": {
            "http://localhost:8080/nbextensions/google.colab/files.js": {
              "data": "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",
              "ok": true,
              "headers": [
                [
                  "content-type",
                  "application/javascript"
                ]
              ],
              "status": 200,
              "status_text": "OK"
            }
          },
          "base_uri": "https://localhost:8080/",
          "height": 38
        }
      },
      "source": [
        "from google.colab import files\n",
        "from matplotlib import  pyplot\n",
        "\n",
        "uploaded = files.upload()\n",
        "#subir el archivo dataset.zip"
      ],
      "execution_count": 6,
      "outputs": [
        {
          "output_type": "display_data",
          "data": {
            "text/html": [
              "\n",
              "     <input type=\"file\" id=\"files-3465c823-2abe-43e2-8a85-3024a8024cc2\" name=\"files[]\" multiple disabled\n",
              "        style=\"border:none\" />\n",
              "     <output id=\"result-3465c823-2abe-43e2-8a85-3024a8024cc2\">\n",
              "      Upload widget is only available when the cell has been executed in the\n",
              "      current browser session. Please rerun this cell to enable.\n",
              "      </output>\n",
              "      <script src=\"/nbextensions/google.colab/files.js\"></script> "
            ],
            "text/plain": [
              "<IPython.core.display.HTML object>"
            ]
          },
          "metadata": {
            "tags": []
          }
        }
      ]
    },
    {
      "cell_type": "code",
      "metadata": {
        "id": "eGw5Kj617Big",
        "outputId": "a7660b8d-9d7c-4356-e6a1-71c6c0d392d0",
        "colab": {
          "base_uri": "https://localhost:8080/"
        }
      },
      "source": [
        "!unzip dataset.zip"
      ],
      "execution_count": 2,
      "outputs": [
        {
          "output_type": "stream",
          "text": [
            "Archive:  dataset.zip\n",
            "  inflating: cnn_utils.py            \n",
            "   creating: datasets/\n",
            "  inflating: datasets/test_signs.h5  \n",
            "  inflating: datasets/train_signs.h5  \n"
          ],
          "name": "stdout"
        }
      ]
    },
    {
      "cell_type": "code",
      "metadata": {
        "id": "bemhtBtw6k_v"
      },
      "source": [
        "import math\n",
        "import numpy as np\n",
        "import h5py\n",
        "import matplotlib.pyplot as plt\n",
        "import scipy\n",
        "from PIL import Image\n",
        "from scipy import ndimage\n",
        "import tensorflow as tf\n",
        "from tensorflow.python.framework import ops\n",
        "from cnn_utils import *\n",
        "\n",
        "%matplotlib inline\n",
        "np.random.seed(1)"
      ],
      "execution_count": 3,
      "outputs": []
    },
    {
      "cell_type": "code",
      "metadata": {
        "id": "x3gRxLnk6k_z"
      },
      "source": [
        "# Cargar el dataset\n",
        "X_train_orig, Y_train_orig, X_test_orig, Y_test_orig, classes = load_dataset()"
      ],
      "execution_count": 4,
      "outputs": []
    },
    {
      "cell_type": "code",
      "metadata": {
        "id": "YgWdMzvlvhS4",
        "outputId": "c24d9dc3-5be1-4880-94e7-e223ce9808ab",
        "colab": {
          "base_uri": "https://localhost:8080/"
        }
      },
      "source": [
        "X_train_orig.shape"
      ],
      "execution_count": 9,
      "outputs": [
        {
          "output_type": "execute_result",
          "data": {
            "text/plain": [
              "(1080, 64, 64, 3)"
            ]
          },
          "metadata": {
            "tags": []
          },
          "execution_count": 9
        }
      ]
    },
    {
      "cell_type": "markdown",
      "metadata": {
        "id": "rhSMNeoE6k_1"
      },
      "source": [
        "SIGNS es un dataset con una colección de 6 signos hechos con manos representando los números del 0 al 5.\n",
        "\n",
        "<img src=\"https://drive.google.com/uc?export=view&id=1Tm9arSkvypYpXzANQo4C2DtMWzkjA4hO\" style=\"width:800px;height:300px;\">\n",
        "\n",
        "La próxima celda muestra un ejemplo de seña y su label."
      ]
    },
    {
      "cell_type": "code",
      "metadata": {
        "id": "d9WsARvM6k_2",
        "outputId": "7feef90a-7342-499f-d8b6-25ff0ca1cd32",
        "colab": {
          "base_uri": "https://localhost:8080/",
          "height": 287
        }
      },
      "source": [
        "# Ejemplo del dataset\n",
        "index = 100\n",
        "plt.imshow(X_train_orig[index])\n",
        "print (\"y = \" + str(np.squeeze(Y_train_orig[:, index])))"
      ],
      "execution_count": 10,
      "outputs": [
        {
          "output_type": "stream",
          "text": [
            "y = 3\n"
          ],
          "name": "stdout"
        },
        {
          "output_type": "display_data",
          "data": {
            "image/png": "[encoded data removed]",
            "text/plain": [
              "<Figure size 432x288 with 1 Axes>"
            ]
          },
          "metadata": {
            "tags": [],
            "needs_background": "light"
          }
        }
      ]
    },
    {
      "cell_type": "code",
      "metadata": {
        "id": "zjo57DrWyjGf",
        "outputId": "7328433d-2d9c-4a7b-c4ba-22a33bf6bce1",
        "colab": {
          "base_uri": "https://localhost:8080/"
        }
      },
      "source": [
        "Y_train_orig.shape"
      ],
      "execution_count": 11,
      "outputs": [
        {
          "output_type": "execute_result",
          "data": {
            "text/plain": [
              "(1, 1080)"
            ]
          },
          "metadata": {
            "tags": []
          },
          "execution_count": 11
        }
      ]
    },
    {
      "cell_type": "code",
      "metadata": {
        "id": "bTC6DH146k_5",
        "outputId": "1bbf4321-3304-4a2d-c768-f13bdbb2779c",
        "colab": {
          "base_uri": "https://localhost:8080/"
        }
      },
      "source": [
        "# veamos un poco el dataset\n",
        "X_train = X_train_orig/255.\n",
        "X_test = X_test_orig/255.\n",
        "Y_train = convert_to_one_hot(Y_train_orig,6).T\n",
        "Y_test = convert_to_one_hot(Y_test_orig, 6).T\n",
        "print (\"Número de ejemplos de training = \" + str(X_train.shape[0]))\n",
        "print (\"Número de ejemplos de test = \" + str(X_test.shape[0]))\n",
        "print (\"dimensiones de X_train: \" + str(X_train.shape))\n",
        "print (\"dimensiones de Y_train: \" + str(Y_train.shape))\n",
        "print (\"dimensiones de X_test: \" + str(X_test.shape))\n",
        "print (\"dimensiones de Y_test shape: \" + str(Y_test.shape))"
      ],
      "execution_count": 12,
      "outputs": [
        {
          "output_type": "stream",
          "text": [
            "Número de ejemplos de training = 1080\n",
            "Número de ejemplos de test = 120\n",
            "dimensiones de X_train: (1080, 64, 64, 3)\n",
            "dimensiones de Y_train: (1080, 6)\n",
            "dimensiones de X_test: (120, 64, 64, 3)\n",
            "dimensiones de Y_test shape: (120, 6)\n"
          ],
          "name": "stdout"
        }
      ]
    },
    {
      "cell_type": "markdown",
      "metadata": {
        "id": "LfZy9uaX6k_8"
      },
      "source": [
        "Estas son las capas de keras que vamos a utilizar:\n",
        "\n",
        "Capa Convolucional:\n",
        "\n",
        "`Conv2D(\n",
        "    filters, kernel_size, strides=(1, 1), padding='valid', data_format=None,\n",
        "    dilation_rate=(1, 1), groups=1, activation=None, use_bias=True,\n",
        "    kernel_initializer='glorot_uniform', bias_initializer='zeros',\n",
        "    kernel_regularizer=None, bias_regularizer=None, activity_regularizer=None,\n",
        "    kernel_constraint=None, bias_constraint=None, **kwargs\n",
        ")`\n",
        "\n",
        "\n",
        "Capa Max Pooling, la función tiene estos parámetros: \n",
        "\n",
        "`MaxPooling2D(\n",
        "    pool_size=(2, 2), strides=None, padding=\"valid\", data_format=None, **kwargs\n",
        ")`\n",
        "\n",
        "Capa Flatten:\n",
        "\n",
        "`Flatten(\n",
        "    data_format=None, **kwargs\n",
        ")`\n",
        "\n",
        "Capa Dense:\n",
        "\n",
        "`Dense(\n",
        "    units, activation=None, use_bias=True, kernel_initializer='glorot_uniform',\n",
        "    bias_initializer='zeros', kernel_regularizer=None, bias_regularizer=None,\n",
        "    activity_regularizer=None, kernel_constraint=None, bias_constraint=None,\n",
        "    **kwargs\n",
        ")`\n",
        "\n",
        "Fuente: tps://www.tensorflow.org/api_docs/python/tf/keras/layers\n",
        "\n",
        "Estructura de la red en detalle:\n",
        "\n",
        "- CONV2D: filtro de 4x4, 8 canales, stride of 1, padding 'SAME', activación RELU\n",
        "- MAXPOOL: window 8x8, stride 8, padding 'SAME'\n",
        "- CONV2D: filtro de 2x2, 16 canales, stride of 1, padding 'SAME', activación RELU\n",
        "- MAXPOOL: window 4x4, stride 4, padding 'SAME'\n",
        "- FLATTEN\n",
        "- Capa FC con 6 salidas\n"
      ]
    },
    {
      "cell_type": "code",
      "metadata": {
        "id": "kD8i_roF6k_9",
        "outputId": "d18a10dc-0d06-4d77-aec7-b467671058fe",
        "colab": {
          "base_uri": "https://localhost:8080/"
        }
      },
      "source": [
        "from tensorflow.keras.models import Sequential\n",
        "from tensorflow.keras.layers import Dense, MaxPooling2D, Conv2D, Flatten\n",
        "# usar Sequential\n",
        "model = Sequential()\n",
        "# agregar las capas\n",
        "\n",
        "### Comenzar el código acá ###\n",
        "model.add(Conv2D(filters = 8, kernel_size = (4, 4), strides=1, padding='same', activation='relu', input_shape=(64, 64, 3)))\n",
        "# output: ('same' mismo valor que la entrada en la salida luego de la convolucion)->> 64x64x8\n",
        "model.add(MaxPooling2D( pool_size=(8, 8), strides=8, padding='same'))\n",
        "# Pooling con ventana 8x8 y zancada 8 padding same = 64 - 8 /8   + 1 ->> 8x8x8\n",
        "model.add(Conv2D(filters = 16, kernel_size = (2,2), strides=1 , padding='same', activation='relu'))\n",
        "# conv padding same ->>8x8x16\n",
        "model.add(MaxPooling2D(pool_size=(4,4), strides=4,padding='same'))\n",
        "# Pooling ventana 4x4 zancada 4 padding same = 8-4 /4  + 1 = 2 ->> 2x2x16\n",
        "model.add(Flatten())\n",
        "# flatten ->> 64\n",
        "model.add(Dense(6, activation='softmax'))\n",
        "\n",
        "\n",
        "opt = tf.keras.optimizers.Adam(learning_rate=0.01)\n",
        "\n",
        "model.compile(loss=\"categorical_crossentropy\",\n",
        "              optimizer=opt,\n",
        "              metrics=[\"accuracy\"])\n",
        "\n",
        "model_history = model.fit(X_train, Y_train, epochs=40,batch_size= 64,\n",
        "                    validation_data=(X_test, Y_test))"
      ],
      "execution_count": 21,
      "outputs": [
        {
          "output_type": "stream",
          "text": [
            "Epoch 1/40\n",
            "17/17 [==============================] - 2s 105ms/step - loss: 1.8002 - accuracy: 0.1602 - val_loss: 1.7922 - val_accuracy: 0.1667\n",
            "Epoch 2/40\n",
            "17/17 [==============================] - 2s 98ms/step - loss: 1.7884 - accuracy: 0.1769 - val_loss: 1.7851 - val_accuracy: 0.2917\n",
            "Epoch 3/40\n",
            "17/17 [==============================] - 2s 98ms/step - loss: 1.7665 - accuracy: 0.2333 - val_loss: 1.7326 - val_accuracy: 0.2750\n",
            "Epoch 4/40\n",
            "17/17 [==============================] - 2s 100ms/step - loss: 1.6556 - accuracy: 0.3056 - val_loss: 1.6736 - val_accuracy: 0.3250\n",
            "Epoch 5/40\n",
            "17/17 [==============================] - 2s 98ms/step - loss: 1.6090 - accuracy: 0.2898 - val_loss: 1.6468 - val_accuracy: 0.3083\n",
            "Epoch 6/40\n",
            "17/17 [==============================] - 2s 98ms/step - loss: 1.5561 - accuracy: 0.3481 - val_loss: 1.5412 - val_accuracy: 0.4250\n",
            "Epoch 7/40\n",
            "17/17 [==============================] - 2s 99ms/step - loss: 1.5159 - accuracy: 0.3537 - val_loss: 1.4639 - val_accuracy: 0.3833\n",
            "Epoch 8/40\n",
            "17/17 [==============================] - 2s 98ms/step - loss: 1.4582 - accuracy: 0.3898 - val_loss: 1.4056 - val_accuracy: 0.3750\n",
            "Epoch 9/40\n",
            "17/17 [==============================] - 2s 98ms/step - loss: 1.4152 - accuracy: 0.4148 - val_loss: 1.4006 - val_accuracy: 0.4333\n",
            "Epoch 10/40\n",
            "17/17 [==============================] - 2s 99ms/step - loss: 1.3989 - accuracy: 0.4148 - val_loss: 1.3711 - val_accuracy: 0.4167\n",
            "Epoch 11/40\n",
            "17/17 [==============================] - 2s 99ms/step - loss: 1.3619 - accuracy: 0.4454 - val_loss: 1.2974 - val_accuracy: 0.4833\n",
            "Epoch 12/40\n",
            "17/17 [==============================] - 2s 99ms/step - loss: 1.3308 - accuracy: 0.4704 - val_loss: 1.3184 - val_accuracy: 0.4500\n",
            "Epoch 13/40\n",
            "17/17 [==============================] - 2s 99ms/step - loss: 1.3106 - accuracy: 0.4676 - val_loss: 1.2323 - val_accuracy: 0.5250\n",
            "Epoch 14/40\n",
            "17/17 [==============================] - 2s 98ms/step - loss: 1.2786 - accuracy: 0.4852 - val_loss: 1.1856 - val_accuracy: 0.5250\n",
            "Epoch 15/40\n",
            "17/17 [==============================] - 2s 98ms/step - loss: 1.2176 - accuracy: 0.5296 - val_loss: 1.1722 - val_accuracy: 0.5167\n",
            "Epoch 16/40\n",
            "17/17 [==============================] - 2s 100ms/step - loss: 1.2348 - accuracy: 0.4926 - val_loss: 1.1226 - val_accuracy: 0.5250\n",
            "Epoch 17/40\n",
            "17/17 [==============================] - 2s 99ms/step - loss: 1.1597 - accuracy: 0.5481 - val_loss: 1.0893 - val_accuracy: 0.5583\n",
            "Epoch 18/40\n",
            "17/17 [==============================] - 2s 98ms/step - loss: 1.1223 - accuracy: 0.5741 - val_loss: 1.0487 - val_accuracy: 0.6083\n",
            "Epoch 19/40\n",
            "17/17 [==============================] - 2s 99ms/step - loss: 1.1216 - accuracy: 0.5676 - val_loss: 1.0354 - val_accuracy: 0.5667\n",
            "Epoch 20/40\n",
            "17/17 [==============================] - 2s 99ms/step - loss: 1.1115 - accuracy: 0.5611 - val_loss: 1.0206 - val_accuracy: 0.5667\n",
            "Epoch 21/40\n",
            "17/17 [==============================] - 2s 99ms/step - loss: 1.0635 - accuracy: 0.5824 - val_loss: 0.9876 - val_accuracy: 0.5917\n",
            "Epoch 22/40\n",
            "17/17 [==============================] - 2s 100ms/step - loss: 1.0311 - accuracy: 0.6120 - val_loss: 0.9578 - val_accuracy: 0.6000\n",
            "Epoch 23/40\n",
            "17/17 [==============================] - 2s 99ms/step - loss: 1.0212 - accuracy: 0.6028 - val_loss: 0.9670 - val_accuracy: 0.5917\n",
            "Epoch 24/40\n",
            "17/17 [==============================] - 2s 99ms/step - loss: 1.0067 - accuracy: 0.6120 - val_loss: 0.9518 - val_accuracy: 0.6000\n",
            "Epoch 25/40\n",
            "17/17 [==============================] - 2s 99ms/step - loss: 0.9821 - accuracy: 0.6130 - val_loss: 0.9862 - val_accuracy: 0.5583\n",
            "Epoch 26/40\n",
            "17/17 [==============================] - 2s 100ms/step - loss: 0.9782 - accuracy: 0.6259 - val_loss: 0.9343 - val_accuracy: 0.5750\n",
            "Epoch 27/40\n",
            "17/17 [==============================] - 2s 99ms/step - loss: 0.9489 - accuracy: 0.6370 - val_loss: 0.8895 - val_accuracy: 0.5833\n",
            "Epoch 28/40\n",
            "17/17 [==============================] - 2s 100ms/step - loss: 0.9403 - accuracy: 0.6444 - val_loss: 0.9630 - val_accuracy: 0.6000\n",
            "Epoch 29/40\n",
            "17/17 [==============================] - 2s 100ms/step - loss: 0.9381 - accuracy: 0.6194 - val_loss: 0.9746 - val_accuracy: 0.5917\n",
            "Epoch 30/40\n",
            "17/17 [==============================] - 2s 99ms/step - loss: 0.9301 - accuracy: 0.6380 - val_loss: 0.9475 - val_accuracy: 0.6167\n",
            "Epoch 31/40\n",
            "17/17 [==============================] - 2s 99ms/step - loss: 0.9374 - accuracy: 0.6370 - val_loss: 0.9169 - val_accuracy: 0.6333\n",
            "Epoch 32/40\n",
            "17/17 [==============================] - 2s 99ms/step - loss: 0.9454 - accuracy: 0.6380 - val_loss: 0.9220 - val_accuracy: 0.6083\n",
            "Epoch 33/40\n",
            "17/17 [==============================] - 2s 100ms/step - loss: 0.8835 - accuracy: 0.6722 - val_loss: 0.8918 - val_accuracy: 0.6333\n",
            "Epoch 34/40\n",
            "17/17 [==============================] - 2s 99ms/step - loss: 0.8573 - accuracy: 0.6639 - val_loss: 0.8336 - val_accuracy: 0.6917\n",
            "Epoch 35/40\n",
            "17/17 [==============================] - 2s 99ms/step - loss: 0.8452 - accuracy: 0.6870 - val_loss: 0.8395 - val_accuracy: 0.6583\n",
            "Epoch 36/40\n",
            "17/17 [==============================] - 2s 99ms/step - loss: 0.8521 - accuracy: 0.6685 - val_loss: 0.8130 - val_accuracy: 0.6750\n",
            "Epoch 37/40\n",
            "17/17 [==============================] - 2s 99ms/step - loss: 0.8363 - accuracy: 0.6870 - val_loss: 0.8097 - val_accuracy: 0.6583\n",
            "Epoch 38/40\n",
            "17/17 [==============================] - 2s 99ms/step - loss: 0.8110 - accuracy: 0.7065 - val_loss: 0.7930 - val_accuracy: 0.6917\n",
            "Epoch 39/40\n",
            "17/17 [==============================] - 2s 101ms/step - loss: 0.8064 - accuracy: 0.6954 - val_loss: 0.8158 - val_accuracy: 0.6750\n",
            "Epoch 40/40\n",
            "17/17 [==============================] - 2s 99ms/step - loss: 0.7890 - accuracy: 0.7009 - val_loss: 0.8008 - val_accuracy: 0.7167\n"
          ],
          "name": "stdout"
        }
      ]
    },
    {
      "cell_type": "code",
      "metadata": {
        "id": "65s177XE6k__",
        "outputId": "4f7d4809-837a-4936-d385-0f2bd0cdf594",
        "colab": {
          "base_uri": "https://localhost:8080/"
        }
      },
      "source": [
        "model.summary()"
      ],
      "execution_count": null,
      "outputs": [
        {
          "output_type": "stream",
          "text": [
            "Model: \"sequential_1\"\n",
            "_________________________________________________________________\n",
            "Layer (type)                 Output Shape              Param #   \n",
            "=================================================================\n",
            "conv2d_1 (Conv2D)            (None, 64, 64, 8)         392       \n",
            "_________________________________________________________________\n",
            "max_pooling2d_1 (MaxPooling2 (None, 8, 8, 8)           0         \n",
            "_________________________________________________________________\n",
            "conv2d_2 (Conv2D)            (None, 8, 8, 16)          528       \n",
            "_________________________________________________________________\n",
            "max_pooling2d_2 (MaxPooling2 (None, 2, 2, 16)          0         \n",
            "_________________________________________________________________\n",
            "flatten (Flatten)            (None, 64)                0         \n",
            "_________________________________________________________________\n",
            "dense (Dense)                (None, 6)                 390       \n",
            "=================================================================\n",
            "Total params: 1,310\n",
            "Trainable params: 1,310\n",
            "Non-trainable params: 0\n",
            "_________________________________________________________________\n"
          ],
          "name": "stdout"
        }
      ]
    },
    {
      "cell_type": "code",
      "metadata": {
        "id": "YXaiu3lAOquH",
        "outputId": "d24b05b0-18a8-48c2-a67c-e13eb2c5aa6a",
        "colab": {
          "base_uri": "https://localhost:8080/",
          "height": 229
        }
      },
      "source": [
        "# Predecir las imagenes\n",
        "predicciones = model.predict(X_test[:6])\n",
        "\n",
        "\n",
        "# Chequear que son correctas\n",
        "#print(Y_test[:5])\n",
        "print('Los valores reales son : {} '.format(np.argmax(Y_test[0:6], axis=1)))\n",
        "\n",
        "# Plotear esas imágenes\n",
        "for i in range(6):\n",
        "\tpyplot.subplot(330 + 1 + i)\n",
        "\tpyplot.imshow(X_test[i], cmap=pyplot.get_cmap('gray'))\n",
        "pyplot.show()\n",
        "\n",
        "# Imprimir las predicciones\n",
        "print('Los valores de la prediccion son : {} '.format(np.argmax(predicciones, axis=1))) "
      ],
      "execution_count": 29,
      "outputs": [
        {
          "output_type": "stream",
          "text": [
            "Los valores reales son : [0 0 0 5 1 0] \n"
          ],
          "name": "stdout"
        },
        {
          "output_type": "display_data",
          "data": {
            "image/png": "[encoded data removed]",
            "text/plain": [
              "<Figure size 432x288 with 6 Axes>"
            ]
          },
          "metadata": {
            "tags": [],
            "needs_background": "light"
          }
        },
        {
          "output_type": "stream",
          "text": [
            "Los valores de la prediccion son : [0 0 0 5 3 0] \n"
          ],
          "name": "stdout"
        }
      ]
    }
  ]
}